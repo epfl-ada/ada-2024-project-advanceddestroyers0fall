{
 "cells": [
  {
   "cell_type": "markdown",
   "id": "d3db8c72-e78c-4cd2-81e8-921204523fbd",
   "metadata": {},
   "source": [
    "# We extract a cluster of Bollywood movies from our dataset"
   ]
  },
  {
   "cell_type": "code",
   "execution_count": 1,
   "id": "4cc893d1-1760-408f-9ed7-cfee31e3710e",
   "metadata": {},
   "outputs": [],
   "source": [
    "import pandas as pd\n",
    "import requests\n",
    "import matplotlib.pyplot as plt\n",
    "import plotly.express as px\n",
    "import plotly.io as pio"
   ]
  },
  {
   "cell_type": "markdown",
   "id": "687fad21-b5f7-492b-ba16-c4cef640faa1",
   "metadata": {},
   "source": [
    "## 0. Extraction of Bollywood movies"
   ]
  },
  {
   "cell_type": "code",
   "execution_count": 2,
   "id": "5ea10149-55bf-4cda-8680-980bf0307e5f",
   "metadata": {},
   "outputs": [],
   "source": [
    "def get_labels(freebase_ids, batch_size=50):\n",
    "    \"\"\"\n",
    "    Convert an array of Freebase IDs to their corresponding labels from Wikidata.\n",
    "    \n",
    "    Parameters:\n",
    "    - freebase_ids (list): List of Freebase IDs.\n",
    "    - batch_size (int): Number of Freebase IDs per batch to query in one request.\n",
    "    \n",
    "    Returns:\n",
    "    - dict: Dictionary with Freebase IDs as keys and their labels as values.\n",
    "    \"\"\"\n",
    "    # Helper function to split IDs into batches\n",
    "    def split_into_batches(lst, batch_size):\n",
    "        for i in range(0, len(lst), batch_size):\n",
    "            yield lst[i:i + batch_size]\n",
    "\n",
    "    # Dictionary to store the mappings\n",
    "    freebase_to_label = {}\n",
    "\n",
    "    # Iterate over batches of Freebase IDs\n",
    "    for batch in split_into_batches(freebase_ids, batch_size):\n",
    "        # Create a SPARQL query for the batch\n",
    "        query = \"\"\"\n",
    "        SELECT ?freebase_id ?item ?itemLabel WHERE {\n",
    "          VALUES ?freebase_id {\"\"\" + \" \".join([f'\"{fb_id}\"' for fb_id in batch]) + \"\"\"}\n",
    "          ?item wdt:P646 ?freebase_id.\n",
    "          SERVICE wikibase:label { bd:serviceParam wikibase:language \"[AUTO_LANGUAGE],en\". }\n",
    "        }\n",
    "        \"\"\"\n",
    "\n",
    "        # Endpoint and headers for the Wikidata SPARQL\n",
    "        url = \"https://query.wikidata.org/sparql\"\n",
    "        headers = {\n",
    "            \"User-Agent\": \"Mozilla/5.0\",\n",
    "            \"Accept\": \"application/json\"\n",
    "        }\n",
    "\n",
    "        # Send the request to Wikidata\n",
    "        response = requests.get(url, headers=headers, params={\"query\": query, \"format\": \"json\"})\n",
    "\n",
    "        # Check for successful response\n",
    "        if response.status_code == 200:\n",
    "            data = response.json()\n",
    "            # Parse and store the results\n",
    "            if 'results' in data and 'bindings' in data['results']:\n",
    "                for result in data['results']['bindings']:\n",
    "                    freebase_id = result['freebase_id']['value']\n",
    "                    label = result['itemLabel']['value']\n",
    "                    freebase_to_label[freebase_id] = label\n",
    "            else:\n",
    "                print(\"No valid data found in response for this batch.\")\n",
    "        else:\n",
    "            print(f\"Error: Received status code {response.status_code} for batch starting with {batch[0]}\")\n",
    "    \n",
    "    return freebase_to_label"
   ]
  },
  {
   "cell_type": "markdown",
   "id": "ffc97cbd-4148-4010-a7c2-75a2ce405bef",
   "metadata": {},
   "source": [
    "#### Load the Movie MetaData:"
   ]
  },
  {
   "cell_type": "markdown",
   "id": "abfc0ad8-2aef-4dcc-a221-16b2303ce3f2",
   "metadata": {},
   "source": [
    "Since the movie metadata file has no headers, we add them, to make extraction of columns' content simpler and clearer"
   ]
  },
  {
   "cell_type": "code",
   "execution_count": 3,
   "id": "926878c1-c8d8-49d4-85a9-71780b40d971",
   "metadata": {},
   "outputs": [],
   "source": [
    "# Load the movie metadata file\n",
    "movie_metadata = pd.read_csv('MovieSummaries/movie.metadata.tsv', sep='\\t', header=None, \n",
    "                             names=['Wikipedia_ID', 'Freebase_ID', 'Movie_Name', 'Release_Date', 'Box_Office', \n",
    "                                    'Runtime', 'Languages', 'Countries', 'Genres'])"
   ]
  },
  {
   "cell_type": "code",
   "execution_count": 4,
   "id": "2d5d7dd7-ae3d-4fcf-9551-d0b008eeb2a0",
   "metadata": {},
   "outputs": [
    {
     "data": {
      "text/plain": [
       "['Wikipedia_ID',\n",
       " 'Freebase_ID',\n",
       " 'Movie_Name',\n",
       " 'Release_Date',\n",
       " 'Box_Office',\n",
       " 'Runtime',\n",
       " 'Languages',\n",
       " 'Countries',\n",
       " 'Genres']"
      ]
     },
     "execution_count": 4,
     "metadata": {},
     "output_type": "execute_result"
    }
   ],
   "source": [
    "list(movie_metadata.columns)"
   ]
  },
  {
   "cell_type": "code",
   "execution_count": 5,
   "id": "113ac152-288d-47fe-b409-138294c1f74c",
   "metadata": {},
   "outputs": [
    {
     "name": "stdout",
     "output_type": "stream",
     "text": [
      "0                   {\"/m/02h40lc\": \"English Language\"}\n",
      "1                   {\"/m/02h40lc\": \"English Language\"}\n",
      "2                   {\"/m/05f_3\": \"Norwegian Language\"}\n",
      "3                   {\"/m/02h40lc\": \"English Language\"}\n",
      "4                    {\"/m/04306rv\": \"German Language\"}\n",
      "5    {\"/m/06ppq\": \"Silent film\", \"/m/02h40lc\": \"Eng...\n",
      "6                   {\"/m/02h40lc\": \"English Language\"}\n",
      "7                   {\"/m/02h40lc\": \"English Language\"}\n",
      "8                     {\"/m/06nm1\": \"Spanish Language\"}\n",
      "9                   {\"/m/02h40lc\": \"English Language\"}\n",
      "Name: Languages, dtype: object\n"
     ]
    }
   ],
   "source": [
    "print(movie_metadata['Languages'][:10])"
   ]
  },
  {
   "cell_type": "markdown",
   "id": "92125051-c6d4-455a-bd0f-88ec019997af",
   "metadata": {},
   "source": [
    "#### Filter Metadata:\n",
    "\n",
    "* We use **movie.metadata.tsv** to identify Bollywood movies based on criteria such as the **Movie countries**  column. Bollywood movies are typically produced in \"**India**\".\n",
    "\n",
    "* We check the **genres** column for tags like \"**Bollywood**\"."
   ]
  },
  {
   "cell_type": "code",
   "execution_count": 6,
   "id": "c6f3094b-925c-421d-acbe-0ff03aed71ec",
   "metadata": {},
   "outputs": [],
   "source": [
    "bollywood_movies = movie_metadata[ \n",
    "    (movie_metadata['Countries'].str.contains('India', case= False, na= False)) | \n",
    "    (movie_metadata['Genres'].str.contains('Bollywood', case= False, na= False))\n",
    "]"
   ]
  },
  {
   "cell_type": "code",
   "execution_count": 7,
   "id": "943ffd44-2bd7-4331-b7ed-cf8237e302fb",
   "metadata": {},
   "outputs": [
    {
     "name": "stdout",
     "output_type": "stream",
     "text": [
      "Number of Bollywood movies found: 8428\n"
     ]
    }
   ],
   "source": [
    "# Display the filtered Bollywood movies\n",
    "print(\"Number of Bollywood movies found:\", len(bollywood_movies))"
   ]
  },
  {
   "cell_type": "code",
   "execution_count": 8,
   "id": "42f28991-db97-42d5-967c-178c9a119cf5",
   "metadata": {},
   "outputs": [
    {
     "name": "stdout",
     "output_type": "stream",
     "text": [
      "Pourcentage of Bollywood movies overall: 10.31%\n"
     ]
    }
   ],
   "source": [
    "# Display pourcentage of Bollywood movies overall\n",
    "print(f\"Pourcentage of Bollywood movies overall: {len(bollywood_movies)/len(movie_metadata)*100:.2f}%\")"
   ]
  },
  {
   "cell_type": "code",
   "execution_count": 9,
   "id": "33d8857f-6d06-4952-8a15-a59e9e72a879",
   "metadata": {},
   "outputs": [],
   "source": [
    "# Extract the Wikipedia IDs of Bollywood movies for filtering other files\n",
    "bollywood_movie_ids = bollywood_movies['Wikipedia_ID']"
   ]
  },
  {
   "cell_type": "code",
   "execution_count": 10,
   "id": "1f476783-0d3b-441e-b44b-67312ab31d56",
   "metadata": {},
   "outputs": [
    {
     "name": "stdout",
     "output_type": "stream",
     "text": [
      "27    20604092\n",
      "30    11448183\n",
      "31     9633533\n",
      "35    29528534\n",
      "37    29772142\n",
      "Name: Wikipedia_ID, dtype: int64\n"
     ]
    }
   ],
   "source": [
    "# Chekc for first 5 Bollywood Movie IDs\n",
    "print(bollywood_movie_ids[:5])"
   ]
  },
  {
   "cell_type": "markdown",
   "id": "0268c716-302f-4955-9fd9-f950208bb34f",
   "metadata": {},
   "source": [
    "#### Load other metadata files and perform extraction in all Data Files"
   ]
  },
  {
   "cell_type": "markdown",
   "id": "3204804d-1504-4705-9cd4-01b6a7dcb9a1",
   "metadata": {},
   "source": [
    "**Bollywood Movie Metadata:**"
   ]
  },
  {
   "cell_type": "code",
   "execution_count": 11,
   "id": "6960ff77-6d98-441a-97ff-4b2850722880",
   "metadata": {},
   "outputs": [
    {
     "name": "stdout",
     "output_type": "stream",
     "text": [
      "Bollywood movies metadata saved.\n"
     ]
    }
   ],
   "source": [
    "# Save the filtered Bollywood movies metadata for future use\n",
    "bollywood_movies.to_csv('BollywoodMovieSummaries/bollywood.movie.metadata.tsv', sep='\\t', index=False)\n",
    "print(\"Bollywood movies metadata saved.\")"
   ]
  },
  {
   "cell_type": "markdown",
   "id": "47e522c5-6b8b-414a-8b5b-0257f20acb8b",
   "metadata": {},
   "source": [
    "**Bollywood Character Metadata:**"
   ]
  },
  {
   "cell_type": "code",
   "execution_count": 12,
   "id": "0fec67d9-79cc-48e5-91e4-d420e1d3218c",
   "metadata": {},
   "outputs": [],
   "source": [
    "# Load character metadata file and filter for Bollywood movies\n",
    "character_metadata = pd.read_csv('MovieSummaries/character.metadata.tsv', sep='\\t', header=None,\n",
    "                                 names=['Wikipedia_ID', 'Freebase_ID', 'Release_Date', 'Character_Name', \n",
    "                                        'Actor_DOB', 'Actor_Gender', 'Actor_Height', 'Actor_Ethnicity', \n",
    "                                        'Actor_Name', 'Actor_Age', 'Freebase_Char_Actor_Map_ID', \n",
    "                                        'Freebase_Char_ID', 'Freebase_Actor_ID'])"
   ]
  },
  {
   "cell_type": "code",
   "execution_count": 13,
   "id": "d9c055cc-dd7f-4f81-94d5-079d1a451637",
   "metadata": {},
   "outputs": [
    {
     "data": {
      "text/plain": [
       "['Wikipedia_ID',\n",
       " 'Freebase_ID',\n",
       " 'Release_Date',\n",
       " 'Character_Name',\n",
       " 'Actor_DOB',\n",
       " 'Actor_Gender',\n",
       " 'Actor_Height',\n",
       " 'Actor_Ethnicity',\n",
       " 'Actor_Name',\n",
       " 'Actor_Age',\n",
       " 'Freebase_Char_Actor_Map_ID',\n",
       " 'Freebase_Char_ID',\n",
       " 'Freebase_Actor_ID']"
      ]
     },
     "execution_count": 13,
     "metadata": {},
     "output_type": "execute_result"
    }
   ],
   "source": [
    "list(character_metadata.columns)"
   ]
  },
  {
   "cell_type": "code",
   "execution_count": 14,
   "id": "17eea5d5-6041-4bf3-8b98-213f957a0c31",
   "metadata": {},
   "outputs": [
    {
     "name": "stdout",
     "output_type": "stream",
     "text": [
      "0           NaN\n",
      "1    /m/044038p\n",
      "2       /m/0x67\n",
      "3           NaN\n",
      "4           NaN\n",
      "Name: Actor_Ethnicity, dtype: object\n"
     ]
    }
   ],
   "source": [
    "print(character_metadata['Actor_Ethnicity'][:5])"
   ]
  },
  {
   "cell_type": "code",
   "execution_count": 15,
   "id": "e300215e-fdcd-47d2-af54-c18f8cb2ef1e",
   "metadata": {},
   "outputs": [],
   "source": [
    "# Filter character metadata for Bollywood movies using the extracted Wikipedia IDs\n",
    "bollywood_characters = character_metadata[character_metadata['Wikipedia_ID'].isin(bollywood_movie_ids)]"
   ]
  },
  {
   "cell_type": "code",
   "execution_count": 16,
   "id": "d4f8bb15-0540-4965-bb5c-ee3c400c00a8",
   "metadata": {},
   "outputs": [
    {
     "name": "stdout",
     "output_type": "stream",
     "text": [
      "Number of Bollywood Characters extracted: 47065\n"
     ]
    }
   ],
   "source": [
    "# Print the number of Bollywood characters extracted \n",
    "print(f\"Number of Bollywood Characters extracted: {len(bollywood_characters)}\")"
   ]
  },
  {
   "cell_type": "code",
   "execution_count": 17,
   "id": "f85394d5-2ecf-4309-b5cd-9d4ec5f5cdf4",
   "metadata": {},
   "outputs": [
    {
     "name": "stdout",
     "output_type": "stream",
     "text": [
      "Number of Bollywood Characters extracted: 10.44%\n"
     ]
    }
   ],
   "source": [
    "# Print the pourcentage of Bollywood characters overall\n",
    "print(f\"Number of Bollywood Characters extracted: {len(bollywood_characters)/len(character_metadata)*100:.2f}%\")"
   ]
  },
  {
   "cell_type": "code",
   "execution_count": 18,
   "id": "57dfa93f-fea9-4a2e-8945-f44ad7f759ea",
   "metadata": {},
   "outputs": [
    {
     "name": "stdout",
     "output_type": "stream",
     "text": [
      "Bollywood characters metadata saved.\n"
     ]
    }
   ],
   "source": [
    "# Save the filtered Bollywood character metadata for future use\n",
    "bollywood_characters.to_csv('BollywoodMovieSummaries/bollywood.characters.metadata.tsv', sep='\\t', index=False)\n",
    "print(\"Bollywood characters metadata saved.\")"
   ]
  },
  {
   "cell_type": "code",
   "execution_count": 19,
   "id": "487ed7ca-00f2-4dc8-a9e0-82d5d9253014",
   "metadata": {},
   "outputs": [
    {
     "name": "stdout",
     "output_type": "stream",
     "text": [
      "Unique Actor Ethnicities in Bollywood Character Metadata (Freebase IDs):\n",
      "[nan '/m/0dryh9k' '/m/048sp5' '/m/04mvp8' '/m/0cqgdq']\n",
      "\n",
      "Ethnicity Counts (Freebase IDs):\n",
      "Actor_Ethnicity\n",
      "/m/0dryh9k    14685\n",
      "/m/01rv7x      1068\n",
      "/m/02sch9      1003\n",
      "/m/04mvp8       937\n",
      "/m/0cqgdq       795\n",
      "Name: count, dtype: int64\n"
     ]
    }
   ],
   "source": [
    "# Count Ethnicities: This step gives us an overview of the ethnic diversity in the Bollywood\n",
    "# character metadata, helping to validate if the data predominantly represents expected groups. \n",
    "# (Simple check of wether the character extraction has expected results and is therefore correct.)\n",
    "\n",
    "# Step 1: Initial Check of Unique Ethnicities and Counts (before conversion)\n",
    "unique_ethnicities = bollywood_characters['Actor_Ethnicity'].unique()\n",
    "print(\"Unique Actor Ethnicities in Bollywood Character Metadata (Freebase IDs):\")\n",
    "print(unique_ethnicities[:5])  # Display first 5 unique IDs\n",
    "\n",
    "# Count occurrences of each ethnicity (using Freebase IDs)\n",
    "ethnicity_counts = bollywood_characters['Actor_Ethnicity'].value_counts()\n",
    "print(\"\\nEthnicity Counts (Freebase IDs):\")\n",
    "print(ethnicity_counts[:5])  # Display top 5 counts"
   ]
  },
  {
   "cell_type": "markdown",
   "id": "0cee65d4-3f6e-4cd8-b259-5f9e255d21c6",
   "metadata": {},
   "source": [
    "We wonvert the Freebase IDs to actual labels in order to make analysis simpler and clearer"
   ]
  },
  {
   "cell_type": "code",
   "execution_count": 20,
   "id": "a871f0f8-94e3-48d6-aece-e9f7211ce585",
   "metadata": {},
   "outputs": [
    {
     "name": "stderr",
     "output_type": "stream",
     "text": [
      "C:\\Users\\Donia\\AppData\\Local\\Temp\\ipykernel_13156\\4129977888.py:9: SettingWithCopyWarning: \n",
      "A value is trying to be set on a copy of a slice from a DataFrame.\n",
      "Try using .loc[row_indexer,col_indexer] = value instead\n",
      "\n",
      "See the caveats in the documentation: https://pandas.pydata.org/pandas-docs/stable/user_guide/indexing.html#returning-a-view-versus-a-copy\n",
      "  bollywood_characters['Actor_Ethnicity'] = bollywood_characters['Actor_Ethnicity'].map(ethnicity_label_mapping).fillna(bollywood_characters['Actor_Ethnicity'])\n"
     ]
    },
    {
     "name": "stdout",
     "output_type": "stream",
     "text": [
      "Ethnicity Counts (Converted Labels):\n",
      "Actor_Ethnicity\n",
      "Indians           14685\n",
      "Tamil              1068\n",
      "Punjabis           1003\n",
      "Malayali            937\n",
      "Marathi people      795\n",
      "Name: count, dtype: int64\n",
      "25194\n",
      "14685\n",
      "Percentage of 'Indians' ethnicity over all ethnicities: 58.29%\n"
     ]
    }
   ],
   "source": [
    "# Step 2: Convert Freebase IDs to Actual Ethnicity Labels\n",
    "# Get a list of all unique Freebase IDs in the 'Actor_Ethnicity' column\n",
    "freebase_ids = unique_ethnicities\n",
    "\n",
    "# Use the function to convert Freebase IDs to labels\n",
    "ethnicity_label_mapping = get_labels(freebase_ids)\n",
    "\n",
    "# Step 3: Overwrite 'Actor_Ethnicity' column with actual labels\n",
    "bollywood_characters['Actor_Ethnicity'] = bollywood_characters['Actor_Ethnicity'].map(ethnicity_label_mapping).fillna(bollywood_characters['Actor_Ethnicity'])\n",
    "\n",
    "# Save the updated DataFrame to a TSV file\n",
    "bollywood_characters.to_csv('BollywoodMovieSummaries/bollywood.characters.metadata.tsv', sep='\\t', index=False)\n",
    "\n",
    "# Count occurrences of each ethnicity (using actual labels)\n",
    "ethnicity_counts_converted = bollywood_characters['Actor_Ethnicity'].value_counts()\n",
    "print(\"Ethnicity Counts (Converted Labels):\")\n",
    "print(ethnicity_counts_converted[:5])  # Display top 5 counts\n",
    "\n",
    "# Print pourcentage of indian ethnicity overall\n",
    "# Total number of ethnicities in the dataset\n",
    "total_ethnicities = bollywood_characters['Actor_Ethnicity'].notna().sum()\n",
    "print(total_ethnicities)\n",
    "# Count of \"Indians\" in the dataset\n",
    "indians_count = bollywood_characters['Actor_Ethnicity'].value_counts().get('Indians', 0)\n",
    "print(indians_count)\n",
    "# Calculate the percentage\n",
    "indians_percentage = (indians_count / total_ethnicities) * 100\n",
    "# Print the result\n",
    "print(f\"Percentage of 'Indians' ethnicity over all ethnicities: {indians_percentage:.2f}%\")"
   ]
  },
  {
   "cell_type": "markdown",
   "id": "02c088fc-a541-454b-a881-66becd9afb38",
   "metadata": {},
   "source": [
    "**=> As we can see ethnicities' occurences confirm that we're on the right track for our Bollywood dataset extraction!**"
   ]
  },
  {
   "cell_type": "markdown",
   "id": "88e29d96-744c-4196-93a1-8736b44d80f8",
   "metadata": {},
   "source": [
    "**Bollywood Plot Summaries Metadata**"
   ]
  },
  {
   "cell_type": "code",
   "execution_count": 21,
   "id": "9e16c067-7465-4e83-935c-b78b7696583c",
   "metadata": {},
   "outputs": [],
   "source": [
    "# Load plot summaries\n",
    "plot_summaries = pd.read_csv('MovieSummaries/plot_summaries.txt', sep='\\t', header=None, names=['Wikipedia_ID', 'Plot_Summary'])"
   ]
  },
  {
   "cell_type": "code",
   "execution_count": 22,
   "id": "0d2b3bda-3373-40f6-8f6f-4c60a1a74e90",
   "metadata": {},
   "outputs": [],
   "source": [
    "# Filter for Bollywood movie summaries\n",
    "bollywood_plot_summaries = plot_summaries[plot_summaries['Wikipedia_ID'].isin(bollywood_movie_ids)]"
   ]
  },
  {
   "cell_type": "code",
   "execution_count": 23,
   "id": "24dbc452-50fc-4c26-ae65-1ab3a9daf0c4",
   "metadata": {},
   "outputs": [
    {
     "name": "stdout",
     "output_type": "stream",
     "text": [
      "Number of Bollywood movies summaries:  4762\n",
      "We only have plot summaries of  56.50% of Bollywood movies\n"
     ]
    }
   ],
   "source": [
    "# Print Number of extracted Summaries\n",
    "print(\"Number of Bollywood movies summaries: \", len(bollywood_plot_summaries))\n",
    "print(\"We only have plot summaries of \", f\"{(len(bollywood_plot_summaries)/len(bollywood_movies)*100):.2f}% of Bollywood movies\")"
   ]
  },
  {
   "cell_type": "markdown",
   "id": "799e249f-1763-4a83-8b81-d2a444d73512",
   "metadata": {},
   "source": [
    "This is due to plot_summaries.txt having mission content and therefore the data doesn't have all movies' summaries. We can check this by comparing number of all movies and all summaries overall (and not just for Bollywood)."
   ]
  },
  {
   "cell_type": "code",
   "execution_count": 24,
   "id": "c8ec455f-4717-4bed-90ba-59e77a40a1bd",
   "metadata": {},
   "outputs": [
    {
     "name": "stdout",
     "output_type": "stream",
     "text": [
      "Number of available movies in the dataset: 81741\n",
      "Number of available summaries in the dataset: 42303\n",
      "We only have plot summaries of  51.75% of movies\n"
     ]
    }
   ],
   "source": [
    "# Count the total number of movies and summaries\n",
    "total_movies = len(movie_metadata)\n",
    "total_summaries = len(plot_summaries)\n",
    "print(\"Number of available movies in the dataset:\", total_movies)\n",
    "print(\"Number of available summaries in the dataset:\", total_summaries)\n",
    "print(\"We only have plot summaries of \", f\"{(total_summaries/total_movies*100):.2f}% of movies\")"
   ]
  },
  {
   "cell_type": "code",
   "execution_count": 25,
   "id": "b08ba039-ff8e-42ff-99bf-a3924f45311a",
   "metadata": {},
   "outputs": [
    {
     "name": "stdout",
     "output_type": "stream",
     "text": [
      "Sample of Bollywood Movie Plot Summaries:\n",
      "    Wikipedia_ID                                       Plot_Summary\n",
      "2       20663735  Poovalli Induchoodan  is sentenced for six yea...\n",
      "25       8388648  The film opens with Madhav  and Sreenu  playin...\n",
      "26      10644072  A villager new to the big city – Bhagwaan  – t...\n",
      "28      33269085  Ranchhod Rai Patel  is an egotistical and arro...\n",
      "29       2254491  Preetam , a struggling cartoonist, meets Anita...\n"
     ]
    }
   ],
   "source": [
    "# Display a sample of the extracted Bollywood summaries\n",
    "print(\"Sample of Bollywood Movie Plot Summaries:\")\n",
    "print(bollywood_plot_summaries.head())"
   ]
  },
  {
   "cell_type": "code",
   "execution_count": 26,
   "id": "fa6f08b1-f29e-4852-b761-5151a9fd0d0a",
   "metadata": {},
   "outputs": [
    {
     "name": "stdout",
     "output_type": "stream",
     "text": [
      "Bollywood Plot Summaries Metadata saved.\n"
     ]
    }
   ],
   "source": [
    "bollywood_plot_summaries.to_csv('BollywoodMovieSummaries/bollywood.plot.summaries.tsv', sep= '\\t', index= False) \n",
    "print(\"Bollywood Plot Summaries Metadata saved.\")"
   ]
  },
  {
   "cell_type": "markdown",
   "id": "9b3c8041-62b7-4d0f-8fba-0feb2a0f8e5e",
   "metadata": {},
   "source": [
    "# Gather and analyze basic statistics"
   ]
  },
  {
   "cell_type": "markdown",
   "id": "4e2c581a-5f27-400a-a14c-c64cad522b3a",
   "metadata": {},
   "source": [
    "## 1. Ethnicities Representation Analysis"
   ]
  },
  {
   "cell_type": "markdown",
   "id": "665f1fa6-101b-4148-af56-96fd7394121d",
   "metadata": {},
   "source": [
    "**Non-interactive pie chart**"
   ]
  },
  {
   "cell_type": "code",
   "execution_count": 27,
   "id": "f6c67602-2581-4524-98da-2c2175140679",
   "metadata": {},
   "outputs": [
    {
     "data": {
      "image/png": "[encoded data removed]",
      "text/plain": [
       "<Figure size 500x500 with 1 Axes>"
      ]
     },
     "metadata": {},
     "output_type": "display_data"
    }
   ],
   "source": [
    "# Get the top 5 ethnicities by count\n",
    "top_ethnicities = bollywood_characters['Actor_Ethnicity'].value_counts().nlargest(5)\n",
    "\n",
    "# Plot a pie chart to show the distribution of the top 5 ethnicities\n",
    "plt.figure(figsize=(5, 5))\n",
    "plt.pie(top_ethnicities, labels=top_ethnicities.index, autopct='%1.1f%%', startangle=140, wedgeprops={'edgecolor': 'black'})\n",
    "plt.title(\"Top 5 Ethnicities in Bollywood Character Metadata\")\n",
    "plt.show()"
   ]
  },
  {
   "cell_type": "markdown",
   "id": "c4ffcc07-2ac6-44fb-9831-975a2323797b",
   "metadata": {},
   "source": [
    "**Interactive pie chart**"
   ]
  },
  {
   "cell_type": "code",
   "execution_count": 28,
   "id": "ed6f316b-8ff6-4651-908c-3b2440caa7ea",
   "metadata": {},
   "outputs": [
    {
     "name": "stdout",
     "output_type": "stream",
     "text": [
      "        Ethnicity  Count\n",
      "0         Indians  14685\n",
      "1           Tamil   1068\n",
      "2        Punjabis   1003\n",
      "3        Malayali    937\n",
      "4  Marathi people    795\n"
     ]
    }
   ],
   "source": [
    "pio.renderers.default = 'browser'\n",
    "\n",
    "# Get the top 5 ethnicities by count\n",
    "top_ethnicities = top_ethnicities.reset_index()\n",
    "top_ethnicities.columns = ['Ethnicity', 'Count']\n",
    "print(top_ethnicities)\n",
    "# Create an interactive pie chart\n",
    "fig = px.pie(top_ethnicities, values='Count', names='Ethnicity', title=\"Top 5 Ethnicities in Bollywood Character Metadata\",\n",
    "             hover_data=['Count'], labels={'Count':'Number of Characters'})\n",
    "fig.update_traces(textinfo='percent+label')  # Add percentage display to the chart"
   ]
  },
  {
   "cell_type": "code",
   "execution_count": 29,
   "id": "5952f98c-ea75-467a-a72d-101a402c8a1e",
   "metadata": {},
   "outputs": [],
   "source": [
    "# Show the interactive pie-chart\n",
    "fig.show()"
   ]
  },
  {
   "cell_type": "markdown",
   "id": "b7c26068-75d1-4a2c-97ed-dea6dddb188b",
   "metadata": {},
   "source": [
    "## 2. Gender Representation Analysis"
   ]
  },
  {
   "cell_type": "markdown",
   "id": "178fd70b-5e98-47e3-bfd6-320d8419b242",
   "metadata": {},
   "source": [
    "**Non-interactive pie chart**"
   ]
  },
  {
   "cell_type": "code",
   "execution_count": 30,
   "id": "b8a11703-57f2-4630-8b8b-ef756dfd8be8",
   "metadata": {},
   "outputs": [
    {
     "data": {
      "image/png": "[encoded data removed]",
      "text/plain": [
       "<Figure size 500x500 with 1 Axes>"
      ]
     },
     "metadata": {},
     "output_type": "display_data"
    }
   ],
   "source": [
    "# Step 1: Calculate the counts of each gender in the Bollywood character data\n",
    "gender_counts = bollywood_characters['Actor_Gender'].value_counts()\n",
    "\n",
    "# Step 2: Create a non-interactive pie chart using Matplotlib\n",
    "plt.figure(figsize=(5, 5))\n",
    "plt.pie(gender_counts, labels=gender_counts.index, autopct='%1.1f%%', startangle=140, colors=['#66c2a5', '#fc8d62'])\n",
    "plt.title(\"Gender Representation in Bollywood Character Metadata\")\n",
    "plt.show()"
   ]
  },
  {
   "cell_type": "markdown",
   "id": "00c1e741-b2bd-4ba0-aaa0-d4969bbc7de3",
   "metadata": {},
   "source": [
    "**Non-interactive pie chart**"
   ]
  },
  {
   "cell_type": "code",
   "execution_count": 31,
   "id": "b8bc6457-f3b7-411d-82fc-3fd4f525c1b4",
   "metadata": {},
   "outputs": [],
   "source": [
    "# Convert to DataFrame for easier plotting with Plotly\n",
    "gender_counts_df = gender_counts.reset_index()\n",
    "gender_counts_df.columns = ['Gender', 'Count']\n",
    "\n",
    "# Step 2: Create a pie chart for gender distribution\n",
    "fig = px.pie(gender_counts_df, values='Count', names='Gender', \n",
    "             title=\"Gender Representation in Bollywood Character Metadata\",\n",
    "             hover_data=['Count'], labels={'Count':'Number of Characters'})\n",
    "fig.update_traces(textinfo='percent+label')"
   ]
  },
  {
   "cell_type": "code",
   "execution_count": 32,
   "id": "d1ab6111-8b56-4ec2-a964-5ad949a4f2cb",
   "metadata": {},
   "outputs": [],
   "source": [
    "# Show the chart\n",
    "fig.show()"
   ]
  },
  {
   "cell_type": "markdown",
   "id": "fc673a9c-9e4d-44db-bee7-a3cc8225ae86",
   "metadata": {},
   "source": [
    "## 3. Age Representation Analysis"
   ]
  },
  {
   "cell_type": "markdown",
   "id": "c0d44d17-39b2-4aba-94e5-805b9e498427",
   "metadata": {},
   "source": [
    "### Overall Age Distribution\n",
    "Display a histogram or box plot for the age distribution of all characters."
   ]
  },
  {
   "cell_type": "code",
   "execution_count": 33,
   "id": "ec1e8a77-486a-453d-bfd9-7b704939f585",
   "metadata": {},
   "outputs": [
    {
     "data": {
      "image/png": "[encoded data removed]",
      "text/plain": [
       "<Figure size 500x400 with 1 Axes>"
      ]
     },
     "metadata": {},
     "output_type": "display_data"
    }
   ],
   "source": [
    "# Step 1: Overall Age Distribution (Non-Interactive)\n",
    "plt.figure(figsize=(5, 4))\n",
    "plt.hist(bollywood_characters['Actor_Age'].dropna(), bins=30, color='skyblue', edgecolor='black')\n",
    "plt.title(\"Overall Age Distribution of Bollywood Characters\")\n",
    "plt.xlabel(\"Age\")\n",
    "plt.ylabel(\"Count\")\n",
    "plt.show()"
   ]
  },
  {
   "cell_type": "code",
   "execution_count": 34,
   "id": "c259f390-d150-487a-9327-9755b12ac150",
   "metadata": {},
   "outputs": [
    {
     "name": "stdout",
     "output_type": "stream",
     "text": [
      "Overall average actor age in Bollywood movies is: 36.63 years old.\n"
     ]
    }
   ],
   "source": [
    "# Print overall average age\n",
    "print(f\"Overall average actor age in Bollywood movies is: {bollywood_characters['Actor_Age'].mean():.2f} years old.\")"
   ]
  },
  {
   "cell_type": "code",
   "execution_count": 35,
   "id": "1cde1b5d-ebf9-429d-b9d5-5edff997c745",
   "metadata": {},
   "outputs": [],
   "source": [
    "# Step 2: Overall Age Distribution (Interactive)\n",
    "fig = px.histogram(bollywood_characters, x='Actor_Age', nbins=30, title=\"Overall Age Distribution of Bollywood Characters\")\n",
    "fig.update_layout(xaxis_title=\"Age\", yaxis_title=\"Count\")\n",
    "fig.show()"
   ]
  },
  {
   "cell_type": "markdown",
   "id": "4317f87f-88db-4424-9320-004d59af68e9",
   "metadata": {},
   "source": [
    "### Gender-Based Comparison\n",
    " Display separate age distributions for male and female characters to compare differences."
   ]
  },
  {
   "cell_type": "code",
   "execution_count": 36,
   "id": "3f2be7de-3177-4db4-897d-4489e4b60761",
   "metadata": {},
   "outputs": [
    {
     "data": {
      "image/png": "[encoded data removed]",
      "text/plain": [
       "<Figure size 500x400 with 1 Axes>"
      ]
     },
     "metadata": {},
     "output_type": "display_data"
    }
   ],
   "source": [
    "# Step 3: Age Distribution by Gender (Non-Interactive)\n",
    "plt.figure(figsize=(5, 4))\n",
    "male_ages = bollywood_characters[bollywood_characters['Actor_Gender'] == 'M']['Actor_Age'].dropna()\n",
    "female_ages = bollywood_characters[bollywood_characters['Actor_Gender'] == 'F']['Actor_Age'].dropna()\n",
    "plt.hist(male_ages, bins=30, color='blue', alpha=0.5, label='Male', edgecolor='black')\n",
    "plt.hist(female_ages, bins=30, color='pink', alpha=0.5, label='Female', edgecolor='black')\n",
    "plt.title(\"Age Distribution of Bollywood Characters by Gender\")\n",
    "plt.xlabel(\"Age\")\n",
    "plt.ylabel(\"Count\")\n",
    "plt.legend()\n",
    "plt.show()"
   ]
  },
  {
   "cell_type": "code",
   "execution_count": 37,
   "id": "5cedb2d7-5190-4230-b314-ed1c4bb7c66f",
   "metadata": {},
   "outputs": [],
   "source": [
    "# Step 4: Age Distribution by Gender (Interactive)\n",
    "fig_gender = px.histogram(bollywood_characters, x='Actor_Age', color='Actor_Gender', nbins=30,\n",
    "                          title=\"Age Distribution of Bollywood Characters by Gender\", barmode='overlay')\n",
    "fig_gender.update_layout(xaxis_title=\"Age\", yaxis_title=\"Count\")\n",
    "fig_gender.show()"
   ]
  },
  {
   "cell_type": "code",
   "execution_count": 38,
   "id": "a6f92267-8fc7-4b4a-9617-c6eed19e5329",
   "metadata": {},
   "outputs": [
    {
     "name": "stdout",
     "output_type": "stream",
     "text": [
      "Overall average actor age for Males in Bollywood movies is: 40.92 years old.\n",
      "Overall average actor age for Females in Bollywood movies is: 28.89 years old.\n"
     ]
    }
   ],
   "source": [
    "# Calculate the average age for male and female characters separately\n",
    "average_age_male = bollywood_characters[bollywood_characters['Actor_Gender'] == 'M']['Actor_Age'].mean()\n",
    "average_age_female = bollywood_characters[bollywood_characters['Actor_Gender'] == 'F']['Actor_Age'].mean()\n",
    "print(f\"Overall average actor age for Males in Bollywood movies is: {average_age_male:.2f} years old.\")\n",
    "print(f\"Overall average actor age for Females in Bollywood movies is: {average_age_female:.2f} years old.\")"
   ]
  },
  {
   "cell_type": "markdown",
   "id": "321e4aa6-a158-48d0-98d2-4f3192e98182",
   "metadata": {},
   "source": [
    "**=>This suggests that Bollywood movies tend to cast younger female characters on average compared to male characters. The question is, do these numbers represent real-world numbers and therefore reflect reality or do they represent an industry bias toward casting younger female roles relative to male roles? This is what we aim to find out with our compartive analysis!**"
   ]
  },
  {
   "cell_type": "code",
   "execution_count": null,
   "id": "6414302a-e497-4aa6-a084-cca8ece576a7",
   "metadata": {},
   "outputs": [],
   "source": []
  }
 ],
 "metadata": {
  "kernelspec": {
   "display_name": "Python 3 (ipykernel)",
   "language": "python",
   "name": "python3"
  },
  "language_info": {
   "codemirror_mode": {
    "name": "ipython",
    "version": 3
   },
   "file_extension": ".py",
   "mimetype": "text/x-python",
   "name": "python",
   "nbconvert_exporter": "python",
   "pygments_lexer": "ipython3",
   "version": "3.9.18"
  }
 },
 "nbformat": 4,
 "nbformat_minor": 5
}
