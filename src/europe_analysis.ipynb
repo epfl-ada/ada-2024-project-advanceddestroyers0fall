{
 "cells": [
  {
   "cell_type": "markdown",
   "metadata": {},
   "source": [
    "# Analysis of the European Cinema Industry compared to the real population of Europe"
   ]
  },
  {
   "cell_type": "markdown",
   "metadata": {},
   "source": [
    "We will analyse the ethnicity, the gender proportions and the age representation."
   ]
  },
  {
   "cell_type": "code",
   "execution_count": 1,
   "metadata": {},
   "outputs": [],
   "source": [
    "import pandas as pd\n",
    "import plotly.graph_objects as go\n",
    "from plotly.subplots import make_subplots\n",
    "import numpy as np\n",
    "from scipy.stats import gaussian_kde\n",
    "\n",
    "from europe_functions import *\n"
   ]
  },
  {
   "cell_type": "code",
   "execution_count": 2,
   "metadata": {},
   "outputs": [],
   "source": [
    "# load preprocessed data\n",
    "folder_CMU = './data/final/europe/CMU/'\n",
    "folder_rw = './data/final/europe/real_world/'\n",
    "\n",
    "##CMU\n",
    "europe_df = pd.read_csv(folder_CMU+'europe_data.csv')\n",
    "east_europe_df = pd.read_csv(folder_CMU+'east_europe_data.csv')\n",
    "west_europe_df = pd.read_csv(folder_CMU+'west_europe_data.csv')\n",
    "nordic_europe_df = pd.read_csv(folder_CMU+'nordic_europe_data.csv')\n",
    "\n",
    "## real world\n",
    "# Europe datasets\n",
    "europe_avg_bothsexes = pd.read_csv(folder_rw+'bothsexes_europe_realworld_averages.csv')\n",
    "europe_avg_female = pd.read_csv(folder_rw+'female_europe_realworld_averages.csv')\n",
    "europe_prop_female = pd.read_csv(folder_rw+'female_europe_realworld_proportions.csv')\n",
    "europe_avg_male = pd.read_csv(folder_rw+'male_europe_realworld_averages.csv')\n",
    "\n",
    "# East Europe datasets\n",
    "east_avg_bothsexes = pd.read_csv(folder_rw+'bothsexes_east_europe_realworld_averages.csv')\n",
    "east_avg_female = pd.read_csv(folder_rw+'female_east_europe_realworld_averages.csv')\n",
    "east_prop_female = pd.read_csv(folder_rw+'female_east_europe_realworld_proportions.csv')\n",
    "east_avg_male = pd.read_csv(folder_rw+'male_east_europe_realworld_averages.csv')\n",
    "\n",
    "# West Europe datasets\n",
    "west_avg_bothsexes = pd.read_csv(folder_rw+'bothsexes_west_europe_realworld_averages.csv')\n",
    "west_avg_female = pd.read_csv(folder_rw+'female_west_europe_realworld_averages.csv')\n",
    "west_prop_female = pd.read_csv(folder_rw+'female_west_europe_realworld_proportions.csv')\n",
    "west_avg_male = pd.read_csv(folder_rw+'male_west_europe_realworld_averages.csv')\n",
    "\n",
    "# Nordic Europe datasets\n",
    "nordic_avg_bothsexes = pd.read_csv(folder_rw+'bothsexes_nordic_europe_realworld_averages.csv')\n",
    "nordic_avg_female = pd.read_csv(folder_rw+'female_nordic_europe_realworld_averages.csv')\n",
    "nordic_prop_female = pd.read_csv(folder_rw+'female_nordic_europe_realworld_proportions.csv')\n",
    "nordic_avg_male = pd.read_csv(folder_rw+'male_nordic_europe_realworld_averages.csv')\n",
    "\n",
    "\n",
    "# establish dictionnaries and lists used \n",
    "regions = [\n",
    "    ('Europe', europe_df),\n",
    "    ('East Europe', east_europe_df),\n",
    "    ('West Europe', west_europe_df),\n",
    "    ('Nordic Europe', nordic_europe_df)\n",
    "]\n",
    "\n",
    "\n",
    "time_periods = {\n",
    "    \"All Periods\": (1950, 2012),\n",
    "    \"1950-1965\": (1950, 1965),\n",
    "    \"1966-1980\": (1966, 1980),\n",
    "    \"1981-1995\": (1981, 1995),\n",
    "    \"1996-2012\": (1996, 2012)\n",
    "}\n",
    "\n",
    "# ethnicities\n",
    "ethnicities = ['Caucasians', 'Arabs / Middle Easterns', 'Africans', 'South Asians', 'East Asians', 'Southeast Asian','Jewish People', 'Latinos', 'Indigenous People']\n",
    "\n",
    "# Genres\n",
    "genres = ['All Genres', 'Action/Adventure', 'Comedy', 'Drama', 'Thriller/Suspense', 'Horror', \n",
    "          'Science Fiction (Sci-Fi)', 'Fantasy', 'Romance', 'Documentary', 'Animation/Family']\n",
    "\n",
    "\n",
    "# real-world proportions\n",
    "real_world_proportions = {\n",
    "    'Caucasians': 92.6,\n",
    "    'Arabs / Middle Easterns': 2.98,\n",
    "    'Africans': 2.4,\n",
    "    'South Asians': 0.62,\n",
    "    'East Asians': 0.25,\n",
    "    'Southeast Asian': 0.28,\n",
    "    'Latinos': 0.62,\n",
    "    'Indigenous People': 0.043,\n",
    "    'Jewish People': 0.27\n",
    "}\n",
    "\n",
    "genders = ['Both', 'Female', 'Male']\n"
   ]
  },
  {
   "cell_type": "markdown",
   "metadata": {},
   "source": [
    "Due to complications and project complexity, we decided to not separate the europe df into sub-regions. We already have a lot of data to analyse and this would add a layer of complexity that we do not want."
   ]
  },
  {
   "cell_type": "code",
   "execution_count": 3,
   "metadata": {},
   "outputs": [
    {
     "data": {
      "text/html": [
       "<div>\n",
       "<style scoped>\n",
       "    .dataframe tbody tr th:only-of-type {\n",
       "        vertical-align: middle;\n",
       "    }\n",
       "\n",
       "    .dataframe tbody tr th {\n",
       "        vertical-align: top;\n",
       "    }\n",
       "\n",
       "    .dataframe thead th {\n",
       "        text-align: right;\n",
       "    }\n",
       "</style>\n",
       "<table border=\"1\" class=\"dataframe\">\n",
       "  <thead>\n",
       "    <tr style=\"text-align: right;\">\n",
       "      <th></th>\n",
       "      <th>Time Period</th>\n",
       "      <th>0</th>\n",
       "      <th>1</th>\n",
       "      <th>2</th>\n",
       "      <th>3</th>\n",
       "      <th>4</th>\n",
       "      <th>5</th>\n",
       "      <th>6</th>\n",
       "      <th>7</th>\n",
       "      <th>8</th>\n",
       "      <th>...</th>\n",
       "      <th>91</th>\n",
       "      <th>92</th>\n",
       "      <th>93</th>\n",
       "      <th>94</th>\n",
       "      <th>95</th>\n",
       "      <th>96</th>\n",
       "      <th>97</th>\n",
       "      <th>98</th>\n",
       "      <th>99</th>\n",
       "      <th>100+</th>\n",
       "    </tr>\n",
       "  </thead>\n",
       "  <tbody>\n",
       "    <tr>\n",
       "      <th>0</th>\n",
       "      <td>1950-1965</td>\n",
       "      <td>111.87</td>\n",
       "      <td>109.81</td>\n",
       "      <td>108.75</td>\n",
       "      <td>107.75</td>\n",
       "      <td>106.51</td>\n",
       "      <td>104.83</td>\n",
       "      <td>103.39</td>\n",
       "      <td>101.91</td>\n",
       "      <td>100.38</td>\n",
       "      <td>...</td>\n",
       "      <td>1.67</td>\n",
       "      <td>1.16</td>\n",
       "      <td>0.78</td>\n",
       "      <td>0.50</td>\n",
       "      <td>0.29</td>\n",
       "      <td>0.18</td>\n",
       "      <td>0.11</td>\n",
       "      <td>0.05</td>\n",
       "      <td>0.01</td>\n",
       "      <td>0.04</td>\n",
       "    </tr>\n",
       "    <tr>\n",
       "      <th>1</th>\n",
       "      <td>1966-1980</td>\n",
       "      <td>104.37</td>\n",
       "      <td>104.73</td>\n",
       "      <td>105.72</td>\n",
       "      <td>106.75</td>\n",
       "      <td>107.73</td>\n",
       "      <td>108.60</td>\n",
       "      <td>109.39</td>\n",
       "      <td>110.02</td>\n",
       "      <td>110.56</td>\n",
       "      <td>...</td>\n",
       "      <td>3.29</td>\n",
       "      <td>2.39</td>\n",
       "      <td>1.72</td>\n",
       "      <td>1.18</td>\n",
       "      <td>0.72</td>\n",
       "      <td>0.44</td>\n",
       "      <td>0.26</td>\n",
       "      <td>0.16</td>\n",
       "      <td>0.06</td>\n",
       "      <td>0.12</td>\n",
       "    </tr>\n",
       "    <tr>\n",
       "      <th>2</th>\n",
       "      <td>1981-1995</td>\n",
       "      <td>90.27</td>\n",
       "      <td>91.28</td>\n",
       "      <td>92.39</td>\n",
       "      <td>93.35</td>\n",
       "      <td>94.14</td>\n",
       "      <td>94.95</td>\n",
       "      <td>95.69</td>\n",
       "      <td>96.43</td>\n",
       "      <td>97.24</td>\n",
       "      <td>...</td>\n",
       "      <td>6.59</td>\n",
       "      <td>4.94</td>\n",
       "      <td>3.64</td>\n",
       "      <td>2.63</td>\n",
       "      <td>1.80</td>\n",
       "      <td>1.18</td>\n",
       "      <td>0.74</td>\n",
       "      <td>0.44</td>\n",
       "      <td>0.26</td>\n",
       "      <td>0.35</td>\n",
       "    </tr>\n",
       "    <tr>\n",
       "      <th>3</th>\n",
       "      <td>1996-2012</td>\n",
       "      <td>77.25</td>\n",
       "      <td>77.43</td>\n",
       "      <td>77.75</td>\n",
       "      <td>78.10</td>\n",
       "      <td>78.60</td>\n",
       "      <td>79.30</td>\n",
       "      <td>80.12</td>\n",
       "      <td>81.08</td>\n",
       "      <td>82.16</td>\n",
       "      <td>...</td>\n",
       "      <td>11.84</td>\n",
       "      <td>9.34</td>\n",
       "      <td>7.21</td>\n",
       "      <td>5.56</td>\n",
       "      <td>4.17</td>\n",
       "      <td>2.94</td>\n",
       "      <td>2.05</td>\n",
       "      <td>1.35</td>\n",
       "      <td>0.84</td>\n",
       "      <td>1.20</td>\n",
       "    </tr>\n",
       "  </tbody>\n",
       "</table>\n",
       "<p>4 rows × 102 columns</p>\n",
       "</div>"
      ],
      "text/plain": [
       "  Time Period       0       1       2       3       4       5       6       7  \\\n",
       "0   1950-1965  111.87  109.81  108.75  107.75  106.51  104.83  103.39  101.91   \n",
       "1   1966-1980  104.37  104.73  105.72  106.75  107.73  108.60  109.39  110.02   \n",
       "2   1981-1995   90.27   91.28   92.39   93.35   94.14   94.95   95.69   96.43   \n",
       "3   1996-2012   77.25   77.43   77.75   78.10   78.60   79.30   80.12   81.08   \n",
       "\n",
       "        8  ...     91    92    93    94    95    96    97    98    99  100+  \n",
       "0  100.38  ...   1.67  1.16  0.78  0.50  0.29  0.18  0.11  0.05  0.01  0.04  \n",
       "1  110.56  ...   3.29  2.39  1.72  1.18  0.72  0.44  0.26  0.16  0.06  0.12  \n",
       "2   97.24  ...   6.59  4.94  3.64  2.63  1.80  1.18  0.74  0.44  0.26  0.35  \n",
       "3   82.16  ...  11.84  9.34  7.21  5.56  4.17  2.94  2.05  1.35  0.84  1.20  \n",
       "\n",
       "[4 rows x 102 columns]"
      ]
     },
     "execution_count": 3,
     "metadata": {},
     "output_type": "execute_result"
    }
   ],
   "source": [
    "europe_avg_female"
   ]
  },
  {
   "cell_type": "code",
   "execution_count": 4,
   "metadata": {},
   "outputs": [
    {
     "data": {
      "text/html": [
       "<div>\n",
       "<style scoped>\n",
       "    .dataframe tbody tr th:only-of-type {\n",
       "        vertical-align: middle;\n",
       "    }\n",
       "\n",
       "    .dataframe tbody tr th {\n",
       "        vertical-align: top;\n",
       "    }\n",
       "\n",
       "    .dataframe thead th {\n",
       "        text-align: right;\n",
       "    }\n",
       "</style>\n",
       "<table border=\"1\" class=\"dataframe\">\n",
       "  <thead>\n",
       "    <tr style=\"text-align: right;\">\n",
       "      <th></th>\n",
       "      <th>movie_name</th>\n",
       "      <th>actor_name</th>\n",
       "      <th>age_at_release</th>\n",
       "      <th>actor_gender</th>\n",
       "      <th>actor_ethnicity_label</th>\n",
       "      <th>actor_height</th>\n",
       "      <th>release</th>\n",
       "      <th>box_office</th>\n",
       "      <th>runtime</th>\n",
       "      <th>languages</th>\n",
       "      <th>countries</th>\n",
       "      <th>genres</th>\n",
       "      <th>plot_summary</th>\n",
       "      <th>main_genre</th>\n",
       "      <th>region</th>\n",
       "      <th>actor_ethnicity_classification</th>\n",
       "    </tr>\n",
       "  </thead>\n",
       "  <tbody>\n",
       "    <tr>\n",
       "      <th>0</th>\n",
       "      <td>Actrius</td>\n",
       "      <td>Rosa Maria Sardà</td>\n",
       "      <td>54.0</td>\n",
       "      <td>F</td>\n",
       "      <td>Spaniards</td>\n",
       "      <td>NaN</td>\n",
       "      <td>1996.0</td>\n",
       "      <td>NaN</td>\n",
       "      <td>90.0</td>\n",
       "      <td>['Catalan language', 'Spanish Language']</td>\n",
       "      <td>['Spain']</td>\n",
       "      <td>['Drama', 'Comedy-drama']</td>\n",
       "      <td>In order to prepare the role of an important o...</td>\n",
       "      <td>Comedy</td>\n",
       "      <td>west_europe</td>\n",
       "      <td>Caucasians</td>\n",
       "    </tr>\n",
       "    <tr>\n",
       "      <th>1</th>\n",
       "      <td>Actrius</td>\n",
       "      <td>Mercè Pons</td>\n",
       "      <td>29.0</td>\n",
       "      <td>F</td>\n",
       "      <td>Unknown</td>\n",
       "      <td>NaN</td>\n",
       "      <td>1996.0</td>\n",
       "      <td>NaN</td>\n",
       "      <td>90.0</td>\n",
       "      <td>['Catalan language', 'Spanish Language']</td>\n",
       "      <td>['Spain']</td>\n",
       "      <td>['Drama', 'Comedy-drama']</td>\n",
       "      <td>In order to prepare the role of an important o...</td>\n",
       "      <td>Comedy</td>\n",
       "      <td>west_europe</td>\n",
       "      <td>Unknown</td>\n",
       "    </tr>\n",
       "    <tr>\n",
       "      <th>2</th>\n",
       "      <td>Actrius</td>\n",
       "      <td>Anna Lizaran</td>\n",
       "      <td>51.0</td>\n",
       "      <td>F</td>\n",
       "      <td>Unknown</td>\n",
       "      <td>NaN</td>\n",
       "      <td>1996.0</td>\n",
       "      <td>NaN</td>\n",
       "      <td>90.0</td>\n",
       "      <td>['Catalan language', 'Spanish Language']</td>\n",
       "      <td>['Spain']</td>\n",
       "      <td>['Drama', 'Comedy-drama']</td>\n",
       "      <td>In order to prepare the role of an important o...</td>\n",
       "      <td>Comedy</td>\n",
       "      <td>west_europe</td>\n",
       "      <td>Unknown</td>\n",
       "    </tr>\n",
       "    <tr>\n",
       "      <th>3</th>\n",
       "      <td>Actrius</td>\n",
       "      <td>Núria Espert</td>\n",
       "      <td>60.0</td>\n",
       "      <td>F</td>\n",
       "      <td>Unknown</td>\n",
       "      <td>NaN</td>\n",
       "      <td>1996.0</td>\n",
       "      <td>NaN</td>\n",
       "      <td>90.0</td>\n",
       "      <td>['Catalan language', 'Spanish Language']</td>\n",
       "      <td>['Spain']</td>\n",
       "      <td>['Drama', 'Comedy-drama']</td>\n",
       "      <td>In order to prepare the role of an important o...</td>\n",
       "      <td>Comedy</td>\n",
       "      <td>west_europe</td>\n",
       "      <td>Unknown</td>\n",
       "    </tr>\n",
       "    <tr>\n",
       "      <th>4</th>\n",
       "      <td>Barry Lyndon</td>\n",
       "      <td>Steven Berkoff</td>\n",
       "      <td>38.0</td>\n",
       "      <td>M</td>\n",
       "      <td>Jewish people</td>\n",
       "      <td>1.75</td>\n",
       "      <td>1975.0</td>\n",
       "      <td>20000000.0</td>\n",
       "      <td>187.0</td>\n",
       "      <td>['French Language', 'English Language', 'Germa...</td>\n",
       "      <td>['United States of America', 'United Kingdom']</td>\n",
       "      <td>['Costume drama', 'Film adaptation', 'Period p...</td>\n",
       "      <td>:By What Means Redmond Barry Acquired the Sty...</td>\n",
       "      <td>Drama</td>\n",
       "      <td>west_europe</td>\n",
       "      <td>Jewish People</td>\n",
       "    </tr>\n",
       "  </tbody>\n",
       "</table>\n",
       "</div>"
      ],
      "text/plain": [
       "     movie_name        actor_name  age_at_release actor_gender  \\\n",
       "0       Actrius  Rosa Maria Sardà            54.0            F   \n",
       "1       Actrius        Mercè Pons            29.0            F   \n",
       "2       Actrius      Anna Lizaran            51.0            F   \n",
       "3       Actrius      Núria Espert            60.0            F   \n",
       "4  Barry Lyndon    Steven Berkoff            38.0            M   \n",
       "\n",
       "  actor_ethnicity_label  actor_height  release  box_office  runtime  \\\n",
       "0             Spaniards           NaN   1996.0         NaN     90.0   \n",
       "1               Unknown           NaN   1996.0         NaN     90.0   \n",
       "2               Unknown           NaN   1996.0         NaN     90.0   \n",
       "3               Unknown           NaN   1996.0         NaN     90.0   \n",
       "4         Jewish people          1.75   1975.0  20000000.0    187.0   \n",
       "\n",
       "                                           languages  \\\n",
       "0           ['Catalan language', 'Spanish Language']   \n",
       "1           ['Catalan language', 'Spanish Language']   \n",
       "2           ['Catalan language', 'Spanish Language']   \n",
       "3           ['Catalan language', 'Spanish Language']   \n",
       "4  ['French Language', 'English Language', 'Germa...   \n",
       "\n",
       "                                        countries  \\\n",
       "0                                       ['Spain']   \n",
       "1                                       ['Spain']   \n",
       "2                                       ['Spain']   \n",
       "3                                       ['Spain']   \n",
       "4  ['United States of America', 'United Kingdom']   \n",
       "\n",
       "                                              genres  \\\n",
       "0                          ['Drama', 'Comedy-drama']   \n",
       "1                          ['Drama', 'Comedy-drama']   \n",
       "2                          ['Drama', 'Comedy-drama']   \n",
       "3                          ['Drama', 'Comedy-drama']   \n",
       "4  ['Costume drama', 'Film adaptation', 'Period p...   \n",
       "\n",
       "                                        plot_summary main_genre       region  \\\n",
       "0  In order to prepare the role of an important o...     Comedy  west_europe   \n",
       "1  In order to prepare the role of an important o...     Comedy  west_europe   \n",
       "2  In order to prepare the role of an important o...     Comedy  west_europe   \n",
       "3  In order to prepare the role of an important o...     Comedy  west_europe   \n",
       "4   :By What Means Redmond Barry Acquired the Sty...      Drama  west_europe   \n",
       "\n",
       "  actor_ethnicity_classification  \n",
       "0                     Caucasians  \n",
       "1                        Unknown  \n",
       "2                        Unknown  \n",
       "3                        Unknown  \n",
       "4                  Jewish People  "
      ]
     },
     "execution_count": 4,
     "metadata": {},
     "output_type": "execute_result"
    }
   ],
   "source": [
    "europe_df.head()"
   ]
  },
  {
   "cell_type": "markdown",
   "metadata": {},
   "source": [
    "## **Ethnicity Proportions**"
   ]
  },
  {
   "cell_type": "markdown",
   "metadata": {},
   "source": [
    "As the real-world dataset didn't have good information about the ethnicity of the European Population, we decided to search for other datasets. However, Europe in itself doesn't have a complete dateset about ethnicities, it only had about nationalites which didn't interest us. They were a few countries (like England) that had complete datasets about it but not all countries had them and it even if they had, it would have been to much work to extract the data with our limited time.\n",
    "\n",
    "Therefore, we chose to find already existing number on the web, here are the sources for each ethniciites. The sources may be unreliables so we searched for multiple sources and made an average. Many sources were also biased, especially for Arabs/Midlle Eastern which counted only Muslims and not Arabs in a whole (like the Christians lebanese for example)\n",
    "\n",
    "- Wikipedia Page about [Ethnic Groups in Europe](https://en.wikipedia.org/wiki/Ethnic_groups_in_Europe) : \n",
    "    - Turks (Middle Eastern): 15 millions outside of Turkey and Northern Cyprus (2010) REMOVE TURKEY FROM THE DATASET\n",
    "    - Jews: 2 million\n",
    "    - Kurds (Middle Eastern): 2.5 million\n",
    "    - North Africans (Arab): 5 miliion\n",
    "    - Horn Africans (Black): 700 000\n",
    "    - Sub-Sharan Africans (Black): 5 million (2007)\n",
    "    - Latin American (Latinos): 2.2 million in 2007\n",
    "    - South Asians: 3-4 millions\n",
    "    - Southeast Asians: 2 million\n",
    "    - East Asians: 1.7 million (Chinese) + 100 000 (Koreans)\n",
    "- Wikipedia Page about [Arabs in Europe](https://en.wikipedia.org/wiki/Arabs_in_Europe#:~:text=In%202010%20the%20estimate%20of,%2C%20Norway%2C%20Finland%20and%20Greece.), from the 'Arab Dispora':\n",
    "    - Arab/Middle Eastern (from arab speaking countries): 6 370 000\n",
    "    - [European population in 2010](https://www.macrotrends.net/global-metrics/countries/eur/europe/population): 736 276 813\n",
    "    --> That makes 0.865%\n",
    "- [Institute for Jewish Policy Research](https://www.jpr.org.uk/countries/how-many-jews-in-europe):\n",
    "    - 0.158%\n",
    "- Institute for Cultural Diplomacy [ICD](https://www.culturaldiplomacy.org/index.php?en_programs_diaspora_eu):\n",
    "    - Afro-descendants: 2.4% \n",
    "- [Latin Americans and Carribeans in Europe](https://ced.cat/wp-content/uploads/2019/03/InternationalMigration__2019_Bayona_Avila.pdf):\n",
    "    - 2019: 4.64 million\n",
    "    - European Pop in 2019: 746 189 645\n",
    "    --> 0.62%\n",
    "- European Parliement for the [International Year of Indegenous Languages](https://www.europarl.europa.eu/RegData/etudes/ATAG/2020/646118/EPRS_ATA(2020)646118_EN.pdf): \n",
    "    - 100 000\n",
    "\n",
    "\n",
    "Combining these sources or chosing the most reliable one, we obtained the following percentages:\n",
    "\n",
    "- Arabs/Middle Easterns: `2.98%`(taking the number for arab speaking people and turks)\n",
    "- Jews: `0.16%` (taking the number from the Jewish Institute)\n",
    "- Africans/Blacks: `2.4%` (taking the number from the Cultural Institute)\n",
    "- Latinos: `0.62%`(taking the most recent number)\n",
    "- South Asians: `0.62%`(gross estimate from wikipedia)\n",
    "- Southeast Asians: `0.28%` (gross estimate from wikipedia)\n",
    "- East Asians: `0.25%` (gross estimate from wikipedia)\n",
    "- Indigenous: `0.043%`(gross estimate)\n",
    "- Caucasians: `92.6%`(subracted from the other percentage)\n"
   ]
  },
  {
   "cell_type": "code",
   "execution_count": 5,
   "metadata": {},
   "outputs": [
    {
     "data": {
      "text/html": [
       "\n",
       "        <iframe\n",
       "            width=\"100%\"\n",
       "            height=\"650\"\n",
       "            src=\"http://127.0.0.1:8050/\"\n",
       "            frameborder=\"0\"\n",
       "            allowfullscreen\n",
       "            \n",
       "        ></iframe>\n",
       "        "
      ],
      "text/plain": [
       "<IPython.lib.display.IFrame at 0x20a00040e90>"
      ]
     },
     "metadata": {},
     "output_type": "display_data"
    }
   ],
   "source": [
    "import dash\n",
    "from dash import dcc, html, Input, Output\n",
    "import plotly.graph_objects as go\n",
    "\n",
    "\n",
    "# Initialize the Dash app\n",
    "app = dash.Dash(__name__)\n",
    "\n",
    "# Layout of the app\n",
    "app.layout = html.Div([\n",
    "    html.H1('Comparison of Ethnicity Proportions by Genre in Europe'),\n",
    "\n",
    "    # Dropdown for selecting genre\n",
    "    html.Div([\n",
    "        html.Label('Genre:'),\n",
    "        dcc.Dropdown(\n",
    "            id='genre-dropdown',\n",
    "            options=[{'label': g, 'value': g} for g in genres],\n",
    "            value='All Genres'\n",
    "        ),\n",
    "    ], style={'width': '25%', 'display': 'inline-block', 'padding': '10px'}),\n",
    "\n",
    "    # Div to hold the graph\n",
    "    dcc.Graph(id='grouped-ethnicity-plot')\n",
    "])\n",
    "\n",
    "# Callback to update the graph based on dropdown value\n",
    "@app.callback(\n",
    "    Output('grouped-ethnicity-plot', 'figure'),\n",
    "    [Input('genre-dropdown', 'value')]\n",
    ")\n",
    "def update_plot(genre):\n",
    "    # Call the function to generate the figure for Europe based on the selected genre\n",
    "    return ethnicity_comparison_plot(europe_df, real_world_proportions, ethnicities, genre)\n",
    "\n",
    "# Run the Dash app\n",
    "if __name__ == '__main__':\n",
    "    app.run_server(debug=True)\n"
   ]
  },
  {
   "cell_type": "markdown",
   "metadata": {},
   "source": [
    "### Statistical Significance\n",
    "\n",
    "Let's now quantify our uncertainty using a chi-squared proportion test:\n",
    "\n",
    "$$\\chi^2 = \\sum \\frac{(O_i - E_i)^2}{E_i}$$\n"
   ]
  },
  {
   "cell_type": "code",
   "execution_count": 6,
   "metadata": {},
   "outputs": [
    {
     "name": "stdout",
     "output_type": "stream",
     "text": [
      "{'Chi-Squared Statistic': 125945.36581700131, 'Degrees of Freedom': 8, 'P-Value': 0.0, 'Conclusion': 'The proportions are significantly different.'}\n"
     ]
    }
   ],
   "source": [
    "results = chi_squared_ethnicity_test(europe_df, ethnicities, real_world_proportions)\n",
    "print(results)"
   ]
  },
  {
   "cell_type": "markdown",
   "metadata": {},
   "source": [
    "- Null Hypothesis ($H_0$): The observed proportions of ethnicities match the real-world proportions.\n",
    "\n",
    "- Alternative Hypothesis ($H_a$): The observed proportions of ethnicities do not match the real-world proportions.\n",
    "\n",
    "Since the p-value is 0.0, we reject the null hypothesis. This means there is strong evidence that the observed distribution of ethnicites differs significantly from the expected distribution."
   ]
  },
  {
   "cell_type": "markdown",
   "metadata": {},
   "source": [
    "### Practical significance \n",
    "\n",
    "[Reddit Post ](https://www.reddit.com/r/statistics/comments/10ywamd/q_hypothesis_testing_when_sample_sizes_are/)\n",
    "\n",
    "[Effect size](https://www.scribbr.com/statistics/effect-size/)\n",
    "\n",
    "No can do here because we don't have a linear relashionship or the mean of the two groups\n",
    "!!!!!! Explain with conf intervals"
   ]
  },
  {
   "cell_type": "markdown",
   "metadata": {},
   "source": [
    "### Analysis"
   ]
  },
  {
   "cell_type": "markdown",
   "metadata": {},
   "source": [
    "\n",
    "The plot comparing ethnicity proportions in European cinema to real-world population data shows interesting trends. While some ethnic groups seems to be represented similarly to their actual population distribution, others reveal disparities. \n",
    "A chi-squared proportion test can confirm that our proportions distribution is significantly different than our real world population, effectively rejecting our null hypothesis. \n",
    "\n",
    "\n",
    "At first glance on the graph, we can spot the three biggest discrepency.\n",
    "- The under-representation of Caucasians\n",
    "- The over-representation of jewish \n",
    "- The over-representation of Africans.\n",
    "\n",
    "---\n",
    "\n",
    "**Over-representation of Jewish People**\n",
    "\n",
    "In all Europe and accross all genres, Jewish People is the most over-represented ethnic group, they present more than 10% difference!\n",
    "\n",
    " According to this french article about [Jewish Figures in the French Cinema Industry](https://shs.cairn.info/revue-archives-juives-2024-3-page-4), this might be attributed to the fact that 'a number of Jews had invested with success, between 1920-1930, in the french cinema industry'. Actually, we can also find the phenomenon in Hollywood where jewish film-makers are very successful and we know according to [this article](https://books.google.ch/books?hl=fr&lr=&id=Q6ORzNPMNhQC&oi=fnd&pg=PA35&dq=jewish+hollywood&ots=DlyVYnTAgg&sig=ofG3ckiANz5zmQBHZ6rWm7NDi3Q&redir_esc=y#v=onepage&q=jewish%20hollywood&f=false) that they immigrated from Europe.\n",
    "\n",
    "---\n",
    "\n",
    "**Over-representation of Africans/Black People**\n",
    "\n",
    "This might reflect the historical importance of colonisation and the complex relation of Europe with Africa. We can noticed that black actors are most present in documentaries. According to [Black People in French Cinema](https://books.google.fr/books?id=heMXDAAAQBAJ&lpg=PA11&ots=qdi71zBw7Y&dq=noirs%20dans%20le%20cinema&lr&pg=PA11#v=onepage&q=noirs%20dans%20le%20cinema&f=false), numbers of documentaries on colonialism were made to put into lights the behaviour of colons in Europeans colonies.\n",
    "\n",
    "---\n",
    "\n",
    "**Caucasians Under-Representation**\n",
    "\n",
    "It is easily deductible that since some minor ethnic groups were over-represented, the major ethnic group get's under represented to let place to the minor ethnic groups. WE chose to ignore this under-representation due to the overwhelming presence of caucasians in Europe and in movies compared to the other groups.\n",
    "\n",
    "---\n",
    "\n",
    "**Lacking diversity of Fantasy**\n",
    "\n",
    "When investigating genres, we can observe that the least diverse genre is Fantasy, it is the genre with the most missing ethnic groups (latinos, arab and southeast asians) and has the biggest percentage of Caucasians. \n",
    "Fantasy being a genre usually based on medieval times in Western Europe, one can only guess that this led to the portrayal of predominantly white characters as the norm in fantasy narratives.\n"
   ]
  },
  {
   "cell_type": "markdown",
   "metadata": {},
   "source": [
    "# Age distribution"
   ]
  },
  {
   "cell_type": "code",
   "execution_count": 7,
   "metadata": {},
   "outputs": [
    {
     "data": {
      "text/html": [
       "\n",
       "        <iframe\n",
       "            width=\"100%\"\n",
       "            height=\"650\"\n",
       "            src=\"http://127.0.0.1:8050/\"\n",
       "            frameborder=\"0\"\n",
       "            allowfullscreen\n",
       "            \n",
       "        ></iframe>\n",
       "        "
      ],
      "text/plain": [
       "<IPython.lib.display.IFrame at 0x20a7cdbcb10>"
      ]
     },
     "metadata": {},
     "output_type": "display_data"
    }
   ],
   "source": [
    "import dash\n",
    "from dash import dcc, html, Input, Output\n",
    "import plotly.graph_objs as go\n",
    "from plotly.subplots import make_subplots\n",
    "import numpy as np\n",
    "from scipy.stats import gaussian_kde\n",
    "import pandas as pd\n",
    "\n",
    "\n",
    "# Initialize the Dash app\n",
    "app = dash.Dash(__name__)\n",
    "\n",
    "# Layout of the app\n",
    "app.layout = html.Div([\n",
    "    html.H1('Age Distribution Comparison in Europe'),\n",
    "\n",
    "    # Dropdowns for selecting gender, period, and genre\n",
    "    html.Div([\n",
    "        html.Label('Period:'),\n",
    "        dcc.Dropdown(\n",
    "            id='period-dropdown',\n",
    "            options=[{'label': p, 'value': p} for p in time_periods.keys()],\n",
    "            value='All Periods'\n",
    "        ),\n",
    "        html.Label('Genre:'),\n",
    "        dcc.Dropdown(\n",
    "            id='genre-dropdown',\n",
    "            options=[{'label': g, 'value': g} for g in genres],\n",
    "            value='All Genres'\n",
    "        ),\n",
    "    ], style={'width': '25%', 'display': 'inline-block', 'padding': '10px'}),\n",
    "\n",
    "    # Graph container with fixed height\n",
    "    html.Div(\n",
    "        dcc.Graph(id='age-distribution-plot'),\n",
    "        style={'height': '800px'}  # Adjust height as needed\n",
    "    )\n",
    "])\n",
    "\n",
    "@app.callback(\n",
    "    Output('age-distribution-plot', 'figure'),\n",
    "    [Input('period-dropdown', 'value'),\n",
    "     Input('genre-dropdown', 'value')]\n",
    ")\n",
    "def update_plot(period, genre):\n",
    "\n",
    "\n",
    "    return age_distribution_plot(europe_avg_male, europe_avg_female, europe_df, time_periods, period=period, genre=genre)\n",
    "\n",
    "\n",
    "# Run the Dash app\n",
    "if __name__ == '__main__':\n",
    "    app.run_server(debug=True)\n"
   ]
  },
  {
   "cell_type": "markdown",
   "metadata": {},
   "source": [
    "## **Age Distribution Analysis**\n",
    "\n",
    "**Gender Disparities in Age Distribution**\n",
    "\n",
    "The age distribution across all genres and periods in Europe reveals a notable gender disparity. Female actors tend to reach the peak of their careers at a significantly younger age than male actors. Specifically:\n",
    "\n",
    "- **Women:** Peak age at 27 years  \n",
    "- **Men:** Peak age at 37 years  \n",
    "\n",
    "This decade-long gap underscores deeply ingrained societal standards in the film industry. As highlighted in [this article](https://link.springer.com/chapter/10.1007/978-3-031-18385-0_8), the industry tends to prioritize youth and beauty for women, while valuing intellectual depth and life experience for men. This reflects societal norms where women's perceived worth diminishes with age, contrasting with men's increasing value as they age into maturity.\n",
    "\n",
    "When compared to real-world age distributions, the difference becomes even more pronounced. Real-world age distributions are positively skewed with the respective modes (value that has the highest frequency):\n",
    "- **Men:** Mode at 22 years  \n",
    "- **Women:** Mode at 26 years  \n",
    "\n",
    "Real-world distributions also exhibit higher variance, reflecting a broader and more realistic range of ages. Conversely, the actor age distributions are narrower, especially for women, emphasizing the industry's narrow perception of \"ideal\" age ranges. Actors show a peak at:\n",
    "- **Men:** 36 years  \n",
    "- **Women:** 28 years  \n",
    "\n",
    "Though some part of the distribution can be explained, children and older people are less able to play in movies, the contrast still highlights the restrictive standards imposed on actors, particularly women, within the industry.\n",
    "\n",
    "---\n",
    "\n",
    "**Changes Over Time**\n",
    "\n",
    "Examining age distributions across periods reveals certain trends. Historically, actors (both sexes) were older than their real-world counterparts. However, recent trends indicate the opposite:\n",
    "- Male actors' peak ages have aligned more closely with real-world male distributions.  \n",
    "- Female actors' peak ages, however, have maintained a noticeable gap with real-world female distributions.\n",
    "\n",
    "Interestingly, this shift is not due to significant changes in actors' ages but rather reflects the aging of the general population. \n",
    "\n",
    "---\n",
    "\n",
    "**Genre-Based Differences**\n",
    "\n",
    "Genre analysis reveals subtle but insightful differences in age distributions, particularly in the **family genre**, which closely mirrors real-world age distributions. This is unsurprising, as family-oriented films often aim to portray relatable, real-life dynamics.\n",
    "\n",
    "However, if we take a closer look at the average age across genres for the different periods (plot below), the average age of actors has remained relatively stable over time, irrespective of genre. This suggests that while societal norms for the general population are shifting, the film industry's age standards remain rigid, particularly for women.\n",
    "\n",
    "---\n",
    "\n",
    "**Conclusion**\n",
    "\n",
    "The analysis of age distributions in European cinema reveals systemic age and gender biases entrenched in the film industry. Female actors face narrower career windows, reaching peak success at much younger ages compared to male actors. These disparities reflect societal standards that disproportionately emphasize youth and appearance for women.\n",
    "\n",
    "While real-world age distributions shifts over time, the industry's narrow age expectations for actors have remained largely static. Even genre-specific analysis shows limited variation.\n"
   ]
  },
  {
   "cell_type": "code",
   "execution_count": 8,
   "metadata": {},
   "outputs": [
    {
     "data": {
      "application/vnd.plotly.v1+json": {
       "config": {
        "plotlyServerURL": "https://plot.ly"
       },
       "data": [
        {
         "error_y": {
          "array": [
           37.902039373538564,
           40.74598092869509,
           40.6390212634055,
           38.106198253390914
          ]
         },
         "hovertemplate": "Group=Real-World Male<br>Genre=All Genres<br>Period=%{x}<br>Average Age=%{y}<extra></extra>",
         "legendgroup": "Real-World Male",
         "line": {
          "color": "#636efa",
          "dash": "solid"
         },
         "marker": {
          "symbol": "circle"
         },
         "mode": "lines+markers",
         "name": "Real-World Male",
         "orientation": "v",
         "showlegend": true,
         "type": "scatter",
         "x": [
          "1950-1965",
          "1966-1980",
          "1981-1995",
          "1996-2012"
         ],
         "xaxis": "x10",
         "y": [
          58.1128712871287,
          66.06960396039601,
          70.5450495049505,
          72.78128712871288
         ],
         "yaxis": "y10"
        },
        {
         "error_y": {
          "array": [
           37.902039373538564,
           40.74598092869509,
           40.6390212634055,
           38.106198253390914
          ]
         },
         "hovertemplate": "Group=Real-World Male<br>Genre=Action/Adventure<br>Period=%{x}<br>Average Age=%{y}<extra></extra>",
         "legendgroup": "Real-World Male",
         "line": {
          "color": "#636efa",
          "dash": "solid"
         },
         "marker": {
          "symbol": "circle"
         },
         "mode": "lines+markers",
         "name": "Real-World Male",
         "orientation": "v",
         "showlegend": false,
         "type": "scatter",
         "x": [
          "1950-1965",
          "1966-1980",
          "1981-1995",
          "1996-2012"
         ],
         "xaxis": "x11",
         "y": [
          58.1128712871287,
          66.06960396039601,
          70.5450495049505,
          72.78128712871288
         ],
         "yaxis": "y11"
        },
        {
         "error_y": {
          "array": [
           37.902039373538564,
           40.74598092869509,
           40.6390212634055,
           38.106198253390914
          ]
         },
         "hovertemplate": "Group=Real-World Male<br>Genre=Comedy<br>Period=%{x}<br>Average Age=%{y}<extra></extra>",
         "legendgroup": "Real-World Male",
         "line": {
          "color": "#636efa",
          "dash": "solid"
         },
         "marker": {
          "symbol": "circle"
         },
         "mode": "lines+markers",
         "name": "Real-World Male",
         "orientation": "v",
         "showlegend": false,
         "type": "scatter",
         "x": [
          "1950-1965",
          "1966-1980",
          "1981-1995",
          "1996-2012"
         ],
         "xaxis": "x12",
         "y": [
          58.1128712871287,
          66.06960396039601,
          70.5450495049505,
          72.78128712871288
         ],
         "yaxis": "y12"
        },
        {
         "error_y": {
          "array": [
           37.902039373538564,
           40.74598092869509,
           40.6390212634055,
           38.106198253390914
          ]
         },
         "hovertemplate": "Group=Real-World Male<br>Genre=Drama<br>Period=%{x}<br>Average Age=%{y}<extra></extra>",
         "legendgroup": "Real-World Male",
         "line": {
          "color": "#636efa",
          "dash": "solid"
         },
         "marker": {
          "symbol": "circle"
         },
         "mode": "lines+markers",
         "name": "Real-World Male",
         "orientation": "v",
         "showlegend": false,
         "type": "scatter",
         "x": [
          "1950-1965",
          "1966-1980",
          "1981-1995",
          "1996-2012"
         ],
         "xaxis": "x7",
         "y": [
          58.1128712871287,
          66.06960396039601,
          70.5450495049505,
          72.78128712871288
         ],
         "yaxis": "y7"
        },
        {
         "error_y": {
          "array": [
           37.902039373538564,
           40.74598092869509,
           40.6390212634055,
           38.106198253390914
          ]
         },
         "hovertemplate": "Group=Real-World Male<br>Genre=Thriller/Suspense<br>Period=%{x}<br>Average Age=%{y}<extra></extra>",
         "legendgroup": "Real-World Male",
         "line": {
          "color": "#636efa",
          "dash": "solid"
         },
         "marker": {
          "symbol": "circle"
         },
         "mode": "lines+markers",
         "name": "Real-World Male",
         "orientation": "v",
         "showlegend": false,
         "type": "scatter",
         "x": [
          "1950-1965",
          "1966-1980",
          "1981-1995",
          "1996-2012"
         ],
         "xaxis": "x8",
         "y": [
          58.1128712871287,
          66.06960396039601,
          70.5450495049505,
          72.78128712871288
         ],
         "yaxis": "y8"
        },
        {
         "error_y": {
          "array": [
           37.902039373538564,
           40.74598092869509,
           40.6390212634055,
           38.106198253390914
          ]
         },
         "hovertemplate": "Group=Real-World Male<br>Genre=Horror<br>Period=%{x}<br>Average Age=%{y}<extra></extra>",
         "legendgroup": "Real-World Male",
         "line": {
          "color": "#636efa",
          "dash": "solid"
         },
         "marker": {
          "symbol": "circle"
         },
         "mode": "lines+markers",
         "name": "Real-World Male",
         "orientation": "v",
         "showlegend": false,
         "type": "scatter",
         "x": [
          "1950-1965",
          "1966-1980",
          "1981-1995",
          "1996-2012"
         ],
         "xaxis": "x9",
         "y": [
          58.1128712871287,
          66.06960396039601,
          70.5450495049505,
          72.78128712871288
         ],
         "yaxis": "y9"
        },
        {
         "error_y": {
          "array": [
           37.902039373538564,
           40.74598092869509,
           40.6390212634055,
           38.106198253390914
          ]
         },
         "hovertemplate": "Group=Real-World Male<br>Genre=Science Fiction (Sci-Fi)<br>Period=%{x}<br>Average Age=%{y}<extra></extra>",
         "legendgroup": "Real-World Male",
         "line": {
          "color": "#636efa",
          "dash": "solid"
         },
         "marker": {
          "symbol": "circle"
         },
         "mode": "lines+markers",
         "name": "Real-World Male",
         "orientation": "v",
         "showlegend": false,
         "type": "scatter",
         "x": [
          "1950-1965",
          "1966-1980",
          "1981-1995",
          "1996-2012"
         ],
         "xaxis": "x4",
         "y": [
          58.1128712871287,
          66.06960396039601,
          70.5450495049505,
          72.78128712871288
         ],
         "yaxis": "y4"
        },
        {
         "error_y": {
          "array": [
           37.902039373538564,
           40.74598092869509,
           40.6390212634055,
           38.106198253390914
          ]
         },
         "hovertemplate": "Group=Real-World Male<br>Genre=Fantasy<br>Period=%{x}<br>Average Age=%{y}<extra></extra>",
         "legendgroup": "Real-World Male",
         "line": {
          "color": "#636efa",
          "dash": "solid"
         },
         "marker": {
          "symbol": "circle"
         },
         "mode": "lines+markers",
         "name": "Real-World Male",
         "orientation": "v",
         "showlegend": false,
         "type": "scatter",
         "x": [
          "1950-1965",
          "1966-1980",
          "1981-1995",
          "1996-2012"
         ],
         "xaxis": "x5",
         "y": [
          58.1128712871287,
          66.06960396039601,
          70.5450495049505,
          72.78128712871288
         ],
         "yaxis": "y5"
        },
        {
         "error_y": {
          "array": [
           37.902039373538564,
           40.74598092869509,
           40.6390212634055,
           38.106198253390914
          ]
         },
         "hovertemplate": "Group=Real-World Male<br>Genre=Romance<br>Period=%{x}<br>Average Age=%{y}<extra></extra>",
         "legendgroup": "Real-World Male",
         "line": {
          "color": "#636efa",
          "dash": "solid"
         },
         "marker": {
          "symbol": "circle"
         },
         "mode": "lines+markers",
         "name": "Real-World Male",
         "orientation": "v",
         "showlegend": false,
         "type": "scatter",
         "x": [
          "1950-1965",
          "1966-1980",
          "1981-1995",
          "1996-2012"
         ],
         "xaxis": "x6",
         "y": [
          58.1128712871287,
          66.06960396039601,
          70.5450495049505,
          72.78128712871288
         ],
         "yaxis": "y6"
        },
        {
         "error_y": {
          "array": [
           37.902039373538564,
           40.74598092869509,
           40.6390212634055,
           38.106198253390914
          ]
         },
         "hovertemplate": "Group=Real-World Male<br>Genre=Documentary<br>Period=%{x}<br>Average Age=%{y}<extra></extra>",
         "legendgroup": "Real-World Male",
         "line": {
          "color": "#636efa",
          "dash": "solid"
         },
         "marker": {
          "symbol": "circle"
         },
         "mode": "lines+markers",
         "name": "Real-World Male",
         "orientation": "v",
         "showlegend": false,
         "type": "scatter",
         "x": [
          "1950-1965",
          "1966-1980",
          "1981-1995",
          "1996-2012"
         ],
         "xaxis": "x",
         "y": [
          58.1128712871287,
          66.06960396039601,
          70.5450495049505,
          72.78128712871288
         ],
         "yaxis": "y"
        },
        {
         "error_y": {
          "array": [
           37.902039373538564,
           40.74598092869509,
           40.6390212634055,
           38.106198253390914
          ]
         },
         "hovertemplate": "Group=Real-World Male<br>Genre=Animation/Family<br>Period=%{x}<br>Average Age=%{y}<extra></extra>",
         "legendgroup": "Real-World Male",
         "line": {
          "color": "#636efa",
          "dash": "solid"
         },
         "marker": {
          "symbol": "circle"
         },
         "mode": "lines+markers",
         "name": "Real-World Male",
         "orientation": "v",
         "showlegend": false,
         "type": "scatter",
         "x": [
          "1950-1965",
          "1966-1980",
          "1981-1995",
          "1996-2012"
         ],
         "xaxis": "x2",
         "y": [
          58.1128712871287,
          66.06960396039601,
          70.5450495049505,
          72.78128712871288
         ],
         "yaxis": "y2"
        },
        {
         "error_y": {
          "array": [
           36.615604916834876,
           37.125798083364245,
           35.76534487046043,
           33.87436174606055
          ]
         },
         "hovertemplate": "Group=Real-World Female<br>Genre=All Genres<br>Period=%{x}<br>Average Age=%{y}<extra></extra>",
         "legendgroup": "Real-World Female",
         "line": {
          "color": "#EF553B",
          "dash": "dot"
         },
         "marker": {
          "symbol": "circle"
         },
         "mode": "lines+markers",
         "name": "Real-World Female",
         "orientation": "v",
         "showlegend": true,
         "type": "scatter",
         "x": [
          "1950-1965",
          "1966-1980",
          "1981-1995",
          "1996-2012"
         ],
         "xaxis": "x10",
         "y": [
          63.651881188118814,
          71.04128712871288,
          75.3562376237624,
          77.45376237623766
         ],
         "yaxis": "y10"
        },
        {
         "error_y": {
          "array": [
           36.615604916834876,
           37.125798083364245,
           35.76534487046043,
           33.87436174606055
          ]
         },
         "hovertemplate": "Group=Real-World Female<br>Genre=Action/Adventure<br>Period=%{x}<br>Average Age=%{y}<extra></extra>",
         "legendgroup": "Real-World Female",
         "line": {
          "color": "#EF553B",
          "dash": "dot"
         },
         "marker": {
          "symbol": "circle"
         },
         "mode": "lines+markers",
         "name": "Real-World Female",
         "orientation": "v",
         "showlegend": false,
         "type": "scatter",
         "x": [
          "1950-1965",
          "1966-1980",
          "1981-1995",
          "1996-2012"
         ],
         "xaxis": "x11",
         "y": [
          63.651881188118814,
          71.04128712871288,
          75.3562376237624,
          77.45376237623766
         ],
         "yaxis": "y11"
        },
        {
         "error_y": {
          "array": [
           36.615604916834876,
           37.125798083364245,
           35.76534487046043,
           33.87436174606055
          ]
         },
         "hovertemplate": "Group=Real-World Female<br>Genre=Comedy<br>Period=%{x}<br>Average Age=%{y}<extra></extra>",
         "legendgroup": "Real-World Female",
         "line": {
          "color": "#EF553B",
          "dash": "dot"
         },
         "marker": {
          "symbol": "circle"
         },
         "mode": "lines+markers",
         "name": "Real-World Female",
         "orientation": "v",
         "showlegend": false,
         "type": "scatter",
         "x": [
          "1950-1965",
          "1966-1980",
          "1981-1995",
          "1996-2012"
         ],
         "xaxis": "x12",
         "y": [
          63.651881188118814,
          71.04128712871288,
          75.3562376237624,
          77.45376237623766
         ],
         "yaxis": "y12"
        },
        {
         "error_y": {
          "array": [
           36.615604916834876,
           37.125798083364245,
           35.76534487046043,
           33.87436174606055
          ]
         },
         "hovertemplate": "Group=Real-World Female<br>Genre=Drama<br>Period=%{x}<br>Average Age=%{y}<extra></extra>",
         "legendgroup": "Real-World Female",
         "line": {
          "color": "#EF553B",
          "dash": "dot"
         },
         "marker": {
          "symbol": "circle"
         },
         "mode": "lines+markers",
         "name": "Real-World Female",
         "orientation": "v",
         "showlegend": false,
         "type": "scatter",
         "x": [
          "1950-1965",
          "1966-1980",
          "1981-1995",
          "1996-2012"
         ],
         "xaxis": "x7",
         "y": [
          63.651881188118814,
          71.04128712871288,
          75.3562376237624,
          77.45376237623766
         ],
         "yaxis": "y7"
        },
        {
         "error_y": {
          "array": [
           36.615604916834876,
           37.125798083364245,
           35.76534487046043,
           33.87436174606055
          ]
         },
         "hovertemplate": "Group=Real-World Female<br>Genre=Thriller/Suspense<br>Period=%{x}<br>Average Age=%{y}<extra></extra>",
         "legendgroup": "Real-World Female",
         "line": {
          "color": "#EF553B",
          "dash": "dot"
         },
         "marker": {
          "symbol": "circle"
         },
         "mode": "lines+markers",
         "name": "Real-World Female",
         "orientation": "v",
         "showlegend": false,
         "type": "scatter",
         "x": [
          "1950-1965",
          "1966-1980",
          "1981-1995",
          "1996-2012"
         ],
         "xaxis": "x8",
         "y": [
          63.651881188118814,
          71.04128712871288,
          75.3562376237624,
          77.45376237623766
         ],
         "yaxis": "y8"
        },
        {
         "error_y": {
          "array": [
           36.615604916834876,
           37.125798083364245,
           35.76534487046043,
           33.87436174606055
          ]
         },
         "hovertemplate": "Group=Real-World Female<br>Genre=Horror<br>Period=%{x}<br>Average Age=%{y}<extra></extra>",
         "legendgroup": "Real-World Female",
         "line": {
          "color": "#EF553B",
          "dash": "dot"
         },
         "marker": {
          "symbol": "circle"
         },
         "mode": "lines+markers",
         "name": "Real-World Female",
         "orientation": "v",
         "showlegend": false,
         "type": "scatter",
         "x": [
          "1950-1965",
          "1966-1980",
          "1981-1995",
          "1996-2012"
         ],
         "xaxis": "x9",
         "y": [
          63.651881188118814,
          71.04128712871288,
          75.3562376237624,
          77.45376237623766
         ],
         "yaxis": "y9"
        },
        {
         "error_y": {
          "array": [
           36.615604916834876,
           37.125798083364245,
           35.76534487046043,
           33.87436174606055
          ]
         },
         "hovertemplate": "Group=Real-World Female<br>Genre=Science Fiction (Sci-Fi)<br>Period=%{x}<br>Average Age=%{y}<extra></extra>",
         "legendgroup": "Real-World Female",
         "line": {
          "color": "#EF553B",
          "dash": "dot"
         },
         "marker": {
          "symbol": "circle"
         },
         "mode": "lines+markers",
         "name": "Real-World Female",
         "orientation": "v",
         "showlegend": false,
         "type": "scatter",
         "x": [
          "1950-1965",
          "1966-1980",
          "1981-1995",
          "1996-2012"
         ],
         "xaxis": "x4",
         "y": [
          63.651881188118814,
          71.04128712871288,
          75.3562376237624,
          77.45376237623766
         ],
         "yaxis": "y4"
        },
        {
         "error_y": {
          "array": [
           36.615604916834876,
           37.125798083364245,
           35.76534487046043,
           33.87436174606055
          ]
         },
         "hovertemplate": "Group=Real-World Female<br>Genre=Fantasy<br>Period=%{x}<br>Average Age=%{y}<extra></extra>",
         "legendgroup": "Real-World Female",
         "line": {
          "color": "#EF553B",
          "dash": "dot"
         },
         "marker": {
          "symbol": "circle"
         },
         "mode": "lines+markers",
         "name": "Real-World Female",
         "orientation": "v",
         "showlegend": false,
         "type": "scatter",
         "x": [
          "1950-1965",
          "1966-1980",
          "1981-1995",
          "1996-2012"
         ],
         "xaxis": "x5",
         "y": [
          63.651881188118814,
          71.04128712871288,
          75.3562376237624,
          77.45376237623766
         ],
         "yaxis": "y5"
        },
        {
         "error_y": {
          "array": [
           36.615604916834876,
           37.125798083364245,
           35.76534487046043,
           33.87436174606055
          ]
         },
         "hovertemplate": "Group=Real-World Female<br>Genre=Romance<br>Period=%{x}<br>Average Age=%{y}<extra></extra>",
         "legendgroup": "Real-World Female",
         "line": {
          "color": "#EF553B",
          "dash": "dot"
         },
         "marker": {
          "symbol": "circle"
         },
         "mode": "lines+markers",
         "name": "Real-World Female",
         "orientation": "v",
         "showlegend": false,
         "type": "scatter",
         "x": [
          "1950-1965",
          "1966-1980",
          "1981-1995",
          "1996-2012"
         ],
         "xaxis": "x6",
         "y": [
          63.651881188118814,
          71.04128712871288,
          75.3562376237624,
          77.45376237623766
         ],
         "yaxis": "y6"
        },
        {
         "error_y": {
          "array": [
           36.615604916834876,
           37.125798083364245,
           35.76534487046043,
           33.87436174606055
          ]
         },
         "hovertemplate": "Group=Real-World Female<br>Genre=Documentary<br>Period=%{x}<br>Average Age=%{y}<extra></extra>",
         "legendgroup": "Real-World Female",
         "line": {
          "color": "#EF553B",
          "dash": "dot"
         },
         "marker": {
          "symbol": "circle"
         },
         "mode": "lines+markers",
         "name": "Real-World Female",
         "orientation": "v",
         "showlegend": false,
         "type": "scatter",
         "x": [
          "1950-1965",
          "1966-1980",
          "1981-1995",
          "1996-2012"
         ],
         "xaxis": "x",
         "y": [
          63.651881188118814,
          71.04128712871288,
          75.3562376237624,
          77.45376237623766
         ],
         "yaxis": "y"
        },
        {
         "error_y": {
          "array": [
           36.615604916834876,
           37.125798083364245,
           35.76534487046043,
           33.87436174606055
          ]
         },
         "hovertemplate": "Group=Real-World Female<br>Genre=Animation/Family<br>Period=%{x}<br>Average Age=%{y}<extra></extra>",
         "legendgroup": "Real-World Female",
         "line": {
          "color": "#EF553B",
          "dash": "dot"
         },
         "marker": {
          "symbol": "circle"
         },
         "mode": "lines+markers",
         "name": "Real-World Female",
         "orientation": "v",
         "showlegend": false,
         "type": "scatter",
         "x": [
          "1950-1965",
          "1966-1980",
          "1981-1995",
          "1996-2012"
         ],
         "xaxis": "x2",
         "y": [
          63.651881188118814,
          71.04128712871288,
          75.3562376237624,
          77.45376237623766
         ],
         "yaxis": "y2"
        },
        {
         "error_y": {
          "array": [
           13.047060867792892,
           13.148005635594295,
           14.676037221066116,
           14.783378590137879
          ]
         },
         "hovertemplate": "Group=Actor Male<br>Genre=All Genres<br>Period=%{x}<br>Average Age=%{y}<extra></extra>",
         "legendgroup": "Actor Male",
         "line": {
          "color": "#00cc96",
          "dash": "dash"
         },
         "marker": {
          "symbol": "circle"
         },
         "mode": "lines+markers",
         "name": "Actor Male",
         "orientation": "v",
         "showlegend": true,
         "type": "scatter",
         "x": [
          "1950-1965",
          "1966-1980",
          "1981-1995",
          "1996-2012"
         ],
         "xaxis": "x10",
         "y": [
          41.29187680115274,
          42.76487963373209,
          43.54168730394585,
          42.7044925549214
         ],
         "yaxis": "y10"
        },
        {
         "error_y": {
          "array": [
           12.013297645966759,
           12.422052114048538,
           14.134271676202152,
           13.968382419018724
          ]
         },
         "hovertemplate": "Group=Actor Male<br>Genre=Action/Adventure<br>Period=%{x}<br>Average Age=%{y}<extra></extra>",
         "legendgroup": "Actor Male",
         "line": {
          "color": "#00cc96",
          "dash": "dash"
         },
         "marker": {
          "symbol": "circle"
         },
         "mode": "lines+markers",
         "name": "Actor Male",
         "orientation": "v",
         "showlegend": false,
         "type": "scatter",
         "x": [
          "1950-1965",
          "1966-1980",
          "1981-1995",
          "1996-2012"
         ],
         "xaxis": "x11",
         "y": [
          40.40282685512368,
          43.18397256002495,
          43.92062084257206,
          42.16447688564477
         ],
         "yaxis": "y11"
        },
        {
         "error_y": {
          "array": [
           12.552160056976673,
           12.305205908810375,
           14.125693751249319,
           14.620616452034847
          ]
         },
         "hovertemplate": "Group=Actor Male<br>Genre=Comedy<br>Period=%{x}<br>Average Age=%{y}<extra></extra>",
         "legendgroup": "Actor Male",
         "line": {
          "color": "#00cc96",
          "dash": "dash"
         },
         "marker": {
          "symbol": "circle"
         },
         "mode": "lines+markers",
         "name": "Actor Male",
         "orientation": "v",
         "showlegend": false,
         "type": "scatter",
         "x": [
          "1950-1965",
          "1966-1980",
          "1981-1995",
          "1996-2012"
         ],
         "xaxis": "x12",
         "y": [
          42.12034927866363,
          43.29477911646586,
          44.43418467583497,
          42.770605759682226
         ],
         "yaxis": "y12"
        },
        {
         "error_y": {
          "array": [
           14.009762963407342,
           14.078084983061192,
           15.345087596660777,
           15.197348612018029
          ]
         },
         "hovertemplate": "Group=Actor Male<br>Genre=Drama<br>Period=%{x}<br>Average Age=%{y}<extra></extra>",
         "legendgroup": "Actor Male",
         "line": {
          "color": "#00cc96",
          "dash": "dash"
         },
         "marker": {
          "symbol": "circle"
         },
         "mode": "lines+markers",
         "name": "Actor Male",
         "orientation": "v",
         "showlegend": false,
         "type": "scatter",
         "x": [
          "1950-1965",
          "1966-1980",
          "1981-1995",
          "1996-2012"
         ],
         "xaxis": "x7",
         "y": [
          40.731567449481155,
          41.70139381053626,
          42.985006815084056,
          42.501865472764095
         ],
         "yaxis": "y7"
        },
        {
         "error_y": {
          "array": [
           12.35577276191444,
           12.734165225721636,
           13.742236705106137,
           13.864732898294083
          ]
         },
         "hovertemplate": "Group=Actor Male<br>Genre=Thriller/Suspense<br>Period=%{x}<br>Average Age=%{y}<extra></extra>",
         "legendgroup": "Actor Male",
         "line": {
          "color": "#00cc96",
          "dash": "dash"
         },
         "marker": {
          "symbol": "circle"
         },
         "mode": "lines+markers",
         "name": "Actor Male",
         "orientation": "v",
         "showlegend": false,
         "type": "scatter",
         "x": [
          "1950-1965",
          "1966-1980",
          "1981-1995",
          "1996-2012"
         ],
         "xaxis": "x8",
         "y": [
          42.158112582781456,
          44.33825701624816,
          43.6385426653883,
          43.537678207739305
         ],
         "yaxis": "y8"
        },
        {
         "error_y": {
          "array": [
           12.104877445250793,
           13.229974474421999,
           14.359320146735309,
           14.947032687332076
          ]
         },
         "hovertemplate": "Group=Actor Male<br>Genre=Horror<br>Period=%{x}<br>Average Age=%{y}<extra></extra>",
         "legendgroup": "Actor Male",
         "line": {
          "color": "#00cc96",
          "dash": "dash"
         },
         "marker": {
          "symbol": "circle"
         },
         "mode": "lines+markers",
         "name": "Actor Male",
         "orientation": "v",
         "showlegend": false,
         "type": "scatter",
         "x": [
          "1950-1965",
          "1966-1980",
          "1981-1995",
          "1996-2012"
         ],
         "xaxis": "x9",
         "y": [
          41.308457711442784,
          44.097118463180365,
          41.997252747252745,
          41.042387543252595
         ],
         "yaxis": "y9"
        },
        {
         "error_y": {
          "array": [
           11.975104895361124,
           11.815500861413392,
           15.386744918660323,
           13.42295575038635
          ]
         },
         "hovertemplate": "Group=Actor Male<br>Genre=Science Fiction (Sci-Fi)<br>Period=%{x}<br>Average Age=%{y}<extra></extra>",
         "legendgroup": "Actor Male",
         "line": {
          "color": "#00cc96",
          "dash": "dash"
         },
         "marker": {
          "symbol": "circle"
         },
         "mode": "lines+markers",
         "name": "Actor Male",
         "orientation": "v",
         "showlegend": false,
         "type": "scatter",
         "x": [
          "1950-1965",
          "1966-1980",
          "1981-1995",
          "1996-2012"
         ],
         "xaxis": "x4",
         "y": [
          43.6078431372549,
          42,
          43.66,
          42.706896551724135
         ],
         "yaxis": "y4"
        },
        {
         "error_y": {
          "array": [
           12.778988075426163,
           10.391693874787766,
           15.790321328234674,
           16.317671742590644
          ]
         },
         "hovertemplate": "Group=Actor Male<br>Genre=Fantasy<br>Period=%{x}<br>Average Age=%{y}<extra></extra>",
         "legendgroup": "Actor Male",
         "line": {
          "color": "#00cc96",
          "dash": "dash"
         },
         "marker": {
          "symbol": "circle"
         },
         "mode": "lines+markers",
         "name": "Actor Male",
         "orientation": "v",
         "showlegend": false,
         "type": "scatter",
         "x": [
          "1950-1965",
          "1966-1980",
          "1981-1995",
          "1996-2012"
         ],
         "xaxis": "x5",
         "y": [
          44.541666666666664,
          44.888888888888886,
          42.64772727272727,
          42.403614457831324
         ],
         "yaxis": "y5"
        },
        {
         "error_y": {
          "array": [
           13.372782509886925,
           11.758660305491334,
           14.315807586655264,
           14.498321831784263
          ]
         },
         "hovertemplate": "Group=Actor Male<br>Genre=Romance<br>Period=%{x}<br>Average Age=%{y}<extra></extra>",
         "legendgroup": "Actor Male",
         "line": {
          "color": "#00cc96",
          "dash": "dash"
         },
         "marker": {
          "symbol": "circle"
         },
         "mode": "lines+markers",
         "name": "Actor Male",
         "orientation": "v",
         "showlegend": false,
         "type": "scatter",
         "x": [
          "1950-1965",
          "1966-1980",
          "1981-1995",
          "1996-2012"
         ],
         "xaxis": "x6",
         "y": [
          42.09308510638298,
          40.90346534653465,
          41.66366366366366,
          41.37301587301587
         ],
         "yaxis": "y6"
        },
        {
         "error_y": {
          "array": [
           12.796683024078261,
           14.227800786007199,
           14.177855526268667,
           15.074587952118627
          ]
         },
         "hovertemplate": "Group=Actor Male<br>Genre=Documentary<br>Period=%{x}<br>Average Age=%{y}<extra></extra>",
         "legendgroup": "Actor Male",
         "line": {
          "color": "#00cc96",
          "dash": "dash"
         },
         "marker": {
          "symbol": "circle"
         },
         "mode": "lines+markers",
         "name": "Actor Male",
         "orientation": "v",
         "showlegend": false,
         "type": "scatter",
         "x": [
          "1950-1965",
          "1966-1980",
          "1981-1995",
          "1996-2012"
         ],
         "xaxis": "x",
         "y": [
          42.85950413223141,
          40.617079889807165,
          43.121457489878544,
          45.82464146023468
         ],
         "yaxis": "y"
        },
        {
         "error_y": {
          "array": [
           15.796118647980757,
           14.495814392428557,
           15.287423952628552,
           17.18423990869175
          ]
         },
         "hovertemplate": "Group=Actor Male<br>Genre=Animation/Family<br>Period=%{x}<br>Average Age=%{y}<extra></extra>",
         "legendgroup": "Actor Male",
         "line": {
          "color": "#00cc96",
          "dash": "dash"
         },
         "marker": {
          "symbol": "circle"
         },
         "mode": "lines+markers",
         "name": "Actor Male",
         "orientation": "v",
         "showlegend": false,
         "type": "scatter",
         "x": [
          "1950-1965",
          "1966-1980",
          "1981-1995",
          "1996-2012"
         ],
         "xaxis": "x2",
         "y": [
          42.51162790697674,
          42.573849878934624,
          46.25333333333333,
          43.76137761377614
         ],
         "yaxis": "y2"
        },
        {
         "error_y": {
          "array": [
           14.20899074361618,
           13.9330353713941,
           14.857496747404186,
           14.986875621825513
          ]
         },
         "hovertemplate": "Group=Actor Female<br>Genre=All Genres<br>Period=%{x}<br>Average Age=%{y}<extra></extra>",
         "legendgroup": "Actor Female",
         "line": {
          "color": "#ab63fa",
          "dash": "longdash"
         },
         "marker": {
          "symbol": "circle"
         },
         "mode": "lines+markers",
         "name": "Actor Female",
         "orientation": "v",
         "showlegend": true,
         "type": "scatter",
         "x": [
          "1950-1965",
          "1966-1980",
          "1981-1995",
          "1996-2012"
         ],
         "xaxis": "x10",
         "y": [
          33.95148140783456,
          34.99692570452605,
          36.3660062565172,
          36.540158544828856
         ],
         "yaxis": "y10"
        },
        {
         "error_y": {
          "array": [
           11.86947071396065,
           12.56387981538753,
           13.256373954900113,
           13.952733476742827
          ]
         },
         "hovertemplate": "Group=Actor Female<br>Genre=Action/Adventure<br>Period=%{x}<br>Average Age=%{y}<extra></extra>",
         "legendgroup": "Actor Female",
         "line": {
          "color": "#ab63fa",
          "dash": "longdash"
         },
         "marker": {
          "symbol": "circle"
         },
         "mode": "lines+markers",
         "name": "Actor Female",
         "orientation": "v",
         "showlegend": false,
         "type": "scatter",
         "x": [
          "1950-1965",
          "1966-1980",
          "1981-1995",
          "1996-2012"
         ],
         "xaxis": "x11",
         "y": [
          31.71860816944024,
          33.37816091954023,
          33.8199121522694,
          34.81932187645146
         ],
         "yaxis": "y11"
        },
        {
         "error_y": {
          "array": [
           14.713776058301608,
           13.300750202964446,
           14.175095610364512,
           15.332817990908508
          ]
         },
         "hovertemplate": "Group=Actor Female<br>Genre=Comedy<br>Period=%{x}<br>Average Age=%{y}<extra></extra>",
         "legendgroup": "Actor Female",
         "line": {
          "color": "#ab63fa",
          "dash": "longdash"
         },
         "marker": {
          "symbol": "circle"
         },
         "mode": "lines+markers",
         "name": "Actor Female",
         "orientation": "v",
         "showlegend": false,
         "type": "scatter",
         "x": [
          "1950-1965",
          "1966-1980",
          "1981-1995",
          "1996-2012"
         ],
         "xaxis": "x12",
         "y": [
          34.42271293375394,
          35.51426174496644,
          37.252408477842,
          37.84496124031008
         ],
         "yaxis": "y12"
        },
        {
         "error_y": {
          "array": [
           14.51684781521615,
           14.643313614612314,
           15.482143298768447,
           15.440853846271041
          ]
         },
         "hovertemplate": "Group=Actor Female<br>Genre=Drama<br>Period=%{x}<br>Average Age=%{y}<extra></extra>",
         "legendgroup": "Actor Female",
         "line": {
          "color": "#ab63fa",
          "dash": "longdash"
         },
         "marker": {
          "symbol": "circle"
         },
         "mode": "lines+markers",
         "name": "Actor Female",
         "orientation": "v",
         "showlegend": false,
         "type": "scatter",
         "x": [
          "1950-1965",
          "1966-1980",
          "1981-1995",
          "1996-2012"
         ],
         "xaxis": "x7",
         "y": [
          34.29937304075235,
          35.897496457250824,
          36.61402771944561,
          36.83267219617743
         ],
         "yaxis": "y7"
        },
        {
         "error_y": {
          "array": [
           13.792815750112023,
           13.815878998454247,
           14.29599422734188,
           13.664379254630814
          ]
         },
         "hovertemplate": "Group=Actor Female<br>Genre=Thriller/Suspense<br>Period=%{x}<br>Average Age=%{y}<extra></extra>",
         "legendgroup": "Actor Female",
         "line": {
          "color": "#ab63fa",
          "dash": "longdash"
         },
         "marker": {
          "symbol": "circle"
         },
         "mode": "lines+markers",
         "name": "Actor Female",
         "orientation": "v",
         "showlegend": false,
         "type": "scatter",
         "x": [
          "1950-1965",
          "1966-1980",
          "1981-1995",
          "1996-2012"
         ],
         "xaxis": "x8",
         "y": [
          34.59332023575639,
          35.082491582491585,
          36.96659707724426,
          35.823338735818474
         ],
         "yaxis": "y8"
        },
        {
         "error_y": {
          "array": [
           11.239755751043937,
           13.882169737951505,
           14.696070336274959,
           13.266367689711052
          ]
         },
         "hovertemplate": "Group=Actor Female<br>Genre=Horror<br>Period=%{x}<br>Average Age=%{y}<extra></extra>",
         "legendgroup": "Actor Female",
         "line": {
          "color": "#ab63fa",
          "dash": "longdash"
         },
         "marker": {
          "symbol": "circle"
         },
         "mode": "lines+markers",
         "name": "Actor Female",
         "orientation": "v",
         "showlegend": false,
         "type": "scatter",
         "x": [
          "1950-1965",
          "1966-1980",
          "1981-1995",
          "1996-2012"
         ],
         "xaxis": "x9",
         "y": [
          30.53488372093023,
          32.795698924731184,
          33.68586387434555,
          32.67185069984448
         ],
         "yaxis": "y9"
        },
        {
         "error_y": {
          "array": [
           12.3078922048544,
           11.089582317600422,
           13.630177769631109,
           11.712792840694839
          ]
         },
         "hovertemplate": "Group=Actor Female<br>Genre=Science Fiction (Sci-Fi)<br>Period=%{x}<br>Average Age=%{y}<extra></extra>",
         "legendgroup": "Actor Female",
         "line": {
          "color": "#ab63fa",
          "dash": "longdash"
         },
         "marker": {
          "symbol": "circle"
         },
         "mode": "lines+markers",
         "name": "Actor Female",
         "orientation": "v",
         "showlegend": false,
         "type": "scatter",
         "x": [
          "1950-1965",
          "1966-1980",
          "1981-1995",
          "1996-2012"
         ],
         "xaxis": "x4",
         "y": [
          26.7,
          33.642857142857146,
          35.17857142857143,
          34.1875
         ],
         "yaxis": "y4"
        },
        {
         "error_y": {
          "array": [
           14.142135623730951,
           10.634624492441567,
           12.021111850605882,
           14.830530877146765
          ]
         },
         "hovertemplate": "Group=Actor Female<br>Genre=Fantasy<br>Period=%{x}<br>Average Age=%{y}<extra></extra>",
         "legendgroup": "Actor Female",
         "line": {
          "color": "#ab63fa",
          "dash": "longdash"
         },
         "marker": {
          "symbol": "circle"
         },
         "mode": "lines+markers",
         "name": "Actor Female",
         "orientation": "v",
         "showlegend": false,
         "type": "scatter",
         "x": [
          "1950-1965",
          "1966-1980",
          "1981-1995",
          "1996-2012"
         ],
         "xaxis": "x5",
         "y": [
          41,
          28.666666666666668,
          32.088235294117645,
          34.94827586206897
         ],
         "yaxis": "y5"
        },
        {
         "error_y": {
          "array": [
           14.992947791894244,
           14.120606765007626,
           13.611328431469166,
           14.447327383919946
          ]
         },
         "hovertemplate": "Group=Actor Female<br>Genre=Romance<br>Period=%{x}<br>Average Age=%{y}<extra></extra>",
         "legendgroup": "Actor Female",
         "line": {
          "color": "#ab63fa",
          "dash": "longdash"
         },
         "marker": {
          "symbol": "circle"
         },
         "mode": "lines+markers",
         "name": "Actor Female",
         "orientation": "v",
         "showlegend": false,
         "type": "scatter",
         "x": [
          "1950-1965",
          "1966-1980",
          "1981-1995",
          "1996-2012"
         ],
         "xaxis": "x6",
         "y": [
          34.93577981651376,
          34.928104575163395,
          34.98014888337469,
          36.47660098522167
         ],
         "yaxis": "y6"
        },
        {
         "error_y": {
          "array": [
           15.468354571987607,
           13.195788325694222,
           14.720769598744432,
           15.315856386160064
          ]
         },
         "hovertemplate": "Group=Actor Female<br>Genre=Documentary<br>Period=%{x}<br>Average Age=%{y}<extra></extra>",
         "legendgroup": "Actor Female",
         "line": {
          "color": "#ab63fa",
          "dash": "longdash"
         },
         "marker": {
          "symbol": "circle"
         },
         "mode": "lines+markers",
         "name": "Actor Female",
         "orientation": "v",
         "showlegend": false,
         "type": "scatter",
         "x": [
          "1950-1965",
          "1966-1980",
          "1981-1995",
          "1996-2012"
         ],
         "xaxis": "x",
         "y": [
          36.5974025974026,
          33.55223880597015,
          37.8054054054054,
          38.91509433962264
         ],
         "yaxis": "y"
        },
        {
         "error_y": {
          "array": [
           15.655662128795369,
           16.789078012084758,
           17.406015079767844,
           17.29454341106357
          ]
         },
         "hovertemplate": "Group=Actor Female<br>Genre=Animation/Family<br>Period=%{x}<br>Average Age=%{y}<extra></extra>",
         "legendgroup": "Actor Female",
         "line": {
          "color": "#ab63fa",
          "dash": "longdash"
         },
         "marker": {
          "symbol": "circle"
         },
         "mode": "lines+markers",
         "name": "Actor Female",
         "orientation": "v",
         "showlegend": false,
         "type": "scatter",
         "x": [
          "1950-1965",
          "1966-1980",
          "1981-1995",
          "1996-2012"
         ],
         "xaxis": "x2",
         "y": [
          35.333333333333336,
          36.66942148760331,
          39.78260869565217,
          37.50744248985115
         ],
         "yaxis": "y2"
        }
       ],
       "layout": {
        "annotations": [
         {
          "font": {},
          "showarrow": false,
          "text": "Genre=Documentary",
          "x": 0.15999999999999998,
          "xanchor": "center",
          "xref": "paper",
          "y": 0.1975,
          "yanchor": "bottom",
          "yref": "paper"
         },
         {
          "font": {},
          "showarrow": false,
          "text": "Genre=Animation/Family",
          "x": 0.49999999999999994,
          "xanchor": "center",
          "xref": "paper",
          "y": 0.1975,
          "yanchor": "bottom",
          "yref": "paper"
         },
         {
          "font": {},
          "showarrow": false,
          "text": "Genre=Science Fiction (Sci-Fi)",
          "x": 0.15999999999999998,
          "xanchor": "center",
          "xref": "paper",
          "y": 0.465,
          "yanchor": "bottom",
          "yref": "paper"
         },
         {
          "font": {},
          "showarrow": false,
          "text": "Genre=Fantasy",
          "x": 0.49999999999999994,
          "xanchor": "center",
          "xref": "paper",
          "y": 0.465,
          "yanchor": "bottom",
          "yref": "paper"
         },
         {
          "font": {},
          "showarrow": false,
          "text": "Genre=Romance",
          "x": 0.8399999999999999,
          "xanchor": "center",
          "xref": "paper",
          "y": 0.465,
          "yanchor": "bottom",
          "yref": "paper"
         },
         {
          "font": {},
          "showarrow": false,
          "text": "Genre=Drama",
          "x": 0.15999999999999998,
          "xanchor": "center",
          "xref": "paper",
          "y": 0.7325,
          "yanchor": "bottom",
          "yref": "paper"
         },
         {
          "font": {},
          "showarrow": false,
          "text": "Genre=Thriller/Suspense",
          "x": 0.49999999999999994,
          "xanchor": "center",
          "xref": "paper",
          "y": 0.7325,
          "yanchor": "bottom",
          "yref": "paper"
         },
         {
          "font": {},
          "showarrow": false,
          "text": "Genre=Horror",
          "x": 0.8399999999999999,
          "xanchor": "center",
          "xref": "paper",
          "y": 0.7325,
          "yanchor": "bottom",
          "yref": "paper"
         },
         {
          "font": {},
          "showarrow": false,
          "text": "Genre=All Genres",
          "x": 0.15999999999999998,
          "xanchor": "center",
          "xref": "paper",
          "y": 1,
          "yanchor": "bottom",
          "yref": "paper"
         },
         {
          "font": {},
          "showarrow": false,
          "text": "Genre=Action/Adventure",
          "x": 0.49999999999999994,
          "xanchor": "center",
          "xref": "paper",
          "y": 1,
          "yanchor": "bottom",
          "yref": "paper"
         },
         {
          "font": {},
          "showarrow": false,
          "text": "Genre=Comedy",
          "x": 0.8399999999999999,
          "xanchor": "center",
          "xref": "paper",
          "y": 1,
          "yanchor": "bottom",
          "yref": "paper"
         }
        ],
        "height": 800,
        "legend": {
         "orientation": "h",
         "title": {
          "text": "Groups"
         },
         "tracegroupgap": 0,
         "x": 0.5,
         "xanchor": "center",
         "y": 1.02,
         "yanchor": "bottom"
        },
        "template": {
         "data": {
          "bar": [
           {
            "error_x": {
             "color": "#2a3f5f"
            },
            "error_y": {
             "color": "#2a3f5f"
            },
            "marker": {
             "line": {
              "color": "white",
              "width": 0.5
             },
             "pattern": {
              "fillmode": "overlay",
              "size": 10,
              "solidity": 0.2
             }
            },
            "type": "bar"
           }
          ],
          "barpolar": [
           {
            "marker": {
             "line": {
              "color": "white",
              "width": 0.5
             },
             "pattern": {
              "fillmode": "overlay",
              "size": 10,
              "solidity": 0.2
             }
            },
            "type": "barpolar"
           }
          ],
          "carpet": [
           {
            "aaxis": {
             "endlinecolor": "#2a3f5f",
             "gridcolor": "#C8D4E3",
             "linecolor": "#C8D4E3",
             "minorgridcolor": "#C8D4E3",
             "startlinecolor": "#2a3f5f"
            },
            "baxis": {
             "endlinecolor": "#2a3f5f",
             "gridcolor": "#C8D4E3",
             "linecolor": "#C8D4E3",
             "minorgridcolor": "#C8D4E3",
             "startlinecolor": "#2a3f5f"
            },
            "type": "carpet"
           }
          ],
          "choropleth": [
           {
            "colorbar": {
             "outlinewidth": 0,
             "ticks": ""
            },
            "type": "choropleth"
           }
          ],
          "contour": [
           {
            "colorbar": {
             "outlinewidth": 0,
             "ticks": ""
            },
            "colorscale": [
             [
              0,
              "#0d0887"
             ],
             [
              0.1111111111111111,
              "#46039f"
             ],
             [
              0.2222222222222222,
              "#7201a8"
             ],
             [
              0.3333333333333333,
              "#9c179e"
             ],
             [
              0.4444444444444444,
              "#bd3786"
             ],
             [
              0.5555555555555556,
              "#d8576b"
             ],
             [
              0.6666666666666666,
              "#ed7953"
             ],
             [
              0.7777777777777778,
              "#fb9f3a"
             ],
             [
              0.8888888888888888,
              "#fdca26"
             ],
             [
              1,
              "#f0f921"
             ]
            ],
            "type": "contour"
           }
          ],
          "contourcarpet": [
           {
            "colorbar": {
             "outlinewidth": 0,
             "ticks": ""
            },
            "type": "contourcarpet"
           }
          ],
          "heatmap": [
           {
            "colorbar": {
             "outlinewidth": 0,
             "ticks": ""
            },
            "colorscale": [
             [
              0,
              "#0d0887"
             ],
             [
              0.1111111111111111,
              "#46039f"
             ],
             [
              0.2222222222222222,
              "#7201a8"
             ],
             [
              0.3333333333333333,
              "#9c179e"
             ],
             [
              0.4444444444444444,
              "#bd3786"
             ],
             [
              0.5555555555555556,
              "#d8576b"
             ],
             [
              0.6666666666666666,
              "#ed7953"
             ],
             [
              0.7777777777777778,
              "#fb9f3a"
             ],
             [
              0.8888888888888888,
              "#fdca26"
             ],
             [
              1,
              "#f0f921"
             ]
            ],
            "type": "heatmap"
           }
          ],
          "heatmapgl": [
           {
            "colorbar": {
             "outlinewidth": 0,
             "ticks": ""
            },
            "colorscale": [
             [
              0,
              "#0d0887"
             ],
             [
              0.1111111111111111,
              "#46039f"
             ],
             [
              0.2222222222222222,
              "#7201a8"
             ],
             [
              0.3333333333333333,
              "#9c179e"
             ],
             [
              0.4444444444444444,
              "#bd3786"
             ],
             [
              0.5555555555555556,
              "#d8576b"
             ],
             [
              0.6666666666666666,
              "#ed7953"
             ],
             [
              0.7777777777777778,
              "#fb9f3a"
             ],
             [
              0.8888888888888888,
              "#fdca26"
             ],
             [
              1,
              "#f0f921"
             ]
            ],
            "type": "heatmapgl"
           }
          ],
          "histogram": [
           {
            "marker": {
             "pattern": {
              "fillmode": "overlay",
              "size": 10,
              "solidity": 0.2
             }
            },
            "type": "histogram"
           }
          ],
          "histogram2d": [
           {
            "colorbar": {
             "outlinewidth": 0,
             "ticks": ""
            },
            "colorscale": [
             [
              0,
              "#0d0887"
             ],
             [
              0.1111111111111111,
              "#46039f"
             ],
             [
              0.2222222222222222,
              "#7201a8"
             ],
             [
              0.3333333333333333,
              "#9c179e"
             ],
             [
              0.4444444444444444,
              "#bd3786"
             ],
             [
              0.5555555555555556,
              "#d8576b"
             ],
             [
              0.6666666666666666,
              "#ed7953"
             ],
             [
              0.7777777777777778,
              "#fb9f3a"
             ],
             [
              0.8888888888888888,
              "#fdca26"
             ],
             [
              1,
              "#f0f921"
             ]
            ],
            "type": "histogram2d"
           }
          ],
          "histogram2dcontour": [
           {
            "colorbar": {
             "outlinewidth": 0,
             "ticks": ""
            },
            "colorscale": [
             [
              0,
              "#0d0887"
             ],
             [
              0.1111111111111111,
              "#46039f"
             ],
             [
              0.2222222222222222,
              "#7201a8"
             ],
             [
              0.3333333333333333,
              "#9c179e"
             ],
             [
              0.4444444444444444,
              "#bd3786"
             ],
             [
              0.5555555555555556,
              "#d8576b"
             ],
             [
              0.6666666666666666,
              "#ed7953"
             ],
             [
              0.7777777777777778,
              "#fb9f3a"
             ],
             [
              0.8888888888888888,
              "#fdca26"
             ],
             [
              1,
              "#f0f921"
             ]
            ],
            "type": "histogram2dcontour"
           }
          ],
          "mesh3d": [
           {
            "colorbar": {
             "outlinewidth": 0,
             "ticks": ""
            },
            "type": "mesh3d"
           }
          ],
          "parcoords": [
           {
            "line": {
             "colorbar": {
              "outlinewidth": 0,
              "ticks": ""
             }
            },
            "type": "parcoords"
           }
          ],
          "pie": [
           {
            "automargin": true,
            "type": "pie"
           }
          ],
          "scatter": [
           {
            "fillpattern": {
             "fillmode": "overlay",
             "size": 10,
             "solidity": 0.2
            },
            "type": "scatter"
           }
          ],
          "scatter3d": [
           {
            "line": {
             "colorbar": {
              "outlinewidth": 0,
              "ticks": ""
             }
            },
            "marker": {
             "colorbar": {
              "outlinewidth": 0,
              "ticks": ""
             }
            },
            "type": "scatter3d"
           }
          ],
          "scattercarpet": [
           {
            "marker": {
             "colorbar": {
              "outlinewidth": 0,
              "ticks": ""
             }
            },
            "type": "scattercarpet"
           }
          ],
          "scattergeo": [
           {
            "marker": {
             "colorbar": {
              "outlinewidth": 0,
              "ticks": ""
             }
            },
            "type": "scattergeo"
           }
          ],
          "scattergl": [
           {
            "marker": {
             "colorbar": {
              "outlinewidth": 0,
              "ticks": ""
             }
            },
            "type": "scattergl"
           }
          ],
          "scattermapbox": [
           {
            "marker": {
             "colorbar": {
              "outlinewidth": 0,
              "ticks": ""
             }
            },
            "type": "scattermapbox"
           }
          ],
          "scatterpolar": [
           {
            "marker": {
             "colorbar": {
              "outlinewidth": 0,
              "ticks": ""
             }
            },
            "type": "scatterpolar"
           }
          ],
          "scatterpolargl": [
           {
            "marker": {
             "colorbar": {
              "outlinewidth": 0,
              "ticks": ""
             }
            },
            "type": "scatterpolargl"
           }
          ],
          "scatterternary": [
           {
            "marker": {
             "colorbar": {
              "outlinewidth": 0,
              "ticks": ""
             }
            },
            "type": "scatterternary"
           }
          ],
          "surface": [
           {
            "colorbar": {
             "outlinewidth": 0,
             "ticks": ""
            },
            "colorscale": [
             [
              0,
              "#0d0887"
             ],
             [
              0.1111111111111111,
              "#46039f"
             ],
             [
              0.2222222222222222,
              "#7201a8"
             ],
             [
              0.3333333333333333,
              "#9c179e"
             ],
             [
              0.4444444444444444,
              "#bd3786"
             ],
             [
              0.5555555555555556,
              "#d8576b"
             ],
             [
              0.6666666666666666,
              "#ed7953"
             ],
             [
              0.7777777777777778,
              "#fb9f3a"
             ],
             [
              0.8888888888888888,
              "#fdca26"
             ],
             [
              1,
              "#f0f921"
             ]
            ],
            "type": "surface"
           }
          ],
          "table": [
           {
            "cells": {
             "fill": {
              "color": "#EBF0F8"
             },
             "line": {
              "color": "white"
             }
            },
            "header": {
             "fill": {
              "color": "#C8D4E3"
             },
             "line": {
              "color": "white"
             }
            },
            "type": "table"
           }
          ]
         },
         "layout": {
          "annotationdefaults": {
           "arrowcolor": "#2a3f5f",
           "arrowhead": 0,
           "arrowwidth": 1
          },
          "autotypenumbers": "strict",
          "coloraxis": {
           "colorbar": {
            "outlinewidth": 0,
            "ticks": ""
           }
          },
          "colorscale": {
           "diverging": [
            [
             0,
             "#8e0152"
            ],
            [
             0.1,
             "#c51b7d"
            ],
            [
             0.2,
             "#de77ae"
            ],
            [
             0.3,
             "#f1b6da"
            ],
            [
             0.4,
             "#fde0ef"
            ],
            [
             0.5,
             "#f7f7f7"
            ],
            [
             0.6,
             "#e6f5d0"
            ],
            [
             0.7,
             "#b8e186"
            ],
            [
             0.8,
             "#7fbc41"
            ],
            [
             0.9,
             "#4d9221"
            ],
            [
             1,
             "#276419"
            ]
           ],
           "sequential": [
            [
             0,
             "#0d0887"
            ],
            [
             0.1111111111111111,
             "#46039f"
            ],
            [
             0.2222222222222222,
             "#7201a8"
            ],
            [
             0.3333333333333333,
             "#9c179e"
            ],
            [
             0.4444444444444444,
             "#bd3786"
            ],
            [
             0.5555555555555556,
             "#d8576b"
            ],
            [
             0.6666666666666666,
             "#ed7953"
            ],
            [
             0.7777777777777778,
             "#fb9f3a"
            ],
            [
             0.8888888888888888,
             "#fdca26"
            ],
            [
             1,
             "#f0f921"
            ]
           ],
           "sequentialminus": [
            [
             0,
             "#0d0887"
            ],
            [
             0.1111111111111111,
             "#46039f"
            ],
            [
             0.2222222222222222,
             "#7201a8"
            ],
            [
             0.3333333333333333,
             "#9c179e"
            ],
            [
             0.4444444444444444,
             "#bd3786"
            ],
            [
             0.5555555555555556,
             "#d8576b"
            ],
            [
             0.6666666666666666,
             "#ed7953"
            ],
            [
             0.7777777777777778,
             "#fb9f3a"
            ],
            [
             0.8888888888888888,
             "#fdca26"
            ],
            [
             1,
             "#f0f921"
            ]
           ]
          },
          "colorway": [
           "#636efa",
           "#EF553B",
           "#00cc96",
           "#ab63fa",
           "#FFA15A",
           "#19d3f3",
           "#FF6692",
           "#B6E880",
           "#FF97FF",
           "#FECB52"
          ],
          "font": {
           "color": "#2a3f5f"
          },
          "geo": {
           "bgcolor": "white",
           "lakecolor": "white",
           "landcolor": "white",
           "showlakes": true,
           "showland": true,
           "subunitcolor": "#C8D4E3"
          },
          "hoverlabel": {
           "align": "left"
          },
          "hovermode": "closest",
          "mapbox": {
           "style": "light"
          },
          "paper_bgcolor": "white",
          "plot_bgcolor": "white",
          "polar": {
           "angularaxis": {
            "gridcolor": "#EBF0F8",
            "linecolor": "#EBF0F8",
            "ticks": ""
           },
           "bgcolor": "white",
           "radialaxis": {
            "gridcolor": "#EBF0F8",
            "linecolor": "#EBF0F8",
            "ticks": ""
           }
          },
          "scene": {
           "xaxis": {
            "backgroundcolor": "white",
            "gridcolor": "#DFE8F3",
            "gridwidth": 2,
            "linecolor": "#EBF0F8",
            "showbackground": true,
            "ticks": "",
            "zerolinecolor": "#EBF0F8"
           },
           "yaxis": {
            "backgroundcolor": "white",
            "gridcolor": "#DFE8F3",
            "gridwidth": 2,
            "linecolor": "#EBF0F8",
            "showbackground": true,
            "ticks": "",
            "zerolinecolor": "#EBF0F8"
           },
           "zaxis": {
            "backgroundcolor": "white",
            "gridcolor": "#DFE8F3",
            "gridwidth": 2,
            "linecolor": "#EBF0F8",
            "showbackground": true,
            "ticks": "",
            "zerolinecolor": "#EBF0F8"
           }
          },
          "shapedefaults": {
           "line": {
            "color": "#2a3f5f"
           }
          },
          "ternary": {
           "aaxis": {
            "gridcolor": "#DFE8F3",
            "linecolor": "#A2B1C6",
            "ticks": ""
           },
           "baxis": {
            "gridcolor": "#DFE8F3",
            "linecolor": "#A2B1C6",
            "ticks": ""
           },
           "bgcolor": "white",
           "caxis": {
            "gridcolor": "#DFE8F3",
            "linecolor": "#A2B1C6",
            "ticks": ""
           }
          },
          "title": {
           "x": 0.05
          },
          "xaxis": {
           "automargin": true,
           "gridcolor": "#EBF0F8",
           "linecolor": "#EBF0F8",
           "ticks": "",
           "title": {
            "standoff": 15
           },
           "zerolinecolor": "#EBF0F8",
           "zerolinewidth": 2
          },
          "yaxis": {
           "automargin": true,
           "gridcolor": "#EBF0F8",
           "linecolor": "#EBF0F8",
           "ticks": "",
           "title": {
            "standoff": 15
           },
           "zerolinecolor": "#EBF0F8",
           "zerolinewidth": 2
          }
         }
        },
        "title": {
         "text": "Age Analysis Across Periods by Gender and Genre"
        },
        "width": 1200,
        "xaxis": {
         "anchor": "y",
         "domain": [
          0,
          0.31999999999999995
         ],
         "title": {
          "text": "Period"
         }
        },
        "xaxis10": {
         "anchor": "y10",
         "domain": [
          0,
          0.31999999999999995
         ],
         "matches": "x",
         "showticklabels": false
        },
        "xaxis11": {
         "anchor": "y11",
         "domain": [
          0.33999999999999997,
          0.6599999999999999
         ],
         "matches": "x",
         "showticklabels": false
        },
        "xaxis12": {
         "anchor": "y12",
         "domain": [
          0.6799999999999999,
          0.9999999999999999
         ],
         "matches": "x",
         "showticklabels": false
        },
        "xaxis2": {
         "anchor": "y2",
         "domain": [
          0.33999999999999997,
          0.6599999999999999
         ],
         "matches": "x",
         "title": {
          "text": "Period"
         }
        },
        "xaxis3": {
         "anchor": "y3",
         "domain": [
          0.6799999999999999,
          0.9999999999999999
         ],
         "matches": "x",
         "title": {
          "text": "Period"
         }
        },
        "xaxis4": {
         "anchor": "y4",
         "domain": [
          0,
          0.31999999999999995
         ],
         "matches": "x",
         "showticklabels": false
        },
        "xaxis5": {
         "anchor": "y5",
         "domain": [
          0.33999999999999997,
          0.6599999999999999
         ],
         "matches": "x",
         "showticklabels": false
        },
        "xaxis6": {
         "anchor": "y6",
         "domain": [
          0.6799999999999999,
          0.9999999999999999
         ],
         "matches": "x",
         "showticklabels": false
        },
        "xaxis7": {
         "anchor": "y7",
         "domain": [
          0,
          0.31999999999999995
         ],
         "matches": "x",
         "showticklabels": false
        },
        "xaxis8": {
         "anchor": "y8",
         "domain": [
          0.33999999999999997,
          0.6599999999999999
         ],
         "matches": "x",
         "showticklabels": false
        },
        "xaxis9": {
         "anchor": "y9",
         "domain": [
          0.6799999999999999,
          0.9999999999999999
         ],
         "matches": "x",
         "showticklabels": false
        },
        "yaxis": {
         "anchor": "x",
         "domain": [
          0,
          0.1975
         ],
         "title": {
          "text": "Average Age"
         }
        },
        "yaxis10": {
         "anchor": "x10",
         "domain": [
          0.8025,
          1
         ],
         "matches": "y",
         "title": {
          "text": "Average Age"
         }
        },
        "yaxis11": {
         "anchor": "x11",
         "domain": [
          0.8025,
          1
         ],
         "matches": "y",
         "showticklabels": false
        },
        "yaxis12": {
         "anchor": "x12",
         "domain": [
          0.8025,
          1
         ],
         "matches": "y",
         "showticklabels": false
        },
        "yaxis2": {
         "anchor": "x2",
         "domain": [
          0,
          0.1975
         ],
         "matches": "y",
         "showticklabels": false
        },
        "yaxis3": {
         "anchor": "x3",
         "domain": [
          0,
          0.1975
         ],
         "matches": "y",
         "showticklabels": false
        },
        "yaxis4": {
         "anchor": "x4",
         "domain": [
          0.2675,
          0.465
         ],
         "matches": "y",
         "title": {
          "text": "Average Age"
         }
        },
        "yaxis5": {
         "anchor": "x5",
         "domain": [
          0.2675,
          0.465
         ],
         "matches": "y",
         "showticklabels": false
        },
        "yaxis6": {
         "anchor": "x6",
         "domain": [
          0.2675,
          0.465
         ],
         "matches": "y",
         "showticklabels": false
        },
        "yaxis7": {
         "anchor": "x7",
         "domain": [
          0.535,
          0.7325
         ],
         "matches": "y",
         "title": {
          "text": "Average Age"
         }
        },
        "yaxis8": {
         "anchor": "x8",
         "domain": [
          0.535,
          0.7325
         ],
         "matches": "y",
         "showticklabels": false
        },
        "yaxis9": {
         "anchor": "x9",
         "domain": [
          0.535,
          0.7325
         ],
         "matches": "y",
         "showticklabels": false
        }
       }
      }
     },
     "metadata": {},
     "output_type": "display_data"
    }
   ],
   "source": [
    "import plotly.express as px\n",
    "import pandas as pd\n",
    "\n",
    "\n",
    "# Create the full plot data\n",
    "plot_data = gender_proportion_plot(europe_df, europe_avg_male, europe_avg_female, genres)\n",
    "\n",
    "# Create the facet grid plot\n",
    "fig = px.line(\n",
    "    plot_data,\n",
    "    x=\"Period\",\n",
    "    y=\"Average Age\",\n",
    "    error_y=\"Std\",\n",
    "    color=\"Group\",\n",
    "    line_dash=\"Group\",\n",
    "    facet_col=\"Genre\",\n",
    "    facet_col_wrap=3,  # Adjust this based on the number of genres\n",
    "    markers=True,\n",
    "    title=\"Age Analysis Across Periods by Gender and Genre\",\n",
    "    labels={\"Average Age\": \"Average Age\", \"Period\": \"Period\", \"Genre\": \"Genre\"}\n",
    ")\n",
    "\n",
    "# Update layout\n",
    "fig.update_layout(\n",
    "    template=\"plotly_white\",\n",
    "    legend=dict(\n",
    "        title=\"Groups\",\n",
    "        orientation=\"h\",\n",
    "        yanchor=\"bottom\",\n",
    "        y=1.02,\n",
    "        xanchor=\"center\",\n",
    "        x=0.5\n",
    "    ),\n",
    "    height=800,\n",
    "    width=1200\n",
    ")\n",
    "\n",
    "fig.show()\n"
   ]
  },
  {
   "cell_type": "markdown",
   "metadata": {},
   "source": [
    "## Gender Proportions Analysis"
   ]
  },
  {
   "cell_type": "code",
   "execution_count": 9,
   "metadata": {},
   "outputs": [
    {
     "data": {
      "text/html": [
       "\n",
       "        <iframe\n",
       "            width=\"100%\"\n",
       "            height=\"650\"\n",
       "            src=\"http://127.0.0.1:8050/\"\n",
       "            frameborder=\"0\"\n",
       "            allowfullscreen\n",
       "            \n",
       "        ></iframe>\n",
       "        "
      ],
      "text/plain": [
       "<IPython.lib.display.IFrame at 0x20a00a96cd0>"
      ]
     },
     "metadata": {},
     "output_type": "display_data"
    }
   ],
   "source": [
    "# Initialize the Dash app\n",
    "app = dash.Dash(__name__)\n",
    "\n",
    "# Layout of the app\n",
    "app.layout = html.Div([\n",
    "    html.H1('Gender Proportions by Genre & Real-world Population'),\n",
    "\n",
    "    # Dropdown for selecting period\n",
    "    html.Div([\n",
    "        html.Label('Period:'),\n",
    "        dcc.Dropdown(\n",
    "            id='period-dropdown',\n",
    "            options=[{'label': p, 'value': p} for p in [\"All Periods\", \"1950-1965\", \"1966-1980\", \"1981-1995\", \"1996-2012\"]],\n",
    "            value='All Periods'\n",
    "        ),\n",
    "    ], style={'width': '25%', 'display': 'inline-block', 'padding': '10px'}),\n",
    "\n",
    "    # Div to hold the graph\n",
    "    dcc.Graph(id='gender-proportions-plot')\n",
    "])\n",
    "\n",
    "# Callback to update the graph based on dropdown value\n",
    "@app.callback(\n",
    "    Output('gender-proportions-plot', 'figure'),\n",
    "    [Input('period-dropdown', 'value')]\n",
    ")\n",
    "def update_plot(period):\n",
    "    # Calculate gender proportions for the given period\n",
    "    \n",
    "    # Call the function to generate the figure based on the selected period\n",
    "    return gender_prop_subplots(europe_df, period, genres, time_periods, europe_avg_male, europe_avg_female)\n",
    "\n",
    "\n",
    "# Run the Dash app\n",
    "if __name__ == '__main__':\n",
    "    app.run_server(debug=True)\n"
   ]
  },
  {
   "cell_type": "markdown",
   "metadata": {},
   "source": [
    "#### Linear regression"
   ]
  },
  {
   "cell_type": "code",
   "execution_count": 10,
   "metadata": {},
   "outputs": [
    {
     "name": "stdout",
     "output_type": "stream",
     "text": [
      "                            OLS Regression Results                            \n",
      "==============================================================================\n",
      "Dep. Variable:            female_prop   R-squared:                       0.185\n",
      "Model:                            OLS   Adj. R-squared:                  0.172\n",
      "Method:                 Least Squares   F-statistic:                     14.30\n",
      "Date:                Mon, 09 Dec 2024   Prob (F-statistic):           0.000349\n",
      "Time:                        19:00:41   Log-Likelihood:                 161.92\n",
      "No. Observations:                  65   AIC:                            -319.8\n",
      "Df Residuals:                      63   BIC:                            -315.5\n",
      "Df Model:                           1                                         \n",
      "Covariance Type:            nonrobust                                         \n",
      "==============================================================================\n",
      "                 coef    std err          t      P>|t|      [0.025      0.975]\n",
      "------------------------------------------------------------------------------\n",
      "Intercept     -0.6841      0.267     -2.565      0.013      -1.217      -0.151\n",
      "release        0.0005      0.000      3.781      0.000       0.000       0.001\n",
      "==============================================================================\n",
      "Omnibus:                        4.138   Durbin-Watson:                   1.093\n",
      "Prob(Omnibus):                  0.126   Jarque-Bera (JB):                3.842\n",
      "Skew:                           0.277   Prob(JB):                        0.146\n",
      "Kurtosis:                       4.054   Cond. No.                     2.09e+05\n",
      "==============================================================================\n",
      "\n",
      "Notes:\n",
      "[1] Standard Errors assume that the covariance matrix of the errors is correctly specified.\n",
      "[2] The condition number is large, 2.09e+05. This might indicate that there are\n",
      "strong multicollinearity or other numerical problems.\n"
     ]
    },
    {
     "data": {
      "image/png": "[encoded data removed]",
      "text/plain": [
       "<Figure size 1000x600 with 1 Axes>"
      ]
     },
     "metadata": {},
     "output_type": "display_data"
    },
    {
     "name": "stdout",
     "output_type": "stream",
     "text": [
      "Linear Regression Coefficients:\n",
      "Intercept: -0.6841278571967171\n",
      "Year Coefficient: 0.0005088845329283862\n"
     ]
    }
   ],
   "source": [
    "gender_OLS(europe_df)"
   ]
  },
  {
   "cell_type": "markdown",
   "metadata": {},
   "source": [
    "## Gender Proportion Analysis\n",
    "\n",
    "**Gender Proportions Across Genres and Real-World Comparison**\n",
    "\n",
    "The gender proportions in European cinema highlight a clear imbalance. Men dominate almost every genre, with women often taking a back seat. For most genres, male actors consistently make up the majority, reflecting a bias in the film industry.\n",
    "\n",
    "Here are some notable observations:\n",
    "- **Family/Animation Genres:** These genres come closest to achieving gender balance, probably because they aim to portray more relatable family dynamics. Still, they don't fully reflect real-world gender proportions.\n",
    "- **Action/Adventure and Sci-Fi:** Unsurprisingly, these genres show the largest gender gap, with male actors overwhelmingly leading. This aligns with the stereotype of men being action heroes or intellectuals saving the world.\n",
    "- **Romance and Drama:** While you'd think these genres would be more balanced, they still lean toward male dominance, even in stories often centered on relationships and emotions.\n",
    "\n",
    "When we compare this to real-world gender proportions, the contrast is hard to ignore. In real life, men and women are nearly equal in numbers, yet on-screen, women are often missing from the picture.\n",
    "\n",
    "---\n",
    "\n",
    "**Trends Over Time**\n",
    "\n",
    "Looking at the changes over time, there’s some good news—but not much. The linear regression suggests that female representation has slowly increased since the 1950s. But \"slowly\" is the key word here. The R-squared value tells us that time alone doesn’t explain much of the change, so progress is happening, but it’s not as dramatic as it could be.\n",
    "\n",
    "This gradual improvement likely reflects small societal changes, but the lack of significant progress shows how deeply rooted these inequalities are in the film industry. Even now, women are far from being equally represented.\n",
    "\n",
    "---\n",
    "\n",
    "**Gender Proportions Across Ethnicities**\n",
    "\n",
    "From the radar chart comparing gender proportions across ethnicities, we see another layer of disparity:\n",
    "\n",
    "- **Black Women:** Severely underrepresented in European cinema, with only ~20% female representation, meaning ~80% of Black roles are given to men. \n",
    "- **East Asian Women:** Interestingly, East Asian women have the closest gender ratio compared to other ethnicities, with ~42% female representation. While still not equal, it is significantly better than other groups.\n",
    "- **Caucasian Women:** Caucasians women are in the average, which makes sense considering they are the majority.\n",
    "\n",
    "This stark disparity in gender proportions across ethnicities suggests that women from certains minority backgrounds face even greater barriers in the European cinema industry. The human biases aren’t just about gender but are compounded by race and ethnicity.\n",
    "\n",
    "\n"
   ]
  },
  {
   "cell_type": "code",
   "execution_count": 11,
   "metadata": {},
   "outputs": [
    {
     "data": {
      "application/vnd.plotly.v1+json": {
       "config": {
        "plotlyServerURL": "https://plot.ly"
       },
       "data": [
        {
         "fill": "toself",
         "marker": {
          "color": "blue"
         },
         "name": "Male Proportion",
         "r": [
          66.81786461967899,
          62.37623762376238,
          78.04034582132566,
          69.39182452642075,
          57.702349869451695,
          89.59276018099548,
          66.12685560053981,
          70.0554528650647,
          71.95767195767195
         ],
         "theta": [
          "Caucasians",
          "Arabs / Middle Easterns",
          "Africans",
          "South Asians",
          "East Asians",
          "Southeast Asian",
          "Jewish People",
          "Latinos",
          "Indigenous People"
         ],
         "type": "scatterpolar"
        },
        {
         "fill": "toself",
         "marker": {
          "color": "red"
         },
         "name": "Female Proportion",
         "r": [
          33.18213538032101,
          37.62376237623762,
          21.959654178674352,
          30.608175473579262,
          42.297650130548305,
          10.407239819004525,
          33.87314439946019,
          29.944547134935306,
          28.04232804232804
         ],
         "theta": [
          "Caucasians",
          "Arabs / Middle Easterns",
          "Africans",
          "South Asians",
          "East Asians",
          "Southeast Asian",
          "Jewish People",
          "Latinos",
          "Indigenous People"
         ],
         "type": "scatterpolar"
        }
       ],
       "layout": {
        "polar": {
         "radialaxis": {
          "range": [
           0,
           100
          ],
          "visible": true
         }
        },
        "showlegend": true,
        "template": {
         "data": {
          "bar": [
           {
            "error_x": {
             "color": "#2a3f5f"
            },
            "error_y": {
             "color": "#2a3f5f"
            },
            "marker": {
             "line": {
              "color": "#E5ECF6",
              "width": 0.5
             },
             "pattern": {
              "fillmode": "overlay",
              "size": 10,
              "solidity": 0.2
             }
            },
            "type": "bar"
           }
          ],
          "barpolar": [
           {
            "marker": {
             "line": {
              "color": "#E5ECF6",
              "width": 0.5
             },
             "pattern": {
              "fillmode": "overlay",
              "size": 10,
              "solidity": 0.2
             }
            },
            "type": "barpolar"
           }
          ],
          "carpet": [
           {
            "aaxis": {
             "endlinecolor": "#2a3f5f",
             "gridcolor": "white",
             "linecolor": "white",
             "minorgridcolor": "white",
             "startlinecolor": "#2a3f5f"
            },
            "baxis": {
             "endlinecolor": "#2a3f5f",
             "gridcolor": "white",
             "linecolor": "white",
             "minorgridcolor": "white",
             "startlinecolor": "#2a3f5f"
            },
            "type": "carpet"
           }
          ],
          "choropleth": [
           {
            "colorbar": {
             "outlinewidth": 0,
             "ticks": ""
            },
            "type": "choropleth"
           }
          ],
          "contour": [
           {
            "colorbar": {
             "outlinewidth": 0,
             "ticks": ""
            },
            "colorscale": [
             [
              0,
              "#0d0887"
             ],
             [
              0.1111111111111111,
              "#46039f"
             ],
             [
              0.2222222222222222,
              "#7201a8"
             ],
             [
              0.3333333333333333,
              "#9c179e"
             ],
             [
              0.4444444444444444,
              "#bd3786"
             ],
             [
              0.5555555555555556,
              "#d8576b"
             ],
             [
              0.6666666666666666,
              "#ed7953"
             ],
             [
              0.7777777777777778,
              "#fb9f3a"
             ],
             [
              0.8888888888888888,
              "#fdca26"
             ],
             [
              1,
              "#f0f921"
             ]
            ],
            "type": "contour"
           }
          ],
          "contourcarpet": [
           {
            "colorbar": {
             "outlinewidth": 0,
             "ticks": ""
            },
            "type": "contourcarpet"
           }
          ],
          "heatmap": [
           {
            "colorbar": {
             "outlinewidth": 0,
             "ticks": ""
            },
            "colorscale": [
             [
              0,
              "#0d0887"
             ],
             [
              0.1111111111111111,
              "#46039f"
             ],
             [
              0.2222222222222222,
              "#7201a8"
             ],
             [
              0.3333333333333333,
              "#9c179e"
             ],
             [
              0.4444444444444444,
              "#bd3786"
             ],
             [
              0.5555555555555556,
              "#d8576b"
             ],
             [
              0.6666666666666666,
              "#ed7953"
             ],
             [
              0.7777777777777778,
              "#fb9f3a"
             ],
             [
              0.8888888888888888,
              "#fdca26"
             ],
             [
              1,
              "#f0f921"
             ]
            ],
            "type": "heatmap"
           }
          ],
          "heatmapgl": [
           {
            "colorbar": {
             "outlinewidth": 0,
             "ticks": ""
            },
            "colorscale": [
             [
              0,
              "#0d0887"
             ],
             [
              0.1111111111111111,
              "#46039f"
             ],
             [
              0.2222222222222222,
              "#7201a8"
             ],
             [
              0.3333333333333333,
              "#9c179e"
             ],
             [
              0.4444444444444444,
              "#bd3786"
             ],
             [
              0.5555555555555556,
              "#d8576b"
             ],
             [
              0.6666666666666666,
              "#ed7953"
             ],
             [
              0.7777777777777778,
              "#fb9f3a"
             ],
             [
              0.8888888888888888,
              "#fdca26"
             ],
             [
              1,
              "#f0f921"
             ]
            ],
            "type": "heatmapgl"
           }
          ],
          "histogram": [
           {
            "marker": {
             "pattern": {
              "fillmode": "overlay",
              "size": 10,
              "solidity": 0.2
             }
            },
            "type": "histogram"
           }
          ],
          "histogram2d": [
           {
            "colorbar": {
             "outlinewidth": 0,
             "ticks": ""
            },
            "colorscale": [
             [
              0,
              "#0d0887"
             ],
             [
              0.1111111111111111,
              "#46039f"
             ],
             [
              0.2222222222222222,
              "#7201a8"
             ],
             [
              0.3333333333333333,
              "#9c179e"
             ],
             [
              0.4444444444444444,
              "#bd3786"
             ],
             [
              0.5555555555555556,
              "#d8576b"
             ],
             [
              0.6666666666666666,
              "#ed7953"
             ],
             [
              0.7777777777777778,
              "#fb9f3a"
             ],
             [
              0.8888888888888888,
              "#fdca26"
             ],
             [
              1,
              "#f0f921"
             ]
            ],
            "type": "histogram2d"
           }
          ],
          "histogram2dcontour": [
           {
            "colorbar": {
             "outlinewidth": 0,
             "ticks": ""
            },
            "colorscale": [
             [
              0,
              "#0d0887"
             ],
             [
              0.1111111111111111,
              "#46039f"
             ],
             [
              0.2222222222222222,
              "#7201a8"
             ],
             [
              0.3333333333333333,
              "#9c179e"
             ],
             [
              0.4444444444444444,
              "#bd3786"
             ],
             [
              0.5555555555555556,
              "#d8576b"
             ],
             [
              0.6666666666666666,
              "#ed7953"
             ],
             [
              0.7777777777777778,
              "#fb9f3a"
             ],
             [
              0.8888888888888888,
              "#fdca26"
             ],
             [
              1,
              "#f0f921"
             ]
            ],
            "type": "histogram2dcontour"
           }
          ],
          "mesh3d": [
           {
            "colorbar": {
             "outlinewidth": 0,
             "ticks": ""
            },
            "type": "mesh3d"
           }
          ],
          "parcoords": [
           {
            "line": {
             "colorbar": {
              "outlinewidth": 0,
              "ticks": ""
             }
            },
            "type": "parcoords"
           }
          ],
          "pie": [
           {
            "automargin": true,
            "type": "pie"
           }
          ],
          "scatter": [
           {
            "fillpattern": {
             "fillmode": "overlay",
             "size": 10,
             "solidity": 0.2
            },
            "type": "scatter"
           }
          ],
          "scatter3d": [
           {
            "line": {
             "colorbar": {
              "outlinewidth": 0,
              "ticks": ""
             }
            },
            "marker": {
             "colorbar": {
              "outlinewidth": 0,
              "ticks": ""
             }
            },
            "type": "scatter3d"
           }
          ],
          "scattercarpet": [
           {
            "marker": {
             "colorbar": {
              "outlinewidth": 0,
              "ticks": ""
             }
            },
            "type": "scattercarpet"
           }
          ],
          "scattergeo": [
           {
            "marker": {
             "colorbar": {
              "outlinewidth": 0,
              "ticks": ""
             }
            },
            "type": "scattergeo"
           }
          ],
          "scattergl": [
           {
            "marker": {
             "colorbar": {
              "outlinewidth": 0,
              "ticks": ""
             }
            },
            "type": "scattergl"
           }
          ],
          "scattermapbox": [
           {
            "marker": {
             "colorbar": {
              "outlinewidth": 0,
              "ticks": ""
             }
            },
            "type": "scattermapbox"
           }
          ],
          "scatterpolar": [
           {
            "marker": {
             "colorbar": {
              "outlinewidth": 0,
              "ticks": ""
             }
            },
            "type": "scatterpolar"
           }
          ],
          "scatterpolargl": [
           {
            "marker": {
             "colorbar": {
              "outlinewidth": 0,
              "ticks": ""
             }
            },
            "type": "scatterpolargl"
           }
          ],
          "scatterternary": [
           {
            "marker": {
             "colorbar": {
              "outlinewidth": 0,
              "ticks": ""
             }
            },
            "type": "scatterternary"
           }
          ],
          "surface": [
           {
            "colorbar": {
             "outlinewidth": 0,
             "ticks": ""
            },
            "colorscale": [
             [
              0,
              "#0d0887"
             ],
             [
              0.1111111111111111,
              "#46039f"
             ],
             [
              0.2222222222222222,
              "#7201a8"
             ],
             [
              0.3333333333333333,
              "#9c179e"
             ],
             [
              0.4444444444444444,
              "#bd3786"
             ],
             [
              0.5555555555555556,
              "#d8576b"
             ],
             [
              0.6666666666666666,
              "#ed7953"
             ],
             [
              0.7777777777777778,
              "#fb9f3a"
             ],
             [
              0.8888888888888888,
              "#fdca26"
             ],
             [
              1,
              "#f0f921"
             ]
            ],
            "type": "surface"
           }
          ],
          "table": [
           {
            "cells": {
             "fill": {
              "color": "#EBF0F8"
             },
             "line": {
              "color": "white"
             }
            },
            "header": {
             "fill": {
              "color": "#C8D4E3"
             },
             "line": {
              "color": "white"
             }
            },
            "type": "table"
           }
          ]
         },
         "layout": {
          "annotationdefaults": {
           "arrowcolor": "#2a3f5f",
           "arrowhead": 0,
           "arrowwidth": 1
          },
          "autotypenumbers": "strict",
          "coloraxis": {
           "colorbar": {
            "outlinewidth": 0,
            "ticks": ""
           }
          },
          "colorscale": {
           "diverging": [
            [
             0,
             "#8e0152"
            ],
            [
             0.1,
             "#c51b7d"
            ],
            [
             0.2,
             "#de77ae"
            ],
            [
             0.3,
             "#f1b6da"
            ],
            [
             0.4,
             "#fde0ef"
            ],
            [
             0.5,
             "#f7f7f7"
            ],
            [
             0.6,
             "#e6f5d0"
            ],
            [
             0.7,
             "#b8e186"
            ],
            [
             0.8,
             "#7fbc41"
            ],
            [
             0.9,
             "#4d9221"
            ],
            [
             1,
             "#276419"
            ]
           ],
           "sequential": [
            [
             0,
             "#0d0887"
            ],
            [
             0.1111111111111111,
             "#46039f"
            ],
            [
             0.2222222222222222,
             "#7201a8"
            ],
            [
             0.3333333333333333,
             "#9c179e"
            ],
            [
             0.4444444444444444,
             "#bd3786"
            ],
            [
             0.5555555555555556,
             "#d8576b"
            ],
            [
             0.6666666666666666,
             "#ed7953"
            ],
            [
             0.7777777777777778,
             "#fb9f3a"
            ],
            [
             0.8888888888888888,
             "#fdca26"
            ],
            [
             1,
             "#f0f921"
            ]
           ],
           "sequentialminus": [
            [
             0,
             "#0d0887"
            ],
            [
             0.1111111111111111,
             "#46039f"
            ],
            [
             0.2222222222222222,
             "#7201a8"
            ],
            [
             0.3333333333333333,
             "#9c179e"
            ],
            [
             0.4444444444444444,
             "#bd3786"
            ],
            [
             0.5555555555555556,
             "#d8576b"
            ],
            [
             0.6666666666666666,
             "#ed7953"
            ],
            [
             0.7777777777777778,
             "#fb9f3a"
            ],
            [
             0.8888888888888888,
             "#fdca26"
            ],
            [
             1,
             "#f0f921"
            ]
           ]
          },
          "colorway": [
           "#636efa",
           "#EF553B",
           "#00cc96",
           "#ab63fa",
           "#FFA15A",
           "#19d3f3",
           "#FF6692",
           "#B6E880",
           "#FF97FF",
           "#FECB52"
          ],
          "font": {
           "color": "#2a3f5f"
          },
          "geo": {
           "bgcolor": "white",
           "lakecolor": "white",
           "landcolor": "#E5ECF6",
           "showlakes": true,
           "showland": true,
           "subunitcolor": "white"
          },
          "hoverlabel": {
           "align": "left"
          },
          "hovermode": "closest",
          "mapbox": {
           "style": "light"
          },
          "paper_bgcolor": "white",
          "plot_bgcolor": "#E5ECF6",
          "polar": {
           "angularaxis": {
            "gridcolor": "white",
            "linecolor": "white",
            "ticks": ""
           },
           "bgcolor": "#E5ECF6",
           "radialaxis": {
            "gridcolor": "white",
            "linecolor": "white",
            "ticks": ""
           }
          },
          "scene": {
           "xaxis": {
            "backgroundcolor": "#E5ECF6",
            "gridcolor": "white",
            "gridwidth": 2,
            "linecolor": "white",
            "showbackground": true,
            "ticks": "",
            "zerolinecolor": "white"
           },
           "yaxis": {
            "backgroundcolor": "#E5ECF6",
            "gridcolor": "white",
            "gridwidth": 2,
            "linecolor": "white",
            "showbackground": true,
            "ticks": "",
            "zerolinecolor": "white"
           },
           "zaxis": {
            "backgroundcolor": "#E5ECF6",
            "gridcolor": "white",
            "gridwidth": 2,
            "linecolor": "white",
            "showbackground": true,
            "ticks": "",
            "zerolinecolor": "white"
           }
          },
          "shapedefaults": {
           "line": {
            "color": "#2a3f5f"
           }
          },
          "ternary": {
           "aaxis": {
            "gridcolor": "white",
            "linecolor": "white",
            "ticks": ""
           },
           "baxis": {
            "gridcolor": "white",
            "linecolor": "white",
            "ticks": ""
           },
           "bgcolor": "#E5ECF6",
           "caxis": {
            "gridcolor": "white",
            "linecolor": "white",
            "ticks": ""
           }
          },
          "title": {
           "x": 0.05
          },
          "xaxis": {
           "automargin": true,
           "gridcolor": "white",
           "linecolor": "white",
           "ticks": "",
           "title": {
            "standoff": 15
           },
           "zerolinecolor": "white",
           "zerolinewidth": 2
          },
          "yaxis": {
           "automargin": true,
           "gridcolor": "white",
           "linecolor": "white",
           "ticks": "",
           "title": {
            "standoff": 15
           },
           "zerolinecolor": "white",
           "zerolinewidth": 2
          }
         }
        },
        "title": {
         "text": "Gender Proportions Across Ethnicities"
        }
       }
      }
     },
     "metadata": {},
     "output_type": "display_data"
    }
   ],
   "source": [
    "radar_chart_plot(europe_df, ethnicities)"
   ]
  }
 ],
 "metadata": {
  "kernelspec": {
   "display_name": "Python 3",
   "language": "python",
   "name": "python3"
  },
  "language_info": {
   "codemirror_mode": {
    "name": "ipython",
    "version": 3
   },
   "file_extension": ".py",
   "mimetype": "text/x-python",
   "name": "python",
   "nbconvert_exporter": "python",
   "pygments_lexer": "ipython3",
   "version": "3.11.0"
  }
 },
 "nbformat": 4,
 "nbformat_minor": 2
}
