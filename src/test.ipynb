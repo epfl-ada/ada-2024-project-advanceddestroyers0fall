{
 "cells": [
  {
   "cell_type": "code",
   "execution_count": 1,
   "metadata": {},
   "outputs": [
    {
     "data": {
      "text/html": [
       "\n",
       "        <iframe\n",
       "            width=\"100%\"\n",
       "            height=\"650\"\n",
       "            src=\"http://127.0.0.1:8050/\"\n",
       "            frameborder=\"0\"\n",
       "            allowfullscreen\n",
       "            \n",
       "        ></iframe>\n",
       "        "
      ],
      "text/plain": [
       "<IPython.lib.display.IFrame at 0x126659210>"
      ]
     },
     "metadata": {},
     "output_type": "display_data"
    }
   ],
   "source": [
    "import dash\n",
    "from dash import dcc, html\n",
    "import plotly.graph_objs as go\n",
    "import pandas as pd\n",
    "\n",
    "# Load your data\n",
    "DATA_FOLDER = '/Users/zaynebmellouli/MA1/ada-2024-project-advanceddestroyers0fall/data/final/'\n",
    "hollywood_data = pd.read_csv(DATA_FOLDER + \"hollywood/hollywood_data.csv\")\n",
    "\n",
    "# Initialize the Dash app\n",
    "app = dash.Dash(__name__)\n",
    "\n",
    "# Layout for the Dash app\n",
    "app.layout = html.Div([\n",
    "    html.H1(\"Ethnicity Comparison in Hollywood\"),\n",
    "    \n",
    "    dcc.Dropdown(\n",
    "        id='period-dropdown',\n",
    "        options=[\n",
    "            {'label': 'All periods', 'value': 'All periods'},\n",
    "            {'label': '1950-1965', 'value': '1950-1965'},\n",
    "            {'label': '1966-1980', 'value': '1966-1980'},\n",
    "            {'label': '1981-1995', 'value': '1981-1995'},\n",
    "            {'label': '1996-2012', 'value': '1996-2012'}\n",
    "        ],\n",
    "        value='All periods',\n",
    "        placeholder='Select a period'\n",
    "    ),\n",
    "    \n",
    "    dcc.Graph(id='ethnicity-comparison-graph')\n",
    "])\n",
    "\n",
    "# Callback to update graph based on dropdown selection\n",
    "@app.callback(\n",
    "    dash.dependencies.Output('ethnicity-comparison-graph', 'figure'),\n",
    "    [dash.dependencies.Input('period-dropdown', 'value')]\n",
    ")\n",
    "def update_graph(selected_period):\n",
    "    # Filter data based on the selected period\n",
    "    filtered_data = hollywood_data.copy()  # Modify based on your needs\n",
    "    \n",
    "    # Create figure\n",
    "    fig = go.Figure()\n",
    "\n",
    "    # Replace this with the actual calculation and plotting logic\n",
    "    fig.add_trace(go.Bar(x=filtered_data['actor_ethnicity_classification'],\n",
    "                         y=filtered_data['value'],  # Replace with appropriate column\n",
    "                         name=\"Ethnicity Proportion\"))\n",
    "\n",
    "    fig.update_layout(\n",
    "        title=f'Ethnicity Comparison for {selected_period}',\n",
    "        xaxis_title='Ethnicity Group',\n",
    "        yaxis_title='Proportion (%)',\n",
    "        barmode='group'\n",
    "    )\n",
    "    \n",
    "    return fig\n",
    "\n",
    "# Run the Dash app\n",
    "if __name__ == '__main__':\n",
    "    app.run_server(debug=True)\n"
   ]
  }
 ],
 "metadata": {
  "kernelspec": {
   "display_name": "ada",
   "language": "python",
   "name": "python3"
  },
  "language_info": {
   "codemirror_mode": {
    "name": "ipython",
    "version": 3
   },
   "file_extension": ".py",
   "mimetype": "text/x-python",
   "name": "python",
   "nbconvert_exporter": "python",
   "pygments_lexer": "ipython3",
   "version": "3.11.9"
  }
 },
 "nbformat": 4,
 "nbformat_minor": 2
}
