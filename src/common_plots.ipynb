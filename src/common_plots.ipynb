{
 "cells": [
  {
   "cell_type": "markdown",
   "id": "007b68a0-4244-4c34-87b3-de1a0067fcb1",
   "metadata": {},
   "source": [
    "# Analysis of the movie data for each movie industry with the corresponding region population"
   ]
  },
  {
   "cell_type": "markdown",
   "id": "8d0ce6c2-bd75-444f-87c9-072f9ec15ea0",
   "metadata": {},
   "source": [
    "You can explore the interactive plots as you wish. \n",
    "\n",
    "Please ignore the big chunks of codes, we will put them in plot_funtions.py in P3."
   ]
  },
  {
   "cell_type": "code",
   "execution_count": 1,
   "id": "a9036fcb-bd23-463d-b454-fa1ee3e89634",
   "metadata": {},
   "outputs": [],
   "source": [
    "%matplotlib inline\n",
    "import os\n",
    "import pandas as pd\n",
    "import requests\n",
    "import numpy as np\n",
    "import matplotlib\n",
    "import matplotlib.pyplot as plt\n",
    "import seaborn as sns\n",
    "import ipywidgets as widgets\n",
    "from ipywidgets import interact, interactive, Output\n",
    "import plotly.graph_objects as go\n",
    "from IPython.display import display\n",
    "from scipy.stats import gaussian_kde\n",
    "from plot_functions_forall import *\n"
   ]
  },
  {
   "cell_type": "code",
   "execution_count": 2,
   "id": "0624adde-b8a8-4c13-8d5a-2f1159661894",
   "metadata": {},
   "outputs": [],
   "source": [
    "DATA_FOLDER = '/Users/zaynebmellouli/MA1/ada-2024-project-advanceddestroyers0fall/data/final/'"
   ]
  },
  {
   "cell_type": "code",
   "execution_count": 3,
   "id": "ec986a0a-8faf-46b9-87f3-29d6cd6a8fbb",
   "metadata": {},
   "outputs": [],
   "source": [
    "def var_loader(DATA_FOLDER, mode='hollywood'):\n",
    "    results = []\n",
    "    results.append(pd.read_csv(DATA_FOLDER + f\"{mode}/\"+ f\"{mode}_data.csv\"))\n",
    "    results.append(pd.read_csv(DATA_FOLDER + f\"{mode}/\"+ f\"{mode}_data_ethnicity.csv\"))\n",
    "    results.append(pd.read_csv(DATA_FOLDER + f\"{mode}/\"+ f\"{mode}_ethnic_realworld.csv\"))\n",
    "    results.append(pd.read_csv(DATA_FOLDER + f\"{mode}/\"+ f\"male_{mode}_realworld_averages.csv\"))\n",
    "    results.append(pd.read_csv(DATA_FOLDER + f\"{mode}/\"+ f\"female_{mode}_realworld_averages.csv\"))\n",
    "    results.append(pd.read_csv(DATA_FOLDER + f\"{mode}/\"+ f\"bothsexes_{mode}_realworld_averages.csv\"))\n",
    "    results.append(pd.read_csv(DATA_FOLDER + f\"{mode}/\"+ f\"male_{mode}_realworld_proportions.csv\"))\n",
    "    results.append(pd.read_csv(DATA_FOLDER + f\"{mode}/\"+ f\"female_{mode}_realworld_proportions.csv\"))\n",
    "    return results"
   ]
  },
  {
   "cell_type": "code",
   "execution_count": 4,
   "id": "bba49a7d-227a-4902-8c69-ce51d84eab7c",
   "metadata": {},
   "outputs": [],
   "source": [
    "# Charging the Hollywood datasets in their respective dataframes\n",
    "hollywood_data, hollywood_data_ethnicity, hollywood_ethnic_realworld, \\\n",
    "male_hollywood_realworld_averages, female_hollywood_realworld_averages, \\\n",
    "bothsexes_hollywood_realworld_averages, male_hollywood_realworld_proportions, \\\n",
    "female_hollywood_realworld_proportions = var_loader(DATA_FOLDER, mode=\"hollywood\")"
   ]
  },
  {
   "cell_type": "code",
   "execution_count": 5,
   "id": "0a49d9c0-d422-408a-9d3c-c45ac8343370",
   "metadata": {},
   "outputs": [],
   "source": [
    "# Charging the Bollywood datasets in their respective dataframes\n",
    "bollywood_data, bollywood_data_ethnicity, bollywood_ethnic_realworld, \\\n",
    "male_bollywood_realworld_averages, female_bollywood_realworld_averages, \\\n",
    "bothsexes_bollywood_realworld_averages, male_bollywood_realworld_proportions, \\\n",
    "female_bollywood_realworld_proportions = var_loader(DATA_FOLDER, mode=\"bollywood\")"
   ]
  },
  {
   "cell_type": "code",
   "execution_count": 6,
   "id": "209d156e-18cb-4a7f-bcc1-b4f2d36e3905",
   "metadata": {},
   "outputs": [],
   "source": [
    "# Charging the East-Asia datasets in their respective dataframes\n",
    "eastasia_data, eastasia_data_ethnicity, eastasia_ethnic_realworld, \\\n",
    "male_eastasia_realworld_averages, female_eastasia_realworld_averages, \\\n",
    "bothsexes_eastasia_realworld_averages, male_eastasia_realworld_proportions, \\\n",
    "female_eastasia_realworld_proportions = var_loader(DATA_FOLDER, mode=\"eastasia\")"
   ]
  },
  {
   "cell_type": "code",
   "execution_count": 7,
   "id": "f9605367-7775-4ae1-abe9-ab226cf8dcf8",
   "metadata": {},
   "outputs": [],
   "source": [
    "# Prepare the region data\n",
    "region_data = {\n",
    "    'Hollywood': {\n",
    "        'region_data': hollywood_data,\n",
    "        'male_real_world_proportions': male_hollywood_realworld_proportions,\n",
    "        'female_real_world_proportions': female_hollywood_realworld_proportions,\n",
    "        'male_real_world_averages': male_hollywood_realworld_averages,\n",
    "        'female_real_world_averages': female_hollywood_realworld_averages,\n",
    "        'bothsexes_real_world_averages': bothsexes_hollywood_realworld_averages,\n",
    "        'data_ethnicity': hollywood_data_ethnicity,\n",
    "        'realworld_ethnicity': hollywood_ethnic_realworld,\n",
    "        'ethnicities': [\n",
    "            \"African Americans\", \n",
    "            \"American Indians\", \n",
    "            \"Arab Americans\", \n",
    "            \"Asian Americans\", \n",
    "            \"Caucasian Americans\", \n",
    "            \"Jewish Americans\", \n",
    "            \"Latino Americans\"\n",
    "        ]\n",
    "    },\n",
    "    \n",
    "    'Bollywood': {\n",
    "        'region_data': bollywood_data,\n",
    "        'male_real_world_proportions': male_bollywood_realworld_proportions,\n",
    "        'female_real_world_proportions': female_bollywood_realworld_proportions,\n",
    "        'male_real_world_averages': male_bollywood_realworld_averages,\n",
    "        'female_real_world_averages': female_bollywood_realworld_averages,\n",
    "        'bothsexes_real_world_averages': bothsexes_bollywood_realworld_averages,\n",
    "        'data_ethnicity': bollywood_data_ethnicity,\n",
    "        'realworld_ethnicity': bollywood_ethnic_realworld,\n",
    "        'ethnicities': [\n",
    "            \"South_Indian_Ethnicities\", \n",
    "            \"North_Indian_Ethnicities\", \n",
    "            \"Eastern_Indian_Ethnicities\", \n",
    "            \"Western_and_Central_Indian_Ethnicities\", \n",
    "            \"Religious_and_Caste_Groups\"\n",
    "        ]\n",
    "    },\n",
    "    \n",
    "     'Eastasia': {\n",
    "         'region_data': eastasia_data,\n",
    "         'male_real_world_proportions': male_eastasia_realworld_proportions,\n",
    "         'female_real_world_proportions': female_eastasia_realworld_proportions,\n",
    "         'male_real_world_averages': male_eastasia_realworld_averages,\n",
    "         'female_real_world_averages': female_eastasia_realworld_averages,\n",
    "         'bothsexes_real_world_averages': bothsexes_eastasia_realworld_averages,\n",
    "         'data_ethnicity': eastasia_data_ethnicity,\n",
    "         'realworld_ethnicity': eastasia_ethnic_realworld,\n",
    "         'ethnicities': [\n",
    "             \"Chinese\", \n",
    "             \"Taiwanese\", \n",
    "             \"Japanese\", \n",
    "             \"Koreans\", \n",
    "             \"Other Asians\"\n",
    "         ]\n",
    "     }  \n",
    "}\n",
    "\n",
    "# Generate the list of unique regions\n",
    "regions = list(region_data.keys())\n",
    "\n",
    "periods = [\"All periods\", \"1950-1965\", \"1966-1980\", \"1981-1995\", \"1996-2012\"]"
   ]
  },
  {
   "cell_type": "markdown",
   "id": "7762bf06",
   "metadata": {},
   "source": [
    "### Ethnicity comparison plot"
   ]
  },
  {
   "cell_type": "code",
   "execution_count": 7,
   "id": "46673a8e",
   "metadata": {},
   "outputs": [
    {
     "data": {
      "application/vnd.jupyter.widget-view+json": {
       "model_id": "0425a9dcd76341c8b99a26c9b22ba12c",
       "version_major": 2,
       "version_minor": 0
      },
      "text/plain": [
       "Dropdown(description='Region', options=('Hollywood', 'Bollywood', 'Eastasia'), value='Hollywood')"
      ]
     },
     "metadata": {},
     "output_type": "display_data"
    },
    {
     "data": {
      "application/vnd.jupyter.widget-view+json": {
       "model_id": "20fd0a116af7489c866a3eda890c7a66",
       "version_major": 2,
       "version_minor": 0
      },
      "text/plain": [
       "Dropdown(description='Period', options=('All periods', '1950-1965', '1966-1980', '1981-1995', '1996-2012'), va…"
      ]
     },
     "metadata": {},
     "output_type": "display_data"
    },
    {
     "data": {
      "application/vnd.jupyter.widget-view+json": {
       "model_id": "ffc59bc45cb1418eb48fbf121e0a2746",
       "version_major": 2,
       "version_minor": 0
      },
      "text/plain": [
       "Dropdown(description='Genre', options=('All', 'Action/Adventure', 'Animation/Family', 'Comedy', 'Documentary',…"
      ]
     },
     "metadata": {},
     "output_type": "display_data"
    },
    {
     "data": {
      "application/vnd.jupyter.widget-view+json": {
       "model_id": "178dae12588b4ee4aa0aa91a001144d1",
       "version_major": 2,
       "version_minor": 0
      },
      "text/plain": [
       "FigureWidget({\n",
       "    'data': [{'hovertemplate': 'Real-world: %{x:.1f}%',\n",
       "              'marker': {'color': 'teal', 'opacity': 0.8},\n",
       "              'name': 'Real-world Population',\n",
       "              'orientation': 'h',\n",
       "              'type': 'bar',\n",
       "              'uid': 'ab6744bc-5ab0-4b46-921e-89c5f087ce21',\n",
       "              'x': array([12.4  ,  0.78 ,  0.335,  2.9  , 68.325,  3.075, 10.   ]),\n",
       "              'y': array(['African Americans', 'American Indians', 'Arab Americans',\n",
       "                          'Asian Americans', 'Caucasian Americans', 'Jewish Americans',\n",
       "                          'Latino Americans'], dtype=object)},\n",
       "             {'hovertemplate': 'Hollywood Industry: %{x:.1f}%%',\n",
       "              'marker': {'color': 'purple', 'opacity': 0.8},\n",
       "              'name': 'Hollywood Industry',\n",
       "              'orientation': 'h',\n",
       "              'type': 'bar',\n",
       "              'uid': '2e16497a-a551-4120-a192-f80c5a444f33',\n",
       "              'x': [-16.37654730327144, -1.4727011494252873, -0.5360300618921309,\n",
       "                    -4.919595490716181, -55.483255968169765, -16.387599469496024,\n",
       "                    -4.824270557029178],\n",
       "              'y': array(['African Americans', 'American Indians', 'Arab Americans',\n",
       "                          'Asian Americans', 'Caucasian Americans', 'Jewish Americans',\n",
       "                          'Latino Americans'], dtype=object)}],\n",
       "    'layout': {'barmode': 'relative',\n",
       "               'height': 600,\n",
       "               'legend': {'orientation': 'h',\n",
       "                          'title': {'text': 'Sources'},\n",
       "                          'x': 0.5,\n",
       "                          'xanchor': 'center',\n",
       "                          'y': 1.0,\n",
       "                          'yanchor': 'bottom'},\n",
       "               'margin': {'t': 125},\n",
       "               'shapes': [{'line': {'color': 'black', 'dash': 'dash', 'width': 2},\n",
       "                           'type': 'line',\n",
       "                           'x0': 0,\n",
       "                           'x1': 0,\n",
       "                           'y0': -0.5,\n",
       "                           'y1': 6.5}],\n",
       "               'template': '...',\n",
       "               'title': {'pad': {'b': 10},\n",
       "                         'text': ('Comparison of Hollywood Indust' ... 'riod: All periods, Genre: All)'),\n",
       "                         'x': 0.5,\n",
       "                         'xanchor': 'center',\n",
       "                         'yanchor': 'top'},\n",
       "               'width': 900,\n",
       "               'xaxis': {'ticktext': [50, 25, 0, 25, 50],\n",
       "                         'tickvals': [-50, -25, 0, 25, 50],\n",
       "                         'title': {'text': '← Hollywood Industry | Real-world Population →'},\n",
       "                         'zeroline': True,\n",
       "                         'zerolinecolor': 'gray',\n",
       "                         'zerolinewidth': 1},\n",
       "               'yaxis': {'title': {'text': 'Ethnicity Group'}}}\n",
       "})"
      ]
     },
     "metadata": {},
     "output_type": "display_data"
    },
    {
     "name": "stdout",
     "output_type": "stream",
     "text": [
      "Plot saved successfully to: /Users/zaynebmellouli/MA1/ada-2024-project-advanceddestroyers0fall/src/plots_html/ethnicity_comparison.html\n"
     ]
    }
   ],
   "source": [
    "create_ethnicity_comparison_graph2()"
   ]
  },
  {
   "cell_type": "markdown",
   "id": "faa21827",
   "metadata": {},
   "source": [
    "### Gender distribution comparison plot"
   ]
  },
  {
   "cell_type": "code",
   "execution_count": 8,
   "id": "c261696d",
   "metadata": {},
   "outputs": [
    {
     "data": {
      "application/vnd.jupyter.widget-view+json": {
       "model_id": "1415e4fdf08a424d91b97a6e478e7352",
       "version_major": 2,
       "version_minor": 0
      },
      "text/plain": [
       "VBox(children=(HBox(children=(Dropdown(description='Region', options=('Hollywood', 'Bollywood', 'Eastasia'), v…"
      ]
     },
     "metadata": {},
     "output_type": "display_data"
    },
    {
     "data": {
      "application/vnd.jupyter.widget-view+json": {
       "model_id": "fbae1b8e27ce43a9884916c05e95ae6e",
       "version_major": 2,
       "version_minor": 0
      },
      "text/plain": [
       "FigureWidget({\n",
       "    'data': [{'hovertemplate': 'Male: 76.0%<extra></extra>',\n",
       "              'legendgroup': 'Male',\n",
       "              'marker': {'color': 'teal'},\n",
       "              'name': 'Male',\n",
       "              'showlegend': True,\n",
       "              'type': 'bar',\n",
       "              'uid': 'fa2b6347-7ff6-43da-91f1-ad94b8698e9b',\n",
       "              'x': [Action/Adventure],\n",
       "              'y': [0.7599300797527819]},\n",
       "             {'base': [0.7599300797527819],\n",
       "              'hovertemplate': 'Female: 24.0%<extra></extra>',\n",
       "              'legendgroup': 'Female',\n",
       "              'marker': {'color': 'purple'},\n",
       "              'name': 'Female',\n",
       "              'showlegend': True,\n",
       "              'type': 'bar',\n",
       "              'uid': '8141a4ed-ca10-4221-85b2-8db37304e741',\n",
       "              'x': [Action/Adventure],\n",
       "              'y': [0.24006992024721802]},\n",
       "             {'hovertemplate': 'Male: 67.7%<extra></extra>',\n",
       "              'legendgroup': 'Male',\n",
       "              'marker': {'color': 'teal'},\n",
       "              'name': 'Male',\n",
       "              'showlegend': False,\n",
       "              'type': 'bar',\n",
       "              'uid': '781cff06-6323-4d74-93cc-53c4838f93af',\n",
       "              'x': [Animation/Family],\n",
       "              'y': [0.6767074413863405]},\n",
       "             {'base': [0.6767074413863405],\n",
       "              'hovertemplate': 'Female: 32.3%<extra></extra>',\n",
       "              'legendgroup': 'Female',\n",
       "              'marker': {'color': 'purple'},\n",
       "              'name': 'Female',\n",
       "              'showlegend': False,\n",
       "              'type': 'bar',\n",
       "              'uid': 'bc89dea9-43c5-4ddb-96b5-0c1c4f7bb8c4',\n",
       "              'x': [Animation/Family],\n",
       "              'y': [0.3232925586136595]},\n",
       "             {'hovertemplate': 'Male: 64.4%<extra></extra>',\n",
       "              'legendgroup': 'Male',\n",
       "              'marker': {'color': 'teal'},\n",
       "              'name': 'Male',\n",
       "              'showlegend': False,\n",
       "              'type': 'bar',\n",
       "              'uid': '5dedc7ff-3212-4cf6-892a-d53cfab580cf',\n",
       "              'x': [Comedy],\n",
       "              'y': [0.6443490962205587]},\n",
       "             {'base': [0.6443490962205587],\n",
       "              'hovertemplate': 'Female: 35.6%<extra></extra>',\n",
       "              'legendgroup': 'Female',\n",
       "              'marker': {'color': 'purple'},\n",
       "              'name': 'Female',\n",
       "              'showlegend': False,\n",
       "              'type': 'bar',\n",
       "              'uid': 'dc33c67f-f722-4fa5-b9b4-5a1622d02e5d',\n",
       "              'x': [Comedy],\n",
       "              'y': [0.3556509037794413]},\n",
       "             {'hovertemplate': 'Male: 71.7%<extra></extra>',\n",
       "              'legendgroup': 'Male',\n",
       "              'marker': {'color': 'teal'},\n",
       "              'name': 'Male',\n",
       "              'showlegend': False,\n",
       "              'type': 'bar',\n",
       "              'uid': '2945cf85-80a3-47a8-a298-7241c2021e24',\n",
       "              'x': [Documentary],\n",
       "              'y': [0.7171577806248152]},\n",
       "             {'base': [0.7171577806248152],\n",
       "              'hovertemplate': 'Female: 28.3%<extra></extra>',\n",
       "              'legendgroup': 'Female',\n",
       "              'marker': {'color': 'purple'},\n",
       "              'name': 'Female',\n",
       "              'showlegend': False,\n",
       "              'type': 'bar',\n",
       "              'uid': '0f8197ca-0966-47a9-abc9-cba9930df429',\n",
       "              'x': [Documentary],\n",
       "              'y': [0.2828422193751848]},\n",
       "             {'hovertemplate': 'Male: 65.1%<extra></extra>',\n",
       "              'legendgroup': 'Male',\n",
       "              'marker': {'color': 'teal'},\n",
       "              'name': 'Male',\n",
       "              'showlegend': False,\n",
       "              'type': 'bar',\n",
       "              'uid': '43c48beb-ec5f-4798-98f4-1d286b78884d',\n",
       "              'x': [Drama],\n",
       "              'y': [0.6508706607995788]},\n",
       "             {'base': [0.6508706607995788],\n",
       "              'hovertemplate': 'Female: 34.9%<extra></extra>',\n",
       "              'legendgroup': 'Female',\n",
       "              'marker': {'color': 'purple'},\n",
       "              'name': 'Female',\n",
       "              'showlegend': False,\n",
       "              'type': 'bar',\n",
       "              'uid': 'eae90e91-5df0-4c6f-912c-a7a309c8b360',\n",
       "              'x': [Drama],\n",
       "              'y': [0.3491293392004212]},\n",
       "             {'hovertemplate': 'Male: 69.2%<extra></extra>',\n",
       "              'legendgroup': 'Male',\n",
       "              'marker': {'color': 'teal'},\n",
       "              'name': 'Male',\n",
       "              'showlegend': False,\n",
       "              'type': 'bar',\n",
       "              'uid': 'b06386c4-e1ea-4eb7-8677-faee41226c6b',\n",
       "              'x': [Fantasy],\n",
       "              'y': [0.6921985815602837]},\n",
       "             {'base': [0.6921985815602837],\n",
       "              'hovertemplate': 'Female: 30.8%<extra></extra>',\n",
       "              'legendgroup': 'Female',\n",
       "              'marker': {'color': 'purple'},\n",
       "              'name': 'Female',\n",
       "              'showlegend': False,\n",
       "              'type': 'bar',\n",
       "              'uid': '32cf6e41-a401-4916-b470-c917d7cfe839',\n",
       "              'x': [Fantasy],\n",
       "              'y': [0.3078014184397163]},\n",
       "             {'hovertemplate': 'Male: 65.2%<extra></extra>',\n",
       "              'legendgroup': 'Male',\n",
       "              'marker': {'color': 'teal'},\n",
       "              'name': 'Male',\n",
       "              'showlegend': False,\n",
       "              'type': 'bar',\n",
       "              'uid': '456196cf-b504-4784-8462-ed381089e782',\n",
       "              'x': [Horror],\n",
       "              'y': [0.6521797904697533]},\n",
       "             {'base': [0.6521797904697533],\n",
       "              'hovertemplate': 'Female: 34.8%<extra></extra>',\n",
       "              'legendgroup': 'Female',\n",
       "              'marker': {'color': 'purple'},\n",
       "              'name': 'Female',\n",
       "              'showlegend': False,\n",
       "              'type': 'bar',\n",
       "              'uid': '2b1e4dec-0017-4085-88f9-95253b857302',\n",
       "              'x': [Horror],\n",
       "              'y': [0.34782020953024667]},\n",
       "             {'hovertemplate': 'Male: 69.3%<extra></extra>',\n",
       "              'legendgroup': 'Male',\n",
       "              'marker': {'color': 'teal'},\n",
       "              'name': 'Male',\n",
       "              'showlegend': False,\n",
       "              'type': 'bar',\n",
       "              'uid': '52738997-62d0-4acd-a581-ae8a99364988',\n",
       "              'x': [Other],\n",
       "              'y': [0.6933701657458563]},\n",
       "             {'base': [0.6933701657458563],\n",
       "              'hovertemplate': 'Female: 30.7%<extra></extra>',\n",
       "              'legendgroup': 'Female',\n",
       "              'marker': {'color': 'purple'},\n",
       "              'name': 'Female',\n",
       "              'showlegend': False,\n",
       "              'type': 'bar',\n",
       "              'uid': '932a953c-cf1c-4b13-9280-13f11823217c',\n",
       "              'x': [Other],\n",
       "              'y': [0.30662983425414364]},\n",
       "             {'hovertemplate': 'Male: 59.0%<extra></extra>',\n",
       "              'legendgroup': 'Male',\n",
       "              'marker': {'color': 'teal'},\n",
       "              'name': 'Male',\n",
       "              'showlegend': False,\n",
       "              'type': 'bar',\n",
       "              'uid': '6332a14a-af60-4077-8c1a-957ff1fd3c36',\n",
       "              'x': [Romance],\n",
       "              'y': [0.5904761904761905]},\n",
       "             {'base': [0.5904761904761905],\n",
       "              'hovertemplate': 'Female: 41.0%<extra></extra>',\n",
       "              'legendgroup': 'Female',\n",
       "              'marker': {'color': 'purple'},\n",
       "              'name': 'Female',\n",
       "              'showlegend': False,\n",
       "              'type': 'bar',\n",
       "              'uid': 'a1483a92-fd80-496e-b400-a09248d79900',\n",
       "              'x': [Romance],\n",
       "              'y': [0.4095238095238095]},\n",
       "             {'hovertemplate': 'Male: 72.6%<extra></extra>',\n",
       "              'legendgroup': 'Male',\n",
       "              'marker': {'color': 'teal'},\n",
       "              'name': 'Male',\n",
       "              'showlegend': False,\n",
       "              'type': 'bar',\n",
       "              'uid': '6113ba91-7f1c-4236-9112-e6a29b15f90a',\n",
       "              'x': [Science Fiction (Sci-Fi)],\n",
       "              'y': [0.7261780104712042]},\n",
       "             {'base': [0.7261780104712042],\n",
       "              'hovertemplate': 'Female: 27.4%<extra></extra>',\n",
       "              'legendgroup': 'Female',\n",
       "              'marker': {'color': 'purple'},\n",
       "              'name': 'Female',\n",
       "              'showlegend': False,\n",
       "              'type': 'bar',\n",
       "              'uid': 'b4281081-6fa3-4f00-ae69-e7cf03e060d3',\n",
       "              'x': [Science Fiction (Sci-Fi)],\n",
       "              'y': [0.27382198952879583]},\n",
       "             {'hovertemplate': 'Male: 68.6%<extra></extra>',\n",
       "              'legendgroup': 'Male',\n",
       "              'marker': {'color': 'teal'},\n",
       "              'name': 'Male',\n",
       "              'showlegend': False,\n",
       "              'type': 'bar',\n",
       "              'uid': 'd31e7df5-72ea-4387-92be-6936e3709059',\n",
       "              'x': [Thriller/Suspense],\n",
       "              'y': [0.6858944573514769]},\n",
       "             {'base': [0.6858944573514769],\n",
       "              'hovertemplate': 'Female: 31.4%<extra></extra>',\n",
       "              'legendgroup': 'Female',\n",
       "              'marker': {'color': 'purple'},\n",
       "              'name': 'Female',\n",
       "              'showlegend': False,\n",
       "              'type': 'bar',\n",
       "              'uid': 'f2165a6f-1629-451e-8ccc-5aa2efa90fa8',\n",
       "              'x': [Thriller/Suspense],\n",
       "              'y': [0.3141055426485231]},\n",
       "             {'hovertemplate': 'Male: 45.2%<extra></extra>',\n",
       "              'legendgroup': 'Male',\n",
       "              'marker': {'color': 'teal', 'pattern': {'shape': 'x'}},\n",
       "              'name': 'Male',\n",
       "              'showlegend': False,\n",
       "              'type': 'bar',\n",
       "              'uid': '744b4c2a-914a-434a-abed-0fb173c9e578',\n",
       "              'x': [Real-world Population],\n",
       "              'y': [0.4524190478790111]},\n",
       "             {'base': [0.4524190478790111],\n",
       "              'hovertemplate': 'Female: 54.8%<extra></extra>',\n",
       "              'legendgroup': 'Female',\n",
       "              'marker': {'color': 'purple', 'pattern': {'shape': 'x'}},\n",
       "              'name': 'Female',\n",
       "              'showlegend': False,\n",
       "              'type': 'bar',\n",
       "              'uid': 'badf9f3c-d82d-455d-8281-365baa149c31',\n",
       "              'x': [Real-world Population],\n",
       "              'y': [0.5475809521209889]}],\n",
       "    'layout': {'annotations': [{'font': {'color': 'white', 'size': 12},\n",
       "                                'showarrow': False,\n",
       "                                'text': '76.0%',\n",
       "                                'x': 'Action/Adventure',\n",
       "                                'xanchor': 'center',\n",
       "                                'y': 0.37996503987639096,\n",
       "                                'yanchor': 'middle'},\n",
       "                               {'font': {'color': 'white', 'size': 12},\n",
       "                                'showarrow': False,\n",
       "                                'text': '24.0%',\n",
       "                                'x': 'Action/Adventure',\n",
       "                                'xanchor': 'center',\n",
       "                                'y': 0.879965039876391,\n",
       "                                'yanchor': 'middle'},\n",
       "                               {'font': {'color': 'white', 'size': 12},\n",
       "                                'showarrow': False,\n",
       "                                'text': '67.7%',\n",
       "                                'x': 'Animation/Family',\n",
       "                                'xanchor': 'center',\n",
       "                                'y': 0.33835372069317027,\n",
       "                                'yanchor': 'middle'},\n",
       "                               {'font': {'color': 'white', 'size': 12},\n",
       "                                'showarrow': False,\n",
       "                                'text': '32.3%',\n",
       "                                'x': 'Animation/Family',\n",
       "                                'xanchor': 'center',\n",
       "                                'y': 0.8383537206931703,\n",
       "                                'yanchor': 'middle'},\n",
       "                               {'font': {'color': 'white', 'size': 12},\n",
       "                                'showarrow': False,\n",
       "                                'text': '64.4%',\n",
       "                                'x': 'Comedy',\n",
       "                                'xanchor': 'center',\n",
       "                                'y': 0.32217454811027935,\n",
       "                                'yanchor': 'middle'},\n",
       "                               {'font': {'color': 'white', 'size': 12},\n",
       "                                'showarrow': False,\n",
       "                                'text': '35.6%',\n",
       "                                'x': 'Comedy',\n",
       "                                'xanchor': 'center',\n",
       "                                'y': 0.8221745481102793,\n",
       "                                'yanchor': 'middle'},\n",
       "                               {'font': {'color': 'white', 'size': 12},\n",
       "                                'showarrow': False,\n",
       "                                'text': '71.7%',\n",
       "                                'x': 'Documentary',\n",
       "                                'xanchor': 'center',\n",
       "                                'y': 0.3585788903124076,\n",
       "                                'yanchor': 'middle'},\n",
       "                               {'font': {'color': 'white', 'size': 12},\n",
       "                                'showarrow': False,\n",
       "                                'text': '28.3%',\n",
       "                                'x': 'Documentary',\n",
       "                                'xanchor': 'center',\n",
       "                                'y': 0.8585788903124075,\n",
       "                                'yanchor': 'middle'},\n",
       "                               {'font': {'color': 'white', 'size': 12},\n",
       "                                'showarrow': False,\n",
       "                                'text': '65.1%',\n",
       "                                'x': 'Drama',\n",
       "                                'xanchor': 'center',\n",
       "                                'y': 0.3254353303997894,\n",
       "                                'yanchor': 'middle'},\n",
       "                               {'font': {'color': 'white', 'size': 12},\n",
       "                                'showarrow': False,\n",
       "                                'text': '34.9%',\n",
       "                                'x': 'Drama',\n",
       "                                'xanchor': 'center',\n",
       "                                'y': 0.8254353303997894,\n",
       "                                'yanchor': 'middle'},\n",
       "                               {'font': {'color': 'white', 'size': 12},\n",
       "                                'showarrow': False,\n",
       "                                'text': '69.2%',\n",
       "                                'x': 'Fantasy',\n",
       "                                'xanchor': 'center',\n",
       "                                'y': 0.34609929078014184,\n",
       "                                'yanchor': 'middle'},\n",
       "                               {'font': {'color': 'white', 'size': 12},\n",
       "                                'showarrow': False,\n",
       "                                'text': '30.8%',\n",
       "                                'x': 'Fantasy',\n",
       "                                'xanchor': 'center',\n",
       "                                'y': 0.8460992907801419,\n",
       "                                'yanchor': 'middle'},\n",
       "                               {'font': {'color': 'white', 'size': 12},\n",
       "                                'showarrow': False,\n",
       "                                'text': '65.2%',\n",
       "                                'x': 'Horror',\n",
       "                                'xanchor': 'center',\n",
       "                                'y': 0.32608989523487664,\n",
       "                                'yanchor': 'middle'},\n",
       "                               {'font': {'color': 'white', 'size': 12},\n",
       "                                'showarrow': False,\n",
       "                                'text': '34.8%',\n",
       "                                'x': 'Horror',\n",
       "                                'xanchor': 'center',\n",
       "                                'y': 0.8260898952348766,\n",
       "                                'yanchor': 'middle'},\n",
       "                               {'font': {'color': 'white', 'size': 12},\n",
       "                                'showarrow': False,\n",
       "                                'text': '69.3%',\n",
       "                                'x': 'Other',\n",
       "                                'xanchor': 'center',\n",
       "                                'y': 0.34668508287292815,\n",
       "                                'yanchor': 'middle'},\n",
       "                               {'font': {'color': 'white', 'size': 12},\n",
       "                                'showarrow': False,\n",
       "                                'text': '30.7%',\n",
       "                                'x': 'Other',\n",
       "                                'xanchor': 'center',\n",
       "                                'y': 0.8466850828729281,\n",
       "                                'yanchor': 'middle'},\n",
       "                               {'font': {'color': 'white', 'size': 12},\n",
       "                                'showarrow': False,\n",
       "                                'text': '59.0%',\n",
       "                                'x': 'Romance',\n",
       "                                'xanchor': 'center',\n",
       "                                'y': 0.29523809523809524,\n",
       "                                'yanchor': 'middle'},\n",
       "                               {'font': {'color': 'white', 'size': 12},\n",
       "                                'showarrow': False,\n",
       "                                'text': '41.0%',\n",
       "                                'x': 'Romance',\n",
       "                                'xanchor': 'center',\n",
       "                                'y': 0.7952380952380953,\n",
       "                                'yanchor': 'middle'},\n",
       "                               {'font': {'color': 'white', 'size': 12},\n",
       "                                'showarrow': False,\n",
       "                                'text': '72.6%',\n",
       "                                'x': 'Science Fiction (Sci-Fi)',\n",
       "                                'xanchor': 'center',\n",
       "                                'y': 0.3630890052356021,\n",
       "                                'yanchor': 'middle'},\n",
       "                               {'font': {'color': 'white', 'size': 12},\n",
       "                                'showarrow': False,\n",
       "                                'text': '27.4%',\n",
       "                                'x': 'Science Fiction (Sci-Fi)',\n",
       "                                'xanchor': 'center',\n",
       "                                'y': 0.8630890052356022,\n",
       "                                'yanchor': 'middle'},\n",
       "                               {'font': {'color': 'white', 'size': 12},\n",
       "                                'showarrow': False,\n",
       "                                'text': '68.6%',\n",
       "                                'x': 'Thriller/Suspense',\n",
       "                                'xanchor': 'center',\n",
       "                                'y': 0.34294722867573846,\n",
       "                                'yanchor': 'middle'},\n",
       "                               {'font': {'color': 'white', 'size': 12},\n",
       "                                'showarrow': False,\n",
       "                                'text': '31.4%',\n",
       "                                'x': 'Thriller/Suspense',\n",
       "                                'xanchor': 'center',\n",
       "                                'y': 0.8429472286757385,\n",
       "                                'yanchor': 'middle'},\n",
       "                               {'font': {'color': 'white', 'size': 12},\n",
       "                                'showarrow': False,\n",
       "                                'text': '45.2%',\n",
       "                                'x': 'Real-world Population',\n",
       "                                'xanchor': 'center',\n",
       "                                'y': 0.22620952393950555,\n",
       "                                'yanchor': 'middle'},\n",
       "                               {'font': {'color': 'white', 'size': 12},\n",
       "                                'showarrow': False,\n",
       "                                'text': '54.8%',\n",
       "                                'x': 'Real-world Population',\n",
       "                                'xanchor': 'center',\n",
       "                                'y': 0.7262095239395056,\n",
       "                                'yanchor': 'middle'}],\n",
       "               'autosize': True,\n",
       "               'bargap': 0.15,\n",
       "               'bargroupgap': 0.0,\n",
       "               'barmode': 'stack',\n",
       "               'height': 600,\n",
       "               'legend': {'orientation': 'h',\n",
       "                          'title': {'text': 'Gender'},\n",
       "                          'x': 0.5,\n",
       "                          'xanchor': 'center',\n",
       "                          'y': 0.97,\n",
       "                          'yanchor': 'bottom'},\n",
       "               'margin': {'t': 100},\n",
       "               'template': '...',\n",
       "               'title': {'pad': {'b': 20},\n",
       "                         'text': ('Gender Proportions by Genre & ' ... 'ywood<br>(Period: All periods)'),\n",
       "                         'x': 0.5,\n",
       "                         'xanchor': 'center',\n",
       "                         'yanchor': 'top'},\n",
       "               'width': 1200,\n",
       "               'xaxis': {'tickangle': -25, 'title': {'text': 'Movie Genres Compared to Real-world Population'}},\n",
       "               'yaxis': {'title': {'text': 'Proportion'}}}\n",
       "})"
      ]
     },
     "metadata": {},
     "output_type": "display_data"
    },
    {
     "name": "stdout",
     "output_type": "stream",
     "text": [
      "Plot saved successfully to: /Users/zaynebmellouli/MA1/ada-2024-project-advanceddestroyers0fall/src/plots_html/gender_comparison.html\n"
     ]
    }
   ],
   "source": [
    "create_gender_proportions_graph2()"
   ]
  },
  {
   "cell_type": "markdown",
   "id": "143a34e2",
   "metadata": {},
   "source": [
    "### Age distribution comparison plot"
   ]
  },
  {
   "cell_type": "code",
   "execution_count": 9,
   "id": "23662da3",
   "metadata": {},
   "outputs": [
    {
     "data": {
      "application/vnd.jupyter.widget-view+json": {
       "model_id": "a803fef89839428d88d8d70bb8b36c75",
       "version_major": 2,
       "version_minor": 0
      },
      "text/plain": [
       "VBox(children=(HBox(children=(Dropdown(description='Region', options=('Hollywood', 'Bollywood', 'Eastasia'), v…"
      ]
     },
     "metadata": {},
     "output_type": "display_data"
    },
    {
     "data": {
      "application/vnd.jupyter.widget-view+json": {
       "model_id": "9250fce039654929aa5e9d97f801e419",
       "version_major": 2,
       "version_minor": 0
      },
      "text/plain": [
       "FigureWidget({\n",
       "    'data': [{'fill': 'tozeroy',\n",
       "              'fillcolor': 'rgba(0, 128, 128, 0.2)',\n",
       "              'hovertemplate': 'Age %{x:.1f}: %{y:.2%}<extra>Real-world Population</extra>',\n",
       "              'line': {'color': 'teal'},\n",
       "              'mode': 'lines',\n",
       "              'name': 'Real-world Population',\n",
       "              'type': 'scatter',\n",
       "              'uid': 'b23ad44f-dccd-4365-b04e-cc16142b0c76',\n",
       "              'x': array([  0.       ,   0.2004008,   0.4008016, ...,  99.5991984,  99.7995992,\n",
       "                          100.       ]),\n",
       "              'y': array([1.83549919e-03, 1.88387342e-03, 1.93194606e-03, ..., 8.04239037e-06,\n",
       "                          7.38738317e-06, 6.77843461e-06])},\n",
       "             {'fill': 'tozeroy',\n",
       "              'fillcolor': 'rgba(128, 0, 128, 0.2)',\n",
       "              'hovertemplate': 'Age %{x:.1f}: %{y:.2%}<extra>Actors</extra>',\n",
       "              'line': {'color': 'purple'},\n",
       "              'mode': 'lines',\n",
       "              'name': 'Actors',\n",
       "              'type': 'scatter',\n",
       "              'uid': '6ae7990a-77f3-4fdb-88f1-4a4e8fe8b8e0',\n",
       "              'x': array([  0.       ,   0.2004008,   0.4008016, ...,  99.5991984,  99.7995992,\n",
       "                          100.       ]),\n",
       "              'y': array([2.07540405e-05, 2.22067730e-05, 2.35085119e-05, ..., 1.36998561e-06,\n",
       "                          1.25740793e-06, 1.13733646e-06])}],\n",
       "    'layout': {'height': 550,\n",
       "               'legend': {'orientation': 'h',\n",
       "                          'title': {'text': 'Sources'},\n",
       "                          'x': 0.5,\n",
       "                          'xanchor': 'center',\n",
       "                          'y': 0.95,\n",
       "                          'yanchor': 'bottom'},\n",
       "               'margin': {'t': 100},\n",
       "               'template': '...',\n",
       "               'title': {'pad': {'b': 20},\n",
       "                         'text': ('Age Distribution Comparison in' ... 'riod: All periods, Genre: All)'),\n",
       "                         'x': 0.5,\n",
       "                         'xanchor': 'center',\n",
       "                         'yanchor': 'top'},\n",
       "               'width': 1100,\n",
       "               'xaxis': {'range': [0, 100], 'title': {'text': 'Age'}},\n",
       "               'yaxis': {'range': [0, 0.006785424686258059], 'title': {'text': 'Density'}}}\n",
       "})"
      ]
     },
     "metadata": {},
     "output_type": "display_data"
    },
    {
     "name": "stdout",
     "output_type": "stream",
     "text": [
      "Plot saved successfully to: /Users/zaynebmellouli/MA1/ada-2024-project-advanceddestroyers0fall/src/plots_html/age_distribution.html\n"
     ]
    }
   ],
   "source": [
    "create_age_distribution_graph2()"
   ]
  },
  {
   "cell_type": "markdown",
   "id": "98ad6ecc-b461-4438-842a-d5189751a6fd",
   "metadata": {},
   "source": [
    "## Other plots\n",
    "\n",
    "While exploring the dataset and finding out how to plot the data and what aspects of the data we could make interactive and interesting for readers. \n",
    "\n",
    "In this section, you can find various types of plots for differents types of data."
   ]
  },
  {
   "cell_type": "code",
   "execution_count": 32,
   "id": "2080d34d-3d23-4705-9cbb-575db65b9d72",
   "metadata": {},
   "outputs": [],
   "source": [
    "east_asian_ethnicities = [\n",
    "    'Taiwanese people', 'Koreans', 'Japanese Americans', 'Chinese Americans',\n",
    "    'Hongkongers', 'Chinese Canadians', 'Chinese Singaporeans', 'Vietnamese people',\n",
    "]"
   ]
  },
  {
   "cell_type": "code",
   "execution_count": 33,
   "id": "926839af-3a36-447a-89ce-acb8d488f676",
   "metadata": {},
   "outputs": [
    {
     "data": {
      "application/vnd.plotly.v1+json": {
       "config": {
        "plotlyServerURL": "https://plot.ly"
       },
       "data": [
        {
         "hole": 0.4,
         "hoverinfo": "label+percent+value",
         "insidetextfont": {
          "color": "black",
          "size": 10
         },
         "labels": [
          "Koreans",
          "Hongkongers",
          "Taiwanese people",
          "Chinese Americans",
          "Japanese Americans",
          "Chinese Singaporeans",
          "Chinese Canadians"
         ],
         "marker": {
          "colors": [
           "#66c2a5",
           "#fc8d62",
           "#8da0cb",
           "#e78ac3",
           "#a6d854",
           "#ffd92f",
           "#e5c494"
          ]
         },
         "textinfo": "percent+label",
         "type": "pie",
         "values": [
          479,
          162,
          65,
          52,
          28,
          21,
          10
         ]
        }
       ],
       "layout": {
        "annotations": [
         {
          "font": {
           "size": 16
          },
          "showarrow": false,
          "text": "Ethnicities",
          "x": 0.5,
          "y": 0.5
         }
        ],
        "legend": {
         "font": {
          "size": 9
         },
         "title": {
          "text": "Ethnicities"
         },
         "x": 1.05,
         "y": 0.5
        },
        "margin": {
         "b": 20,
         "l": 20,
         "r": 20,
         "t": 40
        },
        "template": {
         "data": {
          "bar": [
           {
            "error_x": {
             "color": "#2a3f5f"
            },
            "error_y": {
             "color": "#2a3f5f"
            },
            "marker": {
             "line": {
              "color": "#E5ECF6",
              "width": 0.5
             },
             "pattern": {
              "fillmode": "overlay",
              "size": 10,
              "solidity": 0.2
             }
            },
            "type": "bar"
           }
          ],
          "barpolar": [
           {
            "marker": {
             "line": {
              "color": "#E5ECF6",
              "width": 0.5
             },
             "pattern": {
              "fillmode": "overlay",
              "size": 10,
              "solidity": 0.2
             }
            },
            "type": "barpolar"
           }
          ],
          "carpet": [
           {
            "aaxis": {
             "endlinecolor": "#2a3f5f",
             "gridcolor": "white",
             "linecolor": "white",
             "minorgridcolor": "white",
             "startlinecolor": "#2a3f5f"
            },
            "baxis": {
             "endlinecolor": "#2a3f5f",
             "gridcolor": "white",
             "linecolor": "white",
             "minorgridcolor": "white",
             "startlinecolor": "#2a3f5f"
            },
            "type": "carpet"
           }
          ],
          "choropleth": [
           {
            "colorbar": {
             "outlinewidth": 0,
             "ticks": ""
            },
            "type": "choropleth"
           }
          ],
          "contour": [
           {
            "colorbar": {
             "outlinewidth": 0,
             "ticks": ""
            },
            "colorscale": [
             [
              0,
              "#0d0887"
             ],
             [
              0.1111111111111111,
              "#46039f"
             ],
             [
              0.2222222222222222,
              "#7201a8"
             ],
             [
              0.3333333333333333,
              "#9c179e"
             ],
             [
              0.4444444444444444,
              "#bd3786"
             ],
             [
              0.5555555555555556,
              "#d8576b"
             ],
             [
              0.6666666666666666,
              "#ed7953"
             ],
             [
              0.7777777777777778,
              "#fb9f3a"
             ],
             [
              0.8888888888888888,
              "#fdca26"
             ],
             [
              1,
              "#f0f921"
             ]
            ],
            "type": "contour"
           }
          ],
          "contourcarpet": [
           {
            "colorbar": {
             "outlinewidth": 0,
             "ticks": ""
            },
            "type": "contourcarpet"
           }
          ],
          "heatmap": [
           {
            "colorbar": {
             "outlinewidth": 0,
             "ticks": ""
            },
            "colorscale": [
             [
              0,
              "#0d0887"
             ],
             [
              0.1111111111111111,
              "#46039f"
             ],
             [
              0.2222222222222222,
              "#7201a8"
             ],
             [
              0.3333333333333333,
              "#9c179e"
             ],
             [
              0.4444444444444444,
              "#bd3786"
             ],
             [
              0.5555555555555556,
              "#d8576b"
             ],
             [
              0.6666666666666666,
              "#ed7953"
             ],
             [
              0.7777777777777778,
              "#fb9f3a"
             ],
             [
              0.8888888888888888,
              "#fdca26"
             ],
             [
              1,
              "#f0f921"
             ]
            ],
            "type": "heatmap"
           }
          ],
          "heatmapgl": [
           {
            "colorbar": {
             "outlinewidth": 0,
             "ticks": ""
            },
            "colorscale": [
             [
              0,
              "#0d0887"
             ],
             [
              0.1111111111111111,
              "#46039f"
             ],
             [
              0.2222222222222222,
              "#7201a8"
             ],
             [
              0.3333333333333333,
              "#9c179e"
             ],
             [
              0.4444444444444444,
              "#bd3786"
             ],
             [
              0.5555555555555556,
              "#d8576b"
             ],
             [
              0.6666666666666666,
              "#ed7953"
             ],
             [
              0.7777777777777778,
              "#fb9f3a"
             ],
             [
              0.8888888888888888,
              "#fdca26"
             ],
             [
              1,
              "#f0f921"
             ]
            ],
            "type": "heatmapgl"
           }
          ],
          "histogram": [
           {
            "marker": {
             "pattern": {
              "fillmode": "overlay",
              "size": 10,
              "solidity": 0.2
             }
            },
            "type": "histogram"
           }
          ],
          "histogram2d": [
           {
            "colorbar": {
             "outlinewidth": 0,
             "ticks": ""
            },
            "colorscale": [
             [
              0,
              "#0d0887"
             ],
             [
              0.1111111111111111,
              "#46039f"
             ],
             [
              0.2222222222222222,
              "#7201a8"
             ],
             [
              0.3333333333333333,
              "#9c179e"
             ],
             [
              0.4444444444444444,
              "#bd3786"
             ],
             [
              0.5555555555555556,
              "#d8576b"
             ],
             [
              0.6666666666666666,
              "#ed7953"
             ],
             [
              0.7777777777777778,
              "#fb9f3a"
             ],
             [
              0.8888888888888888,
              "#fdca26"
             ],
             [
              1,
              "#f0f921"
             ]
            ],
            "type": "histogram2d"
           }
          ],
          "histogram2dcontour": [
           {
            "colorbar": {
             "outlinewidth": 0,
             "ticks": ""
            },
            "colorscale": [
             [
              0,
              "#0d0887"
             ],
             [
              0.1111111111111111,
              "#46039f"
             ],
             [
              0.2222222222222222,
              "#7201a8"
             ],
             [
              0.3333333333333333,
              "#9c179e"
             ],
             [
              0.4444444444444444,
              "#bd3786"
             ],
             [
              0.5555555555555556,
              "#d8576b"
             ],
             [
              0.6666666666666666,
              "#ed7953"
             ],
             [
              0.7777777777777778,
              "#fb9f3a"
             ],
             [
              0.8888888888888888,
              "#fdca26"
             ],
             [
              1,
              "#f0f921"
             ]
            ],
            "type": "histogram2dcontour"
           }
          ],
          "mesh3d": [
           {
            "colorbar": {
             "outlinewidth": 0,
             "ticks": ""
            },
            "type": "mesh3d"
           }
          ],
          "parcoords": [
           {
            "line": {
             "colorbar": {
              "outlinewidth": 0,
              "ticks": ""
             }
            },
            "type": "parcoords"
           }
          ],
          "pie": [
           {
            "automargin": true,
            "type": "pie"
           }
          ],
          "scatter": [
           {
            "fillpattern": {
             "fillmode": "overlay",
             "size": 10,
             "solidity": 0.2
            },
            "type": "scatter"
           }
          ],
          "scatter3d": [
           {
            "line": {
             "colorbar": {
              "outlinewidth": 0,
              "ticks": ""
             }
            },
            "marker": {
             "colorbar": {
              "outlinewidth": 0,
              "ticks": ""
             }
            },
            "type": "scatter3d"
           }
          ],
          "scattercarpet": [
           {
            "marker": {
             "colorbar": {
              "outlinewidth": 0,
              "ticks": ""
             }
            },
            "type": "scattercarpet"
           }
          ],
          "scattergeo": [
           {
            "marker": {
             "colorbar": {
              "outlinewidth": 0,
              "ticks": ""
             }
            },
            "type": "scattergeo"
           }
          ],
          "scattergl": [
           {
            "marker": {
             "colorbar": {
              "outlinewidth": 0,
              "ticks": ""
             }
            },
            "type": "scattergl"
           }
          ],
          "scattermapbox": [
           {
            "marker": {
             "colorbar": {
              "outlinewidth": 0,
              "ticks": ""
             }
            },
            "type": "scattermapbox"
           }
          ],
          "scatterpolar": [
           {
            "marker": {
             "colorbar": {
              "outlinewidth": 0,
              "ticks": ""
             }
            },
            "type": "scatterpolar"
           }
          ],
          "scatterpolargl": [
           {
            "marker": {
             "colorbar": {
              "outlinewidth": 0,
              "ticks": ""
             }
            },
            "type": "scatterpolargl"
           }
          ],
          "scatterternary": [
           {
            "marker": {
             "colorbar": {
              "outlinewidth": 0,
              "ticks": ""
             }
            },
            "type": "scatterternary"
           }
          ],
          "surface": [
           {
            "colorbar": {
             "outlinewidth": 0,
             "ticks": ""
            },
            "colorscale": [
             [
              0,
              "#0d0887"
             ],
             [
              0.1111111111111111,
              "#46039f"
             ],
             [
              0.2222222222222222,
              "#7201a8"
             ],
             [
              0.3333333333333333,
              "#9c179e"
             ],
             [
              0.4444444444444444,
              "#bd3786"
             ],
             [
              0.5555555555555556,
              "#d8576b"
             ],
             [
              0.6666666666666666,
              "#ed7953"
             ],
             [
              0.7777777777777778,
              "#fb9f3a"
             ],
             [
              0.8888888888888888,
              "#fdca26"
             ],
             [
              1,
              "#f0f921"
             ]
            ],
            "type": "surface"
           }
          ],
          "table": [
           {
            "cells": {
             "fill": {
              "color": "#EBF0F8"
             },
             "line": {
              "color": "white"
             }
            },
            "header": {
             "fill": {
              "color": "#C8D4E3"
             },
             "line": {
              "color": "white"
             }
            },
            "type": "table"
           }
          ]
         },
         "layout": {
          "annotationdefaults": {
           "arrowcolor": "#2a3f5f",
           "arrowhead": 0,
           "arrowwidth": 1
          },
          "autotypenumbers": "strict",
          "coloraxis": {
           "colorbar": {
            "outlinewidth": 0,
            "ticks": ""
           }
          },
          "colorscale": {
           "diverging": [
            [
             0,
             "#8e0152"
            ],
            [
             0.1,
             "#c51b7d"
            ],
            [
             0.2,
             "#de77ae"
            ],
            [
             0.3,
             "#f1b6da"
            ],
            [
             0.4,
             "#fde0ef"
            ],
            [
             0.5,
             "#f7f7f7"
            ],
            [
             0.6,
             "#e6f5d0"
            ],
            [
             0.7,
             "#b8e186"
            ],
            [
             0.8,
             "#7fbc41"
            ],
            [
             0.9,
             "#4d9221"
            ],
            [
             1,
             "#276419"
            ]
           ],
           "sequential": [
            [
             0,
             "#0d0887"
            ],
            [
             0.1111111111111111,
             "#46039f"
            ],
            [
             0.2222222222222222,
             "#7201a8"
            ],
            [
             0.3333333333333333,
             "#9c179e"
            ],
            [
             0.4444444444444444,
             "#bd3786"
            ],
            [
             0.5555555555555556,
             "#d8576b"
            ],
            [
             0.6666666666666666,
             "#ed7953"
            ],
            [
             0.7777777777777778,
             "#fb9f3a"
            ],
            [
             0.8888888888888888,
             "#fdca26"
            ],
            [
             1,
             "#f0f921"
            ]
           ],
           "sequentialminus": [
            [
             0,
             "#0d0887"
            ],
            [
             0.1111111111111111,
             "#46039f"
            ],
            [
             0.2222222222222222,
             "#7201a8"
            ],
            [
             0.3333333333333333,
             "#9c179e"
            ],
            [
             0.4444444444444444,
             "#bd3786"
            ],
            [
             0.5555555555555556,
             "#d8576b"
            ],
            [
             0.6666666666666666,
             "#ed7953"
            ],
            [
             0.7777777777777778,
             "#fb9f3a"
            ],
            [
             0.8888888888888888,
             "#fdca26"
            ],
            [
             1,
             "#f0f921"
            ]
           ]
          },
          "colorway": [
           "#636efa",
           "#EF553B",
           "#00cc96",
           "#ab63fa",
           "#FFA15A",
           "#19d3f3",
           "#FF6692",
           "#B6E880",
           "#FF97FF",
           "#FECB52"
          ],
          "font": {
           "color": "#2a3f5f"
          },
          "geo": {
           "bgcolor": "white",
           "lakecolor": "white",
           "landcolor": "#E5ECF6",
           "showlakes": true,
           "showland": true,
           "subunitcolor": "white"
          },
          "hoverlabel": {
           "align": "left"
          },
          "hovermode": "closest",
          "mapbox": {
           "style": "light"
          },
          "paper_bgcolor": "white",
          "plot_bgcolor": "#E5ECF6",
          "polar": {
           "angularaxis": {
            "gridcolor": "white",
            "linecolor": "white",
            "ticks": ""
           },
           "bgcolor": "#E5ECF6",
           "radialaxis": {
            "gridcolor": "white",
            "linecolor": "white",
            "ticks": ""
           }
          },
          "scene": {
           "xaxis": {
            "backgroundcolor": "#E5ECF6",
            "gridcolor": "white",
            "gridwidth": 2,
            "linecolor": "white",
            "showbackground": true,
            "ticks": "",
            "zerolinecolor": "white"
           },
           "yaxis": {
            "backgroundcolor": "#E5ECF6",
            "gridcolor": "white",
            "gridwidth": 2,
            "linecolor": "white",
            "showbackground": true,
            "ticks": "",
            "zerolinecolor": "white"
           },
           "zaxis": {
            "backgroundcolor": "#E5ECF6",
            "gridcolor": "white",
            "gridwidth": 2,
            "linecolor": "white",
            "showbackground": true,
            "ticks": "",
            "zerolinecolor": "white"
           }
          },
          "shapedefaults": {
           "line": {
            "color": "#2a3f5f"
           }
          },
          "ternary": {
           "aaxis": {
            "gridcolor": "white",
            "linecolor": "white",
            "ticks": ""
           },
           "baxis": {
            "gridcolor": "white",
            "linecolor": "white",
            "ticks": ""
           },
           "bgcolor": "#E5ECF6",
           "caxis": {
            "gridcolor": "white",
            "linecolor": "white",
            "ticks": ""
           }
          },
          "title": {
           "x": 0.05
          },
          "xaxis": {
           "automargin": true,
           "gridcolor": "white",
           "linecolor": "white",
           "ticks": "",
           "title": {
            "standoff": 15
           },
           "zerolinecolor": "white",
           "zerolinewidth": 2
          },
          "yaxis": {
           "automargin": true,
           "gridcolor": "white",
           "linecolor": "white",
           "ticks": "",
           "title": {
            "standoff": 15
           },
           "zerolinecolor": "white",
           "zerolinewidth": 2
          }
         }
        },
        "title": {
         "text": "Distribution of Specified Ethnicities",
         "x": 0.5
        }
       }
      }
     },
     "metadata": {},
     "output_type": "display_data"
    }
   ],
   "source": [
    "plot_interactive_ethnicity_donut(eastasia_data, 'actor_ethnicity_label', east_asian_ethnicities)"
   ]
  },
  {
   "cell_type": "code",
   "execution_count": 34,
   "id": "60b1e9de-80fe-4936-aa7d-918d93be0450",
   "metadata": {},
   "outputs": [
    {
     "data": {
      "application/vnd.plotly.v1+json": {
       "config": {
        "plotlyServerURL": "https://plot.ly"
       },
       "data": [
        {
         "branchvalues": "total",
         "customdata": [
          [
           6355
          ],
          [
           8632
          ],
          [
           1936
          ],
          [
           477
          ],
          [
           5807
          ],
          [
           1692
          ],
          [
           993
          ],
          [
           1492
          ]
         ],
         "domain": {
          "x": [
           0,
           1
          ],
          "y": [
           0,
           1
          ]
         },
         "hovertemplate": "labels=%{label}<br>Count_sum=%{value}<br>parent=%{parent}<br>id=%{id}<br>Count=%{color}<extra></extra>",
         "ids": [
          "Action/Adventure",
          "Animation/Family",
          "Comedy",
          "Documentary",
          "Drama",
          "Horror",
          "Romance",
          "Thriller/Suspense"
         ],
         "labels": [
          "Action/Adventure",
          "Animation/Family",
          "Comedy",
          "Documentary",
          "Drama",
          "Horror",
          "Romance",
          "Thriller/Suspense"
         ],
         "marker": {
          "coloraxis": "coloraxis",
          "colors": [
           6355,
           8632,
           1936,
           477,
           5807,
           1692,
           993,
           1492
          ]
         },
         "name": "",
         "parents": [
          "",
          "",
          "",
          "",
          "",
          "",
          "",
          ""
         ],
         "type": "sunburst",
         "values": [
          6355,
          8632,
          1936,
          477,
          5807,
          1692,
          993,
          1492
         ]
        }
       ],
       "layout": {
        "coloraxis": {
         "colorbar": {
          "title": {
           "text": "Number of Movies"
          }
         },
         "colorscale": [
          [
           0,
           "rgb(103,0,31)"
          ],
          [
           0.1,
           "rgb(178,24,43)"
          ],
          [
           0.2,
           "rgb(214,96,77)"
          ],
          [
           0.3,
           "rgb(244,165,130)"
          ],
          [
           0.4,
           "rgb(253,219,199)"
          ],
          [
           0.5,
           "rgb(247,247,247)"
          ],
          [
           0.6,
           "rgb(209,229,240)"
          ],
          [
           0.7,
           "rgb(146,197,222)"
          ],
          [
           0.8,
           "rgb(67,147,195)"
          ],
          [
           0.9,
           "rgb(33,102,172)"
          ],
          [
           1,
           "rgb(5,48,97)"
          ]
         ]
        },
        "legend": {
         "tracegroupgap": 0
        },
        "margin": {
         "b": 20,
         "l": 20,
         "r": 20,
         "t": 60
        },
        "template": {
         "data": {
          "bar": [
           {
            "error_x": {
             "color": "#2a3f5f"
            },
            "error_y": {
             "color": "#2a3f5f"
            },
            "marker": {
             "line": {
              "color": "#E5ECF6",
              "width": 0.5
             },
             "pattern": {
              "fillmode": "overlay",
              "size": 10,
              "solidity": 0.2
             }
            },
            "type": "bar"
           }
          ],
          "barpolar": [
           {
            "marker": {
             "line": {
              "color": "#E5ECF6",
              "width": 0.5
             },
             "pattern": {
              "fillmode": "overlay",
              "size": 10,
              "solidity": 0.2
             }
            },
            "type": "barpolar"
           }
          ],
          "carpet": [
           {
            "aaxis": {
             "endlinecolor": "#2a3f5f",
             "gridcolor": "white",
             "linecolor": "white",
             "minorgridcolor": "white",
             "startlinecolor": "#2a3f5f"
            },
            "baxis": {
             "endlinecolor": "#2a3f5f",
             "gridcolor": "white",
             "linecolor": "white",
             "minorgridcolor": "white",
             "startlinecolor": "#2a3f5f"
            },
            "type": "carpet"
           }
          ],
          "choropleth": [
           {
            "colorbar": {
             "outlinewidth": 0,
             "ticks": ""
            },
            "type": "choropleth"
           }
          ],
          "contour": [
           {
            "colorbar": {
             "outlinewidth": 0,
             "ticks": ""
            },
            "colorscale": [
             [
              0,
              "#0d0887"
             ],
             [
              0.1111111111111111,
              "#46039f"
             ],
             [
              0.2222222222222222,
              "#7201a8"
             ],
             [
              0.3333333333333333,
              "#9c179e"
             ],
             [
              0.4444444444444444,
              "#bd3786"
             ],
             [
              0.5555555555555556,
              "#d8576b"
             ],
             [
              0.6666666666666666,
              "#ed7953"
             ],
             [
              0.7777777777777778,
              "#fb9f3a"
             ],
             [
              0.8888888888888888,
              "#fdca26"
             ],
             [
              1,
              "#f0f921"
             ]
            ],
            "type": "contour"
           }
          ],
          "contourcarpet": [
           {
            "colorbar": {
             "outlinewidth": 0,
             "ticks": ""
            },
            "type": "contourcarpet"
           }
          ],
          "heatmap": [
           {
            "colorbar": {
             "outlinewidth": 0,
             "ticks": ""
            },
            "colorscale": [
             [
              0,
              "#0d0887"
             ],
             [
              0.1111111111111111,
              "#46039f"
             ],
             [
              0.2222222222222222,
              "#7201a8"
             ],
             [
              0.3333333333333333,
              "#9c179e"
             ],
             [
              0.4444444444444444,
              "#bd3786"
             ],
             [
              0.5555555555555556,
              "#d8576b"
             ],
             [
              0.6666666666666666,
              "#ed7953"
             ],
             [
              0.7777777777777778,
              "#fb9f3a"
             ],
             [
              0.8888888888888888,
              "#fdca26"
             ],
             [
              1,
              "#f0f921"
             ]
            ],
            "type": "heatmap"
           }
          ],
          "heatmapgl": [
           {
            "colorbar": {
             "outlinewidth": 0,
             "ticks": ""
            },
            "colorscale": [
             [
              0,
              "#0d0887"
             ],
             [
              0.1111111111111111,
              "#46039f"
             ],
             [
              0.2222222222222222,
              "#7201a8"
             ],
             [
              0.3333333333333333,
              "#9c179e"
             ],
             [
              0.4444444444444444,
              "#bd3786"
             ],
             [
              0.5555555555555556,
              "#d8576b"
             ],
             [
              0.6666666666666666,
              "#ed7953"
             ],
             [
              0.7777777777777778,
              "#fb9f3a"
             ],
             [
              0.8888888888888888,
              "#fdca26"
             ],
             [
              1,
              "#f0f921"
             ]
            ],
            "type": "heatmapgl"
           }
          ],
          "histogram": [
           {
            "marker": {
             "pattern": {
              "fillmode": "overlay",
              "size": 10,
              "solidity": 0.2
             }
            },
            "type": "histogram"
           }
          ],
          "histogram2d": [
           {
            "colorbar": {
             "outlinewidth": 0,
             "ticks": ""
            },
            "colorscale": [
             [
              0,
              "#0d0887"
             ],
             [
              0.1111111111111111,
              "#46039f"
             ],
             [
              0.2222222222222222,
              "#7201a8"
             ],
             [
              0.3333333333333333,
              "#9c179e"
             ],
             [
              0.4444444444444444,
              "#bd3786"
             ],
             [
              0.5555555555555556,
              "#d8576b"
             ],
             [
              0.6666666666666666,
              "#ed7953"
             ],
             [
              0.7777777777777778,
              "#fb9f3a"
             ],
             [
              0.8888888888888888,
              "#fdca26"
             ],
             [
              1,
              "#f0f921"
             ]
            ],
            "type": "histogram2d"
           }
          ],
          "histogram2dcontour": [
           {
            "colorbar": {
             "outlinewidth": 0,
             "ticks": ""
            },
            "colorscale": [
             [
              0,
              "#0d0887"
             ],
             [
              0.1111111111111111,
              "#46039f"
             ],
             [
              0.2222222222222222,
              "#7201a8"
             ],
             [
              0.3333333333333333,
              "#9c179e"
             ],
             [
              0.4444444444444444,
              "#bd3786"
             ],
             [
              0.5555555555555556,
              "#d8576b"
             ],
             [
              0.6666666666666666,
              "#ed7953"
             ],
             [
              0.7777777777777778,
              "#fb9f3a"
             ],
             [
              0.8888888888888888,
              "#fdca26"
             ],
             [
              1,
              "#f0f921"
             ]
            ],
            "type": "histogram2dcontour"
           }
          ],
          "mesh3d": [
           {
            "colorbar": {
             "outlinewidth": 0,
             "ticks": ""
            },
            "type": "mesh3d"
           }
          ],
          "parcoords": [
           {
            "line": {
             "colorbar": {
              "outlinewidth": 0,
              "ticks": ""
             }
            },
            "type": "parcoords"
           }
          ],
          "pie": [
           {
            "automargin": true,
            "type": "pie"
           }
          ],
          "scatter": [
           {
            "fillpattern": {
             "fillmode": "overlay",
             "size": 10,
             "solidity": 0.2
            },
            "type": "scatter"
           }
          ],
          "scatter3d": [
           {
            "line": {
             "colorbar": {
              "outlinewidth": 0,
              "ticks": ""
             }
            },
            "marker": {
             "colorbar": {
              "outlinewidth": 0,
              "ticks": ""
             }
            },
            "type": "scatter3d"
           }
          ],
          "scattercarpet": [
           {
            "marker": {
             "colorbar": {
              "outlinewidth": 0,
              "ticks": ""
             }
            },
            "type": "scattercarpet"
           }
          ],
          "scattergeo": [
           {
            "marker": {
             "colorbar": {
              "outlinewidth": 0,
              "ticks": ""
             }
            },
            "type": "scattergeo"
           }
          ],
          "scattergl": [
           {
            "marker": {
             "colorbar": {
              "outlinewidth": 0,
              "ticks": ""
             }
            },
            "type": "scattergl"
           }
          ],
          "scattermapbox": [
           {
            "marker": {
             "colorbar": {
              "outlinewidth": 0,
              "ticks": ""
             }
            },
            "type": "scattermapbox"
           }
          ],
          "scatterpolar": [
           {
            "marker": {
             "colorbar": {
              "outlinewidth": 0,
              "ticks": ""
             }
            },
            "type": "scatterpolar"
           }
          ],
          "scatterpolargl": [
           {
            "marker": {
             "colorbar": {
              "outlinewidth": 0,
              "ticks": ""
             }
            },
            "type": "scatterpolargl"
           }
          ],
          "scatterternary": [
           {
            "marker": {
             "colorbar": {
              "outlinewidth": 0,
              "ticks": ""
             }
            },
            "type": "scatterternary"
           }
          ],
          "surface": [
           {
            "colorbar": {
             "outlinewidth": 0,
             "ticks": ""
            },
            "colorscale": [
             [
              0,
              "#0d0887"
             ],
             [
              0.1111111111111111,
              "#46039f"
             ],
             [
              0.2222222222222222,
              "#7201a8"
             ],
             [
              0.3333333333333333,
              "#9c179e"
             ],
             [
              0.4444444444444444,
              "#bd3786"
             ],
             [
              0.5555555555555556,
              "#d8576b"
             ],
             [
              0.6666666666666666,
              "#ed7953"
             ],
             [
              0.7777777777777778,
              "#fb9f3a"
             ],
             [
              0.8888888888888888,
              "#fdca26"
             ],
             [
              1,
              "#f0f921"
             ]
            ],
            "type": "surface"
           }
          ],
          "table": [
           {
            "cells": {
             "fill": {
              "color": "#EBF0F8"
             },
             "line": {
              "color": "white"
             }
            },
            "header": {
             "fill": {
              "color": "#C8D4E3"
             },
             "line": {
              "color": "white"
             }
            },
            "type": "table"
           }
          ]
         },
         "layout": {
          "annotationdefaults": {
           "arrowcolor": "#2a3f5f",
           "arrowhead": 0,
           "arrowwidth": 1
          },
          "autotypenumbers": "strict",
          "coloraxis": {
           "colorbar": {
            "outlinewidth": 0,
            "ticks": ""
           }
          },
          "colorscale": {
           "diverging": [
            [
             0,
             "#8e0152"
            ],
            [
             0.1,
             "#c51b7d"
            ],
            [
             0.2,
             "#de77ae"
            ],
            [
             0.3,
             "#f1b6da"
            ],
            [
             0.4,
             "#fde0ef"
            ],
            [
             0.5,
             "#f7f7f7"
            ],
            [
             0.6,
             "#e6f5d0"
            ],
            [
             0.7,
             "#b8e186"
            ],
            [
             0.8,
             "#7fbc41"
            ],
            [
             0.9,
             "#4d9221"
            ],
            [
             1,
             "#276419"
            ]
           ],
           "sequential": [
            [
             0,
             "#0d0887"
            ],
            [
             0.1111111111111111,
             "#46039f"
            ],
            [
             0.2222222222222222,
             "#7201a8"
            ],
            [
             0.3333333333333333,
             "#9c179e"
            ],
            [
             0.4444444444444444,
             "#bd3786"
            ],
            [
             0.5555555555555556,
             "#d8576b"
            ],
            [
             0.6666666666666666,
             "#ed7953"
            ],
            [
             0.7777777777777778,
             "#fb9f3a"
            ],
            [
             0.8888888888888888,
             "#fdca26"
            ],
            [
             1,
             "#f0f921"
            ]
           ],
           "sequentialminus": [
            [
             0,
             "#0d0887"
            ],
            [
             0.1111111111111111,
             "#46039f"
            ],
            [
             0.2222222222222222,
             "#7201a8"
            ],
            [
             0.3333333333333333,
             "#9c179e"
            ],
            [
             0.4444444444444444,
             "#bd3786"
            ],
            [
             0.5555555555555556,
             "#d8576b"
            ],
            [
             0.6666666666666666,
             "#ed7953"
            ],
            [
             0.7777777777777778,
             "#fb9f3a"
            ],
            [
             0.8888888888888888,
             "#fdca26"
            ],
            [
             1,
             "#f0f921"
            ]
           ]
          },
          "colorway": [
           "#636efa",
           "#EF553B",
           "#00cc96",
           "#ab63fa",
           "#FFA15A",
           "#19d3f3",
           "#FF6692",
           "#B6E880",
           "#FF97FF",
           "#FECB52"
          ],
          "font": {
           "color": "#2a3f5f"
          },
          "geo": {
           "bgcolor": "white",
           "lakecolor": "white",
           "landcolor": "#E5ECF6",
           "showlakes": true,
           "showland": true,
           "subunitcolor": "white"
          },
          "hoverlabel": {
           "align": "left"
          },
          "hovermode": "closest",
          "mapbox": {
           "style": "light"
          },
          "paper_bgcolor": "white",
          "plot_bgcolor": "#E5ECF6",
          "polar": {
           "angularaxis": {
            "gridcolor": "white",
            "linecolor": "white",
            "ticks": ""
           },
           "bgcolor": "#E5ECF6",
           "radialaxis": {
            "gridcolor": "white",
            "linecolor": "white",
            "ticks": ""
           }
          },
          "scene": {
           "xaxis": {
            "backgroundcolor": "#E5ECF6",
            "gridcolor": "white",
            "gridwidth": 2,
            "linecolor": "white",
            "showbackground": true,
            "ticks": "",
            "zerolinecolor": "white"
           },
           "yaxis": {
            "backgroundcolor": "#E5ECF6",
            "gridcolor": "white",
            "gridwidth": 2,
            "linecolor": "white",
            "showbackground": true,
            "ticks": "",
            "zerolinecolor": "white"
           },
           "zaxis": {
            "backgroundcolor": "#E5ECF6",
            "gridcolor": "white",
            "gridwidth": 2,
            "linecolor": "white",
            "showbackground": true,
            "ticks": "",
            "zerolinecolor": "white"
           }
          },
          "shapedefaults": {
           "line": {
            "color": "#2a3f5f"
           }
          },
          "ternary": {
           "aaxis": {
            "gridcolor": "white",
            "linecolor": "white",
            "ticks": ""
           },
           "baxis": {
            "gridcolor": "white",
            "linecolor": "white",
            "ticks": ""
           },
           "bgcolor": "#E5ECF6",
           "caxis": {
            "gridcolor": "white",
            "linecolor": "white",
            "ticks": ""
           }
          },
          "title": {
           "x": 0.05
          },
          "xaxis": {
           "automargin": true,
           "gridcolor": "white",
           "linecolor": "white",
           "ticks": "",
           "title": {
            "standoff": 15
           },
           "zerolinecolor": "white",
           "zerolinewidth": 2
          },
          "yaxis": {
           "automargin": true,
           "gridcolor": "white",
           "linecolor": "white",
           "ticks": "",
           "title": {
            "standoff": 15
           },
           "zerolinecolor": "white",
           "zerolinewidth": 2
          }
         }
        },
        "title": {
         "text": "Distribution of Genres in Movies",
         "x": 0.5
        }
       }
      }
     },
     "metadata": {},
     "output_type": "display_data"
    }
   ],
   "source": [
    "plot_interactive_genre_sunburst(eastasia_data, 'main_genre', min_count_threshold=400)"
   ]
  },
  {
   "cell_type": "code",
   "execution_count": 35,
   "id": "a89da7d5-9771-4a1f-9be6-a056c238fb5e",
   "metadata": {},
   "outputs": [
    {
     "data": {
      "application/vnd.plotly.v1+json": {
       "config": {
        "plotlyServerURL": "https://plot.ly"
       },
       "data": [
        {
         "marker": {
          "color": "skyblue"
         },
         "name": "Male",
         "type": "bar",
         "x": [
          "Male"
         ],
         "y": [
          38918
         ]
        },
        {
         "marker": {
          "color": "orange"
         },
         "name": "Female",
         "type": "bar",
         "x": [
          "Female"
         ],
         "y": [
          20384
         ]
        }
       ],
       "layout": {
        "barmode": "group",
        "height": 500,
        "legend": {
         "font": {
          "size": 10
         },
         "title": {
          "text": "Gender"
         },
         "x": 1.05,
         "y": 0.5
        },
        "margin": {
         "b": 20,
         "l": 20,
         "r": 20,
         "t": 60
        },
        "template": {
         "data": {
          "bar": [
           {
            "error_x": {
             "color": "#2a3f5f"
            },
            "error_y": {
             "color": "#2a3f5f"
            },
            "marker": {
             "line": {
              "color": "#E5ECF6",
              "width": 0.5
             },
             "pattern": {
              "fillmode": "overlay",
              "size": 10,
              "solidity": 0.2
             }
            },
            "type": "bar"
           }
          ],
          "barpolar": [
           {
            "marker": {
             "line": {
              "color": "#E5ECF6",
              "width": 0.5
             },
             "pattern": {
              "fillmode": "overlay",
              "size": 10,
              "solidity": 0.2
             }
            },
            "type": "barpolar"
           }
          ],
          "carpet": [
           {
            "aaxis": {
             "endlinecolor": "#2a3f5f",
             "gridcolor": "white",
             "linecolor": "white",
             "minorgridcolor": "white",
             "startlinecolor": "#2a3f5f"
            },
            "baxis": {
             "endlinecolor": "#2a3f5f",
             "gridcolor": "white",
             "linecolor": "white",
             "minorgridcolor": "white",
             "startlinecolor": "#2a3f5f"
            },
            "type": "carpet"
           }
          ],
          "choropleth": [
           {
            "colorbar": {
             "outlinewidth": 0,
             "ticks": ""
            },
            "type": "choropleth"
           }
          ],
          "contour": [
           {
            "colorbar": {
             "outlinewidth": 0,
             "ticks": ""
            },
            "colorscale": [
             [
              0,
              "#0d0887"
             ],
             [
              0.1111111111111111,
              "#46039f"
             ],
             [
              0.2222222222222222,
              "#7201a8"
             ],
             [
              0.3333333333333333,
              "#9c179e"
             ],
             [
              0.4444444444444444,
              "#bd3786"
             ],
             [
              0.5555555555555556,
              "#d8576b"
             ],
             [
              0.6666666666666666,
              "#ed7953"
             ],
             [
              0.7777777777777778,
              "#fb9f3a"
             ],
             [
              0.8888888888888888,
              "#fdca26"
             ],
             [
              1,
              "#f0f921"
             ]
            ],
            "type": "contour"
           }
          ],
          "contourcarpet": [
           {
            "colorbar": {
             "outlinewidth": 0,
             "ticks": ""
            },
            "type": "contourcarpet"
           }
          ],
          "heatmap": [
           {
            "colorbar": {
             "outlinewidth": 0,
             "ticks": ""
            },
            "colorscale": [
             [
              0,
              "#0d0887"
             ],
             [
              0.1111111111111111,
              "#46039f"
             ],
             [
              0.2222222222222222,
              "#7201a8"
             ],
             [
              0.3333333333333333,
              "#9c179e"
             ],
             [
              0.4444444444444444,
              "#bd3786"
             ],
             [
              0.5555555555555556,
              "#d8576b"
             ],
             [
              0.6666666666666666,
              "#ed7953"
             ],
             [
              0.7777777777777778,
              "#fb9f3a"
             ],
             [
              0.8888888888888888,
              "#fdca26"
             ],
             [
              1,
              "#f0f921"
             ]
            ],
            "type": "heatmap"
           }
          ],
          "heatmapgl": [
           {
            "colorbar": {
             "outlinewidth": 0,
             "ticks": ""
            },
            "colorscale": [
             [
              0,
              "#0d0887"
             ],
             [
              0.1111111111111111,
              "#46039f"
             ],
             [
              0.2222222222222222,
              "#7201a8"
             ],
             [
              0.3333333333333333,
              "#9c179e"
             ],
             [
              0.4444444444444444,
              "#bd3786"
             ],
             [
              0.5555555555555556,
              "#d8576b"
             ],
             [
              0.6666666666666666,
              "#ed7953"
             ],
             [
              0.7777777777777778,
              "#fb9f3a"
             ],
             [
              0.8888888888888888,
              "#fdca26"
             ],
             [
              1,
              "#f0f921"
             ]
            ],
            "type": "heatmapgl"
           }
          ],
          "histogram": [
           {
            "marker": {
             "pattern": {
              "fillmode": "overlay",
              "size": 10,
              "solidity": 0.2
             }
            },
            "type": "histogram"
           }
          ],
          "histogram2d": [
           {
            "colorbar": {
             "outlinewidth": 0,
             "ticks": ""
            },
            "colorscale": [
             [
              0,
              "#0d0887"
             ],
             [
              0.1111111111111111,
              "#46039f"
             ],
             [
              0.2222222222222222,
              "#7201a8"
             ],
             [
              0.3333333333333333,
              "#9c179e"
             ],
             [
              0.4444444444444444,
              "#bd3786"
             ],
             [
              0.5555555555555556,
              "#d8576b"
             ],
             [
              0.6666666666666666,
              "#ed7953"
             ],
             [
              0.7777777777777778,
              "#fb9f3a"
             ],
             [
              0.8888888888888888,
              "#fdca26"
             ],
             [
              1,
              "#f0f921"
             ]
            ],
            "type": "histogram2d"
           }
          ],
          "histogram2dcontour": [
           {
            "colorbar": {
             "outlinewidth": 0,
             "ticks": ""
            },
            "colorscale": [
             [
              0,
              "#0d0887"
             ],
             [
              0.1111111111111111,
              "#46039f"
             ],
             [
              0.2222222222222222,
              "#7201a8"
             ],
             [
              0.3333333333333333,
              "#9c179e"
             ],
             [
              0.4444444444444444,
              "#bd3786"
             ],
             [
              0.5555555555555556,
              "#d8576b"
             ],
             [
              0.6666666666666666,
              "#ed7953"
             ],
             [
              0.7777777777777778,
              "#fb9f3a"
             ],
             [
              0.8888888888888888,
              "#fdca26"
             ],
             [
              1,
              "#f0f921"
             ]
            ],
            "type": "histogram2dcontour"
           }
          ],
          "mesh3d": [
           {
            "colorbar": {
             "outlinewidth": 0,
             "ticks": ""
            },
            "type": "mesh3d"
           }
          ],
          "parcoords": [
           {
            "line": {
             "colorbar": {
              "outlinewidth": 0,
              "ticks": ""
             }
            },
            "type": "parcoords"
           }
          ],
          "pie": [
           {
            "automargin": true,
            "type": "pie"
           }
          ],
          "scatter": [
           {
            "fillpattern": {
             "fillmode": "overlay",
             "size": 10,
             "solidity": 0.2
            },
            "type": "scatter"
           }
          ],
          "scatter3d": [
           {
            "line": {
             "colorbar": {
              "outlinewidth": 0,
              "ticks": ""
             }
            },
            "marker": {
             "colorbar": {
              "outlinewidth": 0,
              "ticks": ""
             }
            },
            "type": "scatter3d"
           }
          ],
          "scattercarpet": [
           {
            "marker": {
             "colorbar": {
              "outlinewidth": 0,
              "ticks": ""
             }
            },
            "type": "scattercarpet"
           }
          ],
          "scattergeo": [
           {
            "marker": {
             "colorbar": {
              "outlinewidth": 0,
              "ticks": ""
             }
            },
            "type": "scattergeo"
           }
          ],
          "scattergl": [
           {
            "marker": {
             "colorbar": {
              "outlinewidth": 0,
              "ticks": ""
             }
            },
            "type": "scattergl"
           }
          ],
          "scattermapbox": [
           {
            "marker": {
             "colorbar": {
              "outlinewidth": 0,
              "ticks": ""
             }
            },
            "type": "scattermapbox"
           }
          ],
          "scatterpolar": [
           {
            "marker": {
             "colorbar": {
              "outlinewidth": 0,
              "ticks": ""
             }
            },
            "type": "scatterpolar"
           }
          ],
          "scatterpolargl": [
           {
            "marker": {
             "colorbar": {
              "outlinewidth": 0,
              "ticks": ""
             }
            },
            "type": "scatterpolargl"
           }
          ],
          "scatterternary": [
           {
            "marker": {
             "colorbar": {
              "outlinewidth": 0,
              "ticks": ""
             }
            },
            "type": "scatterternary"
           }
          ],
          "surface": [
           {
            "colorbar": {
             "outlinewidth": 0,
             "ticks": ""
            },
            "colorscale": [
             [
              0,
              "#0d0887"
             ],
             [
              0.1111111111111111,
              "#46039f"
             ],
             [
              0.2222222222222222,
              "#7201a8"
             ],
             [
              0.3333333333333333,
              "#9c179e"
             ],
             [
              0.4444444444444444,
              "#bd3786"
             ],
             [
              0.5555555555555556,
              "#d8576b"
             ],
             [
              0.6666666666666666,
              "#ed7953"
             ],
             [
              0.7777777777777778,
              "#fb9f3a"
             ],
             [
              0.8888888888888888,
              "#fdca26"
             ],
             [
              1,
              "#f0f921"
             ]
            ],
            "type": "surface"
           }
          ],
          "table": [
           {
            "cells": {
             "fill": {
              "color": "#EBF0F8"
             },
             "line": {
              "color": "white"
             }
            },
            "header": {
             "fill": {
              "color": "#C8D4E3"
             },
             "line": {
              "color": "white"
             }
            },
            "type": "table"
           }
          ]
         },
         "layout": {
          "annotationdefaults": {
           "arrowcolor": "#2a3f5f",
           "arrowhead": 0,
           "arrowwidth": 1
          },
          "autotypenumbers": "strict",
          "coloraxis": {
           "colorbar": {
            "outlinewidth": 0,
            "ticks": ""
           }
          },
          "colorscale": {
           "diverging": [
            [
             0,
             "#8e0152"
            ],
            [
             0.1,
             "#c51b7d"
            ],
            [
             0.2,
             "#de77ae"
            ],
            [
             0.3,
             "#f1b6da"
            ],
            [
             0.4,
             "#fde0ef"
            ],
            [
             0.5,
             "#f7f7f7"
            ],
            [
             0.6,
             "#e6f5d0"
            ],
            [
             0.7,
             "#b8e186"
            ],
            [
             0.8,
             "#7fbc41"
            ],
            [
             0.9,
             "#4d9221"
            ],
            [
             1,
             "#276419"
            ]
           ],
           "sequential": [
            [
             0,
             "#0d0887"
            ],
            [
             0.1111111111111111,
             "#46039f"
            ],
            [
             0.2222222222222222,
             "#7201a8"
            ],
            [
             0.3333333333333333,
             "#9c179e"
            ],
            [
             0.4444444444444444,
             "#bd3786"
            ],
            [
             0.5555555555555556,
             "#d8576b"
            ],
            [
             0.6666666666666666,
             "#ed7953"
            ],
            [
             0.7777777777777778,
             "#fb9f3a"
            ],
            [
             0.8888888888888888,
             "#fdca26"
            ],
            [
             1,
             "#f0f921"
            ]
           ],
           "sequentialminus": [
            [
             0,
             "#0d0887"
            ],
            [
             0.1111111111111111,
             "#46039f"
            ],
            [
             0.2222222222222222,
             "#7201a8"
            ],
            [
             0.3333333333333333,
             "#9c179e"
            ],
            [
             0.4444444444444444,
             "#bd3786"
            ],
            [
             0.5555555555555556,
             "#d8576b"
            ],
            [
             0.6666666666666666,
             "#ed7953"
            ],
            [
             0.7777777777777778,
             "#fb9f3a"
            ],
            [
             0.8888888888888888,
             "#fdca26"
            ],
            [
             1,
             "#f0f921"
            ]
           ]
          },
          "colorway": [
           "#636efa",
           "#EF553B",
           "#00cc96",
           "#ab63fa",
           "#FFA15A",
           "#19d3f3",
           "#FF6692",
           "#B6E880",
           "#FF97FF",
           "#FECB52"
          ],
          "font": {
           "color": "#2a3f5f"
          },
          "geo": {
           "bgcolor": "white",
           "lakecolor": "white",
           "landcolor": "#E5ECF6",
           "showlakes": true,
           "showland": true,
           "subunitcolor": "white"
          },
          "hoverlabel": {
           "align": "left"
          },
          "hovermode": "closest",
          "mapbox": {
           "style": "light"
          },
          "paper_bgcolor": "white",
          "plot_bgcolor": "#E5ECF6",
          "polar": {
           "angularaxis": {
            "gridcolor": "white",
            "linecolor": "white",
            "ticks": ""
           },
           "bgcolor": "#E5ECF6",
           "radialaxis": {
            "gridcolor": "white",
            "linecolor": "white",
            "ticks": ""
           }
          },
          "scene": {
           "xaxis": {
            "backgroundcolor": "#E5ECF6",
            "gridcolor": "white",
            "gridwidth": 2,
            "linecolor": "white",
            "showbackground": true,
            "ticks": "",
            "zerolinecolor": "white"
           },
           "yaxis": {
            "backgroundcolor": "#E5ECF6",
            "gridcolor": "white",
            "gridwidth": 2,
            "linecolor": "white",
            "showbackground": true,
            "ticks": "",
            "zerolinecolor": "white"
           },
           "zaxis": {
            "backgroundcolor": "#E5ECF6",
            "gridcolor": "white",
            "gridwidth": 2,
            "linecolor": "white",
            "showbackground": true,
            "ticks": "",
            "zerolinecolor": "white"
           }
          },
          "shapedefaults": {
           "line": {
            "color": "#2a3f5f"
           }
          },
          "ternary": {
           "aaxis": {
            "gridcolor": "white",
            "linecolor": "white",
            "ticks": ""
           },
           "baxis": {
            "gridcolor": "white",
            "linecolor": "white",
            "ticks": ""
           },
           "bgcolor": "#E5ECF6",
           "caxis": {
            "gridcolor": "white",
            "linecolor": "white",
            "ticks": ""
           }
          },
          "title": {
           "x": 0.05
          },
          "xaxis": {
           "automargin": true,
           "gridcolor": "white",
           "linecolor": "white",
           "ticks": "",
           "title": {
            "standoff": 15
           },
           "zerolinecolor": "white",
           "zerolinewidth": 2
          },
          "yaxis": {
           "automargin": true,
           "gridcolor": "white",
           "linecolor": "white",
           "ticks": "",
           "title": {
            "standoff": 15
           },
           "zerolinecolor": "white",
           "zerolinewidth": 2
          }
         }
        },
        "title": {
         "text": "Distribution of Male and Female Characters",
         "x": 0.5
        },
        "width": 700,
        "xaxis": {
         "tickfont": {
          "size": 12
         },
         "tickvals": [
          "Male",
          "Female"
         ],
         "title": {
          "text": "Gender"
         }
        },
        "yaxis": {
         "tickformat": ",",
         "title": {
          "standoff": 10,
          "text": "Number of Characters"
         }
        }
       }
      }
     },
     "metadata": {},
     "output_type": "display_data"
    }
   ],
   "source": [
    " plot_interactive_gender_distribution(bollywood_data, 'actor_gender')"
   ]
  },
  {
   "cell_type": "code",
   "execution_count": 36,
   "id": "2afdfb6e-4ea2-4f6c-a644-916c45fac2ef",
   "metadata": {},
   "outputs": [
    {
     "data": {
      "application/vnd.plotly.v1+json": {
       "config": {
        "plotlyServerURL": "https://plot.ly"
       },
       "data": [
        {
         "branchvalues": "total",
         "customdata": [
          [
           27
          ],
          [
           9
          ],
          [
           7
          ],
          [
           4
          ],
          [
           7
          ],
          [
           14
          ],
          [
           47
          ],
          [
           8
          ],
          [
           25
          ],
          [
           50
          ],
          [
           164
          ],
          [
           29
          ],
          [
           12
          ],
          [
           12
          ],
          [
           8
          ],
          [
           22
          ],
          [
           3
          ],
          [
           24
          ],
          [
           8
          ],
          [
           12
          ],
          [
           11
          ],
          [
           10
          ],
          [
           10
          ],
          [
           3
          ],
          [
           4
          ],
          [
           17
          ],
          [
           273
          ],
          [
           57
          ],
          [
           16
          ],
          [
           6
          ],
          [
           19
          ],
          [
           18
          ],
          [
           20
          ],
          [
           1
          ],
          [
           17
          ],
          [
           24
          ],
          [
           11
          ],
          [
           26
          ],
          [
           3
          ],
          [
           11
          ],
          [
           3
          ],
          [
           17
          ],
          [
           14
          ],
          [
           11
          ],
          [
           24
          ],
          [
           29
          ],
          [
           5
          ],
          [
           29
          ],
          [
           57
          ],
          [
           39
          ],
          [
           68
          ],
          [
           9
          ],
          [
           2108
          ],
          [
           8
          ],
          [
           19
          ],
          [
           6
          ],
          [
           33
          ],
          [
           137
          ],
          [
           4
          ],
          [
           12
          ],
          [
           1
          ],
          [
           74
          ],
          [
           32
          ],
          [
           15
          ],
          [
           28
          ],
          [
           31
          ],
          [
           55
          ],
          [
           18
          ],
          [
           5
          ],
          [
           10
          ],
          [
           13
          ],
          [
           6
          ],
          [
           5
          ],
          [
           50
          ],
          [
           24
          ],
          [
           9
          ],
          [
           8
          ],
          [
           16
          ],
          [
           6
          ],
          [
           6
          ],
          [
           13
          ],
          [
           9
          ],
          [
           101
          ],
          [
           6
          ],
          [
           15
          ],
          [
           10
          ],
          [
           5
          ],
          [
           3
          ],
          [
           6
          ],
          [
           9
          ],
          [
           10
          ],
          [
           16
          ],
          [
           9
          ],
          [
           30
          ],
          [
           12
          ],
          [
           8
          ],
          [
           7
          ],
          [
           3
          ],
          [
           18
          ],
          [
           13
          ],
          [
           10
          ],
          [
           13
          ],
          [
           21
          ],
          [
           10
          ],
          [
           57
          ],
          [
           7
          ],
          [
           15
          ],
          [
           6
          ],
          [
           47
          ],
          [
           14
          ],
          [
           1946
          ],
          [
           4
          ],
          [
           2
          ],
          [
           31
          ],
          [
           22
          ],
          [
           10
          ],
          [
           45
          ],
          [
           2
          ],
          [
           31
          ],
          [
           7
          ],
          [
           15
          ],
          [
           9
          ],
          [
           12
          ],
          [
           33
          ],
          [
           18
          ],
          [
           18
          ],
          [
           14
          ],
          [
           91
          ],
          [
           17
          ],
          [
           11
          ],
          [
           19
          ],
          [
           5
          ],
          [
           9
          ],
          [
           4
          ],
          [
           11
          ],
          [
           17
          ],
          [
           31
          ],
          [
           8
          ],
          [
           11
          ],
          [
           3
          ],
          [
           13
          ],
          [
           17
          ],
          [
           26
          ],
          [
           26
          ],
          [
           8
          ],
          [
           7
          ],
          [
           10684
          ],
          [
           36
          ],
          [
           10
          ],
          [
           220
          ],
          [
           6
          ],
          [
           25
          ],
          [
           20
          ],
          [
           7
          ],
          [
           38
          ],
          [
           8
          ],
          [
           4388
          ],
          [
           5
          ],
          [
           10
          ],
          [
           20
          ],
          [
           12
          ],
          [
           31
          ],
          [
           75
          ],
          [
           5
          ],
          [
           4
          ],
          [
           329
          ],
          [
           89
          ],
          [
           8
          ],
          [
           9
          ],
          [
           5
          ],
          [
           9
          ],
          [
           4
          ],
          [
           7
          ],
          [
           34
          ],
          [
           4
          ],
          [
           5
          ],
          [
           15
          ],
          [
           5
          ],
          [
           5
          ],
          [
           19
          ],
          [
           2
          ],
          [
           1
          ],
          [
           33
          ],
          [
           4
          ],
          [
           8
          ],
          [
           11
          ],
          [
           10
          ],
          [
           2
          ],
          [
           19
          ],
          [
           3
          ],
          [
           40
          ],
          [
           6
          ],
          [
           19
          ],
          [
           45
          ],
          [
           24
          ],
          [
           26
          ],
          [
           16
          ],
          [
           10
          ],
          [
           5
          ],
          [
           12
          ],
          [
           158
          ],
          [
           45
          ],
          [
           217
          ],
          [
           15
          ],
          [
           35
          ],
          [
           61
          ],
          [
           13
          ],
          [
           14
          ],
          [
           32
          ],
          [
           8
          ],
          [
           10
          ],
          [
           27
          ],
          [
           2
          ],
          [
           1
          ],
          [
           56
          ],
          [
           33
          ],
          [
           17
          ],
          [
           6
          ],
          [
           27
          ],
          [
           1412
          ],
          [
           11
          ],
          [
           5
          ],
          [
           47
          ],
          [
           1
          ],
          [
           13
          ],
          [
           8
          ],
          [
           14
          ],
          [
           5
          ],
          [
           15
          ],
          [
           4
          ],
          [
           4
          ],
          [
           61
          ],
          [
           16
          ],
          [
           6
          ],
          [
           13
          ],
          [
           1630
          ]
         ],
         "domain": {
          "x": [
           0,
           1
          ],
          "y": [
           0,
           1
          ]
         },
         "hovertemplate": "labels=%{label}<br>Count_sum=%{value}<br>parent=%{parent}<br>id=%{id}<br>Count=%{color}<extra></extra>",
         "ids": [
          "['Arabic Language', 'German Language', 'English Language', 'Turkish Language']",
          "['Bambara language', 'French Language', 'Fula language']",
          "['Cantonese', 'English Language', 'Standard Mandarin', 'Standard Cantonese']",
          "['Cantonese', 'Korean Language', 'Standard Cantonese']",
          "['Cantonese', 'Mandarin Chinese', 'Standard Mandarin', 'Korean Language']",
          "['Cantonese', 'Shanghainese']",
          "['Cantonese', 'Standard Cantonese']",
          "['Cantonese', 'Standard Mandarin', 'English Language', 'Standard Cantonese']",
          "['Cantonese', 'Standard Mandarin', 'Mandarin Chinese', 'Korean Language']",
          "['Cantonese', 'Standard Mandarin', 'Standard Cantonese']",
          "['Cantonese']",
          "['Chinese language', 'Cantonese']",
          "['Chinese language', 'English Language', 'Standard Mandarin']",
          "['Chinese language', 'English Language']",
          "['Chinese language', 'Japanese Language', 'Russian Language']",
          "['Chinese language', 'Mandarin Chinese', 'Standard Mandarin']",
          "['Chinese language', 'Silent film']",
          "['Chinese language', 'Standard Cantonese', 'English Language', 'Standard Mandarin', 'Cantonese']",
          "['Chinese language', 'Standard Cantonese', 'Standard Mandarin', 'English Language', 'Cantonese']",
          "['Chinese language', 'Standard Mandarin', 'Cantonese']",
          "['Chinese language', 'Standard Mandarin', 'Danish Language']",
          "['Chinese language', 'Standard Mandarin', 'English Language']",
          "['Chinese language', 'Standard Mandarin', 'Mandarin Chinese']",
          "['Chinese language', 'Standard Mandarin', 'Russian Language', 'German Language']",
          "['Chinese language', 'Standard Mandarin', 'Shanghainese']",
          "['Chinese language', 'Standard Mandarin', 'Standard Cantonese']",
          "['Chinese language', 'Standard Mandarin']",
          "['Chinese language']",
          "['Chinese, Jinyu Language', 'Standard Mandarin', 'Southwestern Mandarin']",
          "['Chinese, Jinyu Language', 'Standard Mandarin']",
          "['Cree language', 'English Language']",
          "['Czech Language', 'Italian Language', 'English Language', 'Cantonese', 'Standard Mandarin', 'German Language']",
          "['Czech Language']",
          "['Dari']",
          "['English Language', 'Cantonese', 'Standard Mandarin', 'Hindi Language', 'Japanese Language', 'Shanghainese']",
          "['English Language', 'Cantonese']",
          "['English Language', 'German Language', 'Cantonese']",
          "['English Language', 'German Language']",
          "['English Language', 'Japanese Language', 'Chinese language', 'Standard Mandarin']",
          "['English Language', 'Japanese Language', 'Taiwanese', 'Hokkien', 'Standard Mandarin']",
          "['English Language', 'Malayalam Language', 'Japanese Language', 'Mongolian language', 'Standard Mandarin']",
          "['English Language', 'Mandarin Chinese', 'Chinese language', 'Standard Mandarin', 'Japanese Language', 'Shanghainese']",
          "['English Language', 'Mandarin Chinese', 'Standard Mandarin', 'German Language', 'Cantonese']",
          "['English Language', 'Mandarin Chinese', 'Xhosa Language', 'Afrikaans Language', 'French Language', 'Standard Mandarin']",
          "['English Language', 'Russian Language']",
          "['English Language', 'Spanish Language']",
          "['English Language', 'Standard Cantonese', 'Korean Language', 'Standard Mandarin', 'Cantonese']",
          "['English Language', 'Standard Mandarin', 'Cantonese']",
          "['English Language', 'Standard Mandarin', 'Mandarin Chinese']",
          "['English Language', 'Standard Mandarin', 'Standard Cantonese']",
          "['English Language', 'Standard Mandarin']",
          "['English Language', 'Thai Language']",
          "['English Language']",
          "['Finnish Language', 'Mandarin Chinese', 'Standard Mandarin']",
          "['French Language', 'Arabic Language', 'German Language', 'English Language', 'Cantonese']",
          "['French Language', 'Dutch Language']",
          "['French Language', 'English Language', 'Standard Mandarin']",
          "['French Language', 'English Language']",
          "['French Language', 'German Language']",
          "['French Language', 'Japanese Language', 'Arabic Language', 'English Language', 'Spanish Language']",
          "['French Language', 'Japanese Language', 'Arabic Language', 'English Language']",
          "['French Language', 'Japanese Language', 'English Language']",
          "['French Language', 'Japanese Language', 'German Language', 'English Language']",
          "['French Language', 'Japanese Language', 'Portuguese Language', 'English Language']",
          "['French Language', 'Japanese Language', 'Russian Language', 'English Language', 'Spanish Language']",
          "['French Language', 'Japanese Language']",
          "['French Language', 'Korean Language', 'English Language']",
          "['French Language', 'Korean Language']",
          "['French Language', 'Romani language', 'Arabic Language', 'Spanish Language']",
          "['French Language', 'Russian Language', 'English Language']",
          "['French Language', 'Shanghainese', 'English Language', 'Standard Mandarin', 'Cantonese']",
          "['French Language', 'Spanish Language']",
          "['French Language', 'Taiwanese', 'Standard Mandarin', 'English Language', 'Mandarin Chinese']",
          "['French Language']",
          "['French Sign Language', 'Arabic Language', 'Spanish Language', 'French Language', 'Persian Language', 'Hebrew Language', 'English Language']",
          "['Friulian Language', 'English Language']",
          "['German Language', 'English Language', 'Cantonese']",
          "['German Language', 'English Language']",
          "['German Language', 'Plautdietsch Language']",
          "['German Language', 'Standard Mandarin', 'Standard Cantonese']",
          "['German Language', 'Standard Mandarin']",
          "['Guanzhong Hua', 'Standard Mandarin']",
          "['Hebrew Language', 'English Language']",
          "['Hebrew Language']",
          "['Hindi Language', 'Japanese Language', 'English Language']",
          "['Hindi Language', 'Standard Cantonese', 'English Language', 'Standard Mandarin', 'Cantonese']",
          "['Hindi Language', 'Standard Cantonese', 'Standard Mandarin', 'Cantonese']",
          "['Hindi Language', 'Standard Mandarin', 'English Language', 'Cantonese']",
          "['Hokkien', 'Standard Mandarin']",
          "['Icelandic Language', 'Japanese Language', 'English Language']",
          "['Icelandic Language', 'Japanese Language', 'German Language', 'English Language']",
          "['Indonesian Language']",
          "['Italian Language', 'English Language', 'Standard Mandarin']",
          "['Italian Language', 'English Language']",
          "['Italian Language', 'French Language', 'France', 'English Language', 'Finnish Language', 'German Language']",
          "['Italian Language', 'Standard Mandarin', 'French Language', 'Cantonese', 'English Language', 'Japanese Language']",
          "['Japan', 'Japanese Language']",
          "['Japan']",
          "['Japanese Language', 'Cantonese']",
          "['Japanese Language', 'Chinese language', 'English Language']",
          "['Japanese Language', 'Chinese language', 'Korean Language']",
          "['Japanese Language', 'English Language', 'American English']",
          "['Japanese Language', 'English Language', 'Cantonese']",
          "['Japanese Language', 'English Language', 'German Language']",
          "['Japanese Language', 'English Language', 'Spanish Language']",
          "['Japanese Language', 'English Language', 'Standard Cantonese']",
          "['Japanese Language', 'English Language', 'Standard Mandarin', 'Cantonese']",
          "['Japanese Language', 'English Language', 'Standard Mandarin', 'Mandarin Chinese']",
          "['Japanese Language', 'English Language', 'Standard Mandarin']",
          "['Japanese Language', 'English Language', 'Thai Language']",
          "['Japanese Language', 'English Language']",
          "['Japanese Language', 'Finnish Language', 'English Language']",
          "['Japanese Language', 'Finnish Language']",
          "['Japanese Language', 'German Language', 'English Language']",
          "['Japanese Language', 'German Language', 'Hungarian language']",
          "['Japanese Language', 'German Language', 'Russian Language']",
          "['Japanese Language', 'German Language']",
          "['Japanese Language', 'Italian Language', 'English Language', 'Cantonese']",
          "['Japanese Language', 'Italian Language', 'English Language', 'Spanish Language']",
          "['Japanese Language', 'Italian Language', 'English Language', 'Standard Mandarin', 'Cantonese']",
          "['Japanese Language', 'Italian Language', 'English Language']",
          "['Japanese Language', 'Italian Language', 'German Language', 'English Language', 'Spanish Language']",
          "['Japanese Language', 'Italian Language']",
          "['Japanese Language', 'Korean Language', 'English Language']",
          "['Japanese Language', 'Korean Language', 'Mandarin Chinese']",
          "['Japanese Language', 'Korean Language', 'Russian Language']",
          "['Japanese Language', 'Korean Language', 'Standard Mandarin', 'Cantonese']",
          "['Japanese Language', 'Korean Language']",
          "['Japanese Language', 'Latin Language', 'English Language']",
          "['Japanese Language', 'Mandarin Chinese', 'Standard Mandarin', 'Cantonese']",
          "['Japanese Language', 'Mandarin Chinese', 'Standard Mandarin']",
          "['Japanese Language', 'Portuguese Language', 'Chinese language', 'Standard Mandarin']",
          "['Japanese Language', 'Portuguese Language', 'English Language']",
          "['Japanese Language', 'Portuguese Language']",
          "['Japanese Language', 'Russian Language', 'English Language']",
          "['Japanese Language', 'Russian Language', 'Standard Mandarin', 'English Language', 'Mandarin Chinese']",
          "['Japanese Language', 'Silent film']",
          "['Japanese Language', 'Standard Cantonese', 'English Language', 'Cantonese']",
          "['Japanese Language', 'Standard Cantonese', 'Standard Mandarin', 'Cantonese']",
          "['Japanese Language', 'Standard Cantonese', 'Standard Mandarin', 'English Language', 'Cantonese']",
          "['Japanese Language', 'Standard Mandarin', 'Cantonese']",
          "['Japanese Language', 'Standard Mandarin', 'English Language', 'Mandarin Chinese']",
          "['Japanese Language', 'Standard Mandarin', 'English Language']",
          "['Japanese Language', 'Standard Mandarin']",
          "['Japanese Language', 'Taiwanese', 'Mandarin Chinese', 'Standard Mandarin']",
          "['Japanese Language', 'Taiwanese', 'Standard Mandarin']",
          "['Japanese Language']",
          "['Korean Language', 'Cantonese']",
          "['Korean Language', 'English Language', 'Cantonese']",
          "['Korean Language', 'English Language']",
          "['Korean Language', 'Russian Language']",
          "['Korean Language', 'Standard Mandarin', 'Cantonese']",
          "['Korean Language', 'Standard Mandarin']",
          "['Korean Language', 'Thai Language', 'Cantonese', 'English Language', 'Japanese Language', 'Standard Cantonese']",
          "['Korean Language', 'Thai Language', 'Cantonese', 'Standard Mandarin', 'English Language', 'Standard Cantonese']",
          "['Korean Language', 'Thai Language']",
          "['Korean Language']",
          "['Kurdish language']",
          "['Malayalam Language']",
          "['Mandarin Chinese', 'Cantonese']",
          "['Mandarin Chinese', 'English Language', 'Standard Mandarin', 'Cantonese']",
          "['Mandarin Chinese', 'English Language']",
          "['Mandarin Chinese', 'Standard Mandarin', 'Cantonese']",
          "['Mandarin Chinese', 'Standard Mandarin', 'Shanghainese']",
          "['Mandarin Chinese', 'Standard Mandarin', 'Standard Cantonese']",
          "['Mandarin Chinese', 'Standard Mandarin']",
          "['Mandarin Chinese']",
          "['Min Nan', 'Chinese language', 'Standard Mandarin']",
          "['Min Nan', 'French Language', 'Taiwanese', 'Standard Mandarin']",
          "['Min Nan', 'Taiwanese', 'Chinese, Hakka Language', 'Standard Mandarin', 'Mandarin Chinese']",
          "['Min Nan', 'Taiwanese', 'Mandarin Chinese', 'Standard Mandarin']",
          "['Min Nan', 'Taiwanese', 'Standard Mandarin', 'Mandarin Chinese']",
          "['Mongolian language', 'Korean Language']",
          "['Mongolian language', 'Mandarin Chinese', 'Standard Mandarin']",
          "['Mongolian language']",
          "['Nepali Language']",
          "['Persian Language', 'Dari', 'Russian Language', 'English Language', 'Urdu Language']",
          "['Persian Language', 'Dari']",
          "['Persian Language', 'Standard Mandarin', 'English Language', 'Mandarin Chinese']",
          "['Polish Language', 'Japanese Language']",
          "['Polish Language']",
          "['Portuguese Language']",
          "['Russian Language', 'English Language']",
          "['Russian Language', 'Spanish Language']",
          "['Russian Language']",
          "['Shanxi', 'Chinese, Jinyu Language', 'Russian Language', 'Standard Mandarin']",
          "['Shanxi', 'Standard Mandarin', 'Mandarin Chinese']",
          "['Silent film', 'English Language']",
          "['Silent film', 'Korean Language']",
          "['Silent film', 'Standard Mandarin']",
          "['Silent film']",
          "['Spanish Language', 'French Language', 'Chinese language', 'English Language', 'Japanese Language', 'German Language']",
          "['Spanish Language']",
          "['Standard Cantonese', 'Cantonese']",
          "['Standard Cantonese', 'English Language', 'Cantonese']",
          "['Standard Cantonese', 'English Language', 'Standard Mandarin', 'Cantonese']",
          "['Standard Cantonese', 'Korean Language', 'Standard Mandarin', 'Cantonese']",
          "['Standard Cantonese', 'Mandarin Chinese', 'Cantonese']",
          "['Standard Cantonese', 'Mandarin Chinese', 'English Language', 'Standard Mandarin', 'Cantonese']",
          "['Standard Cantonese', 'Mandarin Chinese', 'Standard Mandarin', 'Cantonese']",
          "['Standard Cantonese', 'Standard Mandarin', 'Cantonese']",
          "['Standard Cantonese', 'Standard Mandarin', 'English Language', 'Cantonese']",
          "['Standard Mandarin', 'Cantonese']",
          "['Standard Mandarin', 'Chinese language', 'Korean Language', 'English Language']",
          "['Standard Mandarin', 'English Language', 'Cantonese']",
          "['Standard Mandarin', 'English Language', 'Mandarin Chinese']",
          "['Standard Mandarin', 'English Language', 'Sanskrit Language', 'Mandarin Chinese']",
          "['Standard Mandarin', 'English Language', 'Standard Cantonese']",
          "['Standard Mandarin', 'English Language']",
          "['Standard Mandarin', 'Hokkien']",
          "['Standard Mandarin', 'Korean Language', 'English Language']",
          "['Standard Mandarin', 'Mandarin Chinese', 'Cantonese', 'English Language', 'Japanese Language', 'Standard Cantonese']",
          "['Standard Mandarin', 'Mandarin Chinese', 'Cantonese']",
          "['Standard Mandarin', 'Mandarin Chinese', 'Spanish Language', 'French Language', 'Hungarian language', 'English Language', 'Finnish Language', 'Russian Language', 'German Language']",
          "['Standard Mandarin', 'Mandarin Chinese']",
          "['Standard Mandarin', 'Shanghainese']",
          "['Standard Mandarin', 'Spanish Language']",
          "['Standard Mandarin', 'Standard Cantonese', 'English Language', 'Russian Language', 'Cantonese']",
          "['Standard Mandarin', 'Standard Cantonese']",
          "['Standard Mandarin']",
          "['Swedish Language', 'Korean Language']",
          "['Swedish Language']",
          "['Tagalog language', 'English Language']",
          "['Tagalog language', 'Filipino language', 'English Language']",
          "['Tagalog language', 'Japanese Language', 'English Language']",
          "['Tagalog language', 'Japanese Language', 'Standard Mandarin', 'English Language', 'Mandarin Chinese']",
          "['Tagalog language', 'Min Nan', 'Filipino language']",
          "['Taiwanese', 'Chinese, Hakka Language', 'Standard Mandarin']",
          "['Taiwanese', 'English Language', 'Mandarin Chinese', 'Cantonese', 'Standard Mandarin', 'Japanese Language']",
          "['Taiwanese', 'Malay Language', 'Bengali Language', 'Standard Mandarin', 'Mandarin Chinese']",
          "['Taiwanese', 'Mandarin Chinese', 'Cantonese', 'Standard Mandarin', 'Japanese Language', 'Standard Cantonese']",
          "['Taiwanese', 'Mandarin Chinese', 'Standard Mandarin']",
          "['Taiwanese', 'Standard Mandarin', 'Mandarin Chinese', 'Min Nan', 'Cantonese', 'Hokkien', 'Japanese Language']",
          "['Tibetan languages', 'Mandarin Chinese', 'Cantonese', 'Standard Tibetan', 'Chinese language', 'Standard Mandarin']",
          "['Vietnamese Language', 'Standard Mandarin', 'Mandarin Chinese']",
          "[]"
         ],
         "labels": [
          "['Arabic Language', 'German Language', 'English Language', 'Turkish Language']",
          "['Bambara language', 'French Language', 'Fula language']",
          "['Cantonese', 'English Language', 'Standard Mandarin', 'Standard Cantonese']",
          "['Cantonese', 'Korean Language', 'Standard Cantonese']",
          "['Cantonese', 'Mandarin Chinese', 'Standard Mandarin', 'Korean Language']",
          "['Cantonese', 'Shanghainese']",
          "['Cantonese', 'Standard Cantonese']",
          "['Cantonese', 'Standard Mandarin', 'English Language', 'Standard Cantonese']",
          "['Cantonese', 'Standard Mandarin', 'Mandarin Chinese', 'Korean Language']",
          "['Cantonese', 'Standard Mandarin', 'Standard Cantonese']",
          "['Cantonese']",
          "['Chinese language', 'Cantonese']",
          "['Chinese language', 'English Language', 'Standard Mandarin']",
          "['Chinese language', 'English Language']",
          "['Chinese language', 'Japanese Language', 'Russian Language']",
          "['Chinese language', 'Mandarin Chinese', 'Standard Mandarin']",
          "['Chinese language', 'Silent film']",
          "['Chinese language', 'Standard Cantonese', 'English Language', 'Standard Mandarin', 'Cantonese']",
          "['Chinese language', 'Standard Cantonese', 'Standard Mandarin', 'English Language', 'Cantonese']",
          "['Chinese language', 'Standard Mandarin', 'Cantonese']",
          "['Chinese language', 'Standard Mandarin', 'Danish Language']",
          "['Chinese language', 'Standard Mandarin', 'English Language']",
          "['Chinese language', 'Standard Mandarin', 'Mandarin Chinese']",
          "['Chinese language', 'Standard Mandarin', 'Russian Language', 'German Language']",
          "['Chinese language', 'Standard Mandarin', 'Shanghainese']",
          "['Chinese language', 'Standard Mandarin', 'Standard Cantonese']",
          "['Chinese language', 'Standard Mandarin']",
          "['Chinese language']",
          "['Chinese, Jinyu Language', 'Standard Mandarin', 'Southwestern Mandarin']",
          "['Chinese, Jinyu Language', 'Standard Mandarin']",
          "['Cree language', 'English Language']",
          "['Czech Language', 'Italian Language', 'English Language', 'Cantonese', 'Standard Mandarin', 'German Language']",
          "['Czech Language']",
          "['Dari']",
          "['English Language', 'Cantonese', 'Standard Mandarin', 'Hindi Language', 'Japanese Language', 'Shanghainese']",
          "['English Language', 'Cantonese']",
          "['English Language', 'German Language', 'Cantonese']",
          "['English Language', 'German Language']",
          "['English Language', 'Japanese Language', 'Chinese language', 'Standard Mandarin']",
          "['English Language', 'Japanese Language', 'Taiwanese', 'Hokkien', 'Standard Mandarin']",
          "['English Language', 'Malayalam Language', 'Japanese Language', 'Mongolian language', 'Standard Mandarin']",
          "['English Language', 'Mandarin Chinese', 'Chinese language', 'Standard Mandarin', 'Japanese Language', 'Shanghainese']",
          "['English Language', 'Mandarin Chinese', 'Standard Mandarin', 'German Language', 'Cantonese']",
          "['English Language', 'Mandarin Chinese', 'Xhosa Language', 'Afrikaans Language', 'French Language', 'Standard Mandarin']",
          "['English Language', 'Russian Language']",
          "['English Language', 'Spanish Language']",
          "['English Language', 'Standard Cantonese', 'Korean Language', 'Standard Mandarin', 'Cantonese']",
          "['English Language', 'Standard Mandarin', 'Cantonese']",
          "['English Language', 'Standard Mandarin', 'Mandarin Chinese']",
          "['English Language', 'Standard Mandarin', 'Standard Cantonese']",
          "['English Language', 'Standard Mandarin']",
          "['English Language', 'Thai Language']",
          "['English Language']",
          "['Finnish Language', 'Mandarin Chinese', 'Standard Mandarin']",
          "['French Language', 'Arabic Language', 'German Language', 'English Language', 'Cantonese']",
          "['French Language', 'Dutch Language']",
          "['French Language', 'English Language', 'Standard Mandarin']",
          "['French Language', 'English Language']",
          "['French Language', 'German Language']",
          "['French Language', 'Japanese Language', 'Arabic Language', 'English Language', 'Spanish Language']",
          "['French Language', 'Japanese Language', 'Arabic Language', 'English Language']",
          "['French Language', 'Japanese Language', 'English Language']",
          "['French Language', 'Japanese Language', 'German Language', 'English Language']",
          "['French Language', 'Japanese Language', 'Portuguese Language', 'English Language']",
          "['French Language', 'Japanese Language', 'Russian Language', 'English Language', 'Spanish Language']",
          "['French Language', 'Japanese Language']",
          "['French Language', 'Korean Language', 'English Language']",
          "['French Language', 'Korean Language']",
          "['French Language', 'Romani language', 'Arabic Language', 'Spanish Language']",
          "['French Language', 'Russian Language', 'English Language']",
          "['French Language', 'Shanghainese', 'English Language', 'Standard Mandarin', 'Cantonese']",
          "['French Language', 'Spanish Language']",
          "['French Language', 'Taiwanese', 'Standard Mandarin', 'English Language', 'Mandarin Chinese']",
          "['French Language']",
          "['French Sign Language', 'Arabic Language', 'Spanish Language', 'French Language', 'Persian Language', 'Hebrew Language', 'English Language']",
          "['Friulian Language', 'English Language']",
          "['German Language', 'English Language', 'Cantonese']",
          "['German Language', 'English Language']",
          "['German Language', 'Plautdietsch Language']",
          "['German Language', 'Standard Mandarin', 'Standard Cantonese']",
          "['German Language', 'Standard Mandarin']",
          "['Guanzhong Hua', 'Standard Mandarin']",
          "['Hebrew Language', 'English Language']",
          "['Hebrew Language']",
          "['Hindi Language', 'Japanese Language', 'English Language']",
          "['Hindi Language', 'Standard Cantonese', 'English Language', 'Standard Mandarin', 'Cantonese']",
          "['Hindi Language', 'Standard Cantonese', 'Standard Mandarin', 'Cantonese']",
          "['Hindi Language', 'Standard Mandarin', 'English Language', 'Cantonese']",
          "['Hokkien', 'Standard Mandarin']",
          "['Icelandic Language', 'Japanese Language', 'English Language']",
          "['Icelandic Language', 'Japanese Language', 'German Language', 'English Language']",
          "['Indonesian Language']",
          "['Italian Language', 'English Language', 'Standard Mandarin']",
          "['Italian Language', 'English Language']",
          "['Italian Language', 'French Language', 'France', 'English Language', 'Finnish Language', 'German Language']",
          "['Italian Language', 'Standard Mandarin', 'French Language', 'Cantonese', 'English Language', 'Japanese Language']",
          "['Japan', 'Japanese Language']",
          "['Japan']",
          "['Japanese Language', 'Cantonese']",
          "['Japanese Language', 'Chinese language', 'English Language']",
          "['Japanese Language', 'Chinese language', 'Korean Language']",
          "['Japanese Language', 'English Language', 'American English']",
          "['Japanese Language', 'English Language', 'Cantonese']",
          "['Japanese Language', 'English Language', 'German Language']",
          "['Japanese Language', 'English Language', 'Spanish Language']",
          "['Japanese Language', 'English Language', 'Standard Cantonese']",
          "['Japanese Language', 'English Language', 'Standard Mandarin', 'Cantonese']",
          "['Japanese Language', 'English Language', 'Standard Mandarin', 'Mandarin Chinese']",
          "['Japanese Language', 'English Language', 'Standard Mandarin']",
          "['Japanese Language', 'English Language', 'Thai Language']",
          "['Japanese Language', 'English Language']",
          "['Japanese Language', 'Finnish Language', 'English Language']",
          "['Japanese Language', 'Finnish Language']",
          "['Japanese Language', 'German Language', 'English Language']",
          "['Japanese Language', 'German Language', 'Hungarian language']",
          "['Japanese Language', 'German Language', 'Russian Language']",
          "['Japanese Language', 'German Language']",
          "['Japanese Language', 'Italian Language', 'English Language', 'Cantonese']",
          "['Japanese Language', 'Italian Language', 'English Language', 'Spanish Language']",
          "['Japanese Language', 'Italian Language', 'English Language', 'Standard Mandarin', 'Cantonese']",
          "['Japanese Language', 'Italian Language', 'English Language']",
          "['Japanese Language', 'Italian Language', 'German Language', 'English Language', 'Spanish Language']",
          "['Japanese Language', 'Italian Language']",
          "['Japanese Language', 'Korean Language', 'English Language']",
          "['Japanese Language', 'Korean Language', 'Mandarin Chinese']",
          "['Japanese Language', 'Korean Language', 'Russian Language']",
          "['Japanese Language', 'Korean Language', 'Standard Mandarin', 'Cantonese']",
          "['Japanese Language', 'Korean Language']",
          "['Japanese Language', 'Latin Language', 'English Language']",
          "['Japanese Language', 'Mandarin Chinese', 'Standard Mandarin', 'Cantonese']",
          "['Japanese Language', 'Mandarin Chinese', 'Standard Mandarin']",
          "['Japanese Language', 'Portuguese Language', 'Chinese language', 'Standard Mandarin']",
          "['Japanese Language', 'Portuguese Language', 'English Language']",
          "['Japanese Language', 'Portuguese Language']",
          "['Japanese Language', 'Russian Language', 'English Language']",
          "['Japanese Language', 'Russian Language', 'Standard Mandarin', 'English Language', 'Mandarin Chinese']",
          "['Japanese Language', 'Silent film']",
          "['Japanese Language', 'Standard Cantonese', 'English Language', 'Cantonese']",
          "['Japanese Language', 'Standard Cantonese', 'Standard Mandarin', 'Cantonese']",
          "['Japanese Language', 'Standard Cantonese', 'Standard Mandarin', 'English Language', 'Cantonese']",
          "['Japanese Language', 'Standard Mandarin', 'Cantonese']",
          "['Japanese Language', 'Standard Mandarin', 'English Language', 'Mandarin Chinese']",
          "['Japanese Language', 'Standard Mandarin', 'English Language']",
          "['Japanese Language', 'Standard Mandarin']",
          "['Japanese Language', 'Taiwanese', 'Mandarin Chinese', 'Standard Mandarin']",
          "['Japanese Language', 'Taiwanese', 'Standard Mandarin']",
          "['Japanese Language']",
          "['Korean Language', 'Cantonese']",
          "['Korean Language', 'English Language', 'Cantonese']",
          "['Korean Language', 'English Language']",
          "['Korean Language', 'Russian Language']",
          "['Korean Language', 'Standard Mandarin', 'Cantonese']",
          "['Korean Language', 'Standard Mandarin']",
          "['Korean Language', 'Thai Language', 'Cantonese', 'English Language', 'Japanese Language', 'Standard Cantonese']",
          "['Korean Language', 'Thai Language', 'Cantonese', 'Standard Mandarin', 'English Language', 'Standard Cantonese']",
          "['Korean Language', 'Thai Language']",
          "['Korean Language']",
          "['Kurdish language']",
          "['Malayalam Language']",
          "['Mandarin Chinese', 'Cantonese']",
          "['Mandarin Chinese', 'English Language', 'Standard Mandarin', 'Cantonese']",
          "['Mandarin Chinese', 'English Language']",
          "['Mandarin Chinese', 'Standard Mandarin', 'Cantonese']",
          "['Mandarin Chinese', 'Standard Mandarin', 'Shanghainese']",
          "['Mandarin Chinese', 'Standard Mandarin', 'Standard Cantonese']",
          "['Mandarin Chinese', 'Standard Mandarin']",
          "['Mandarin Chinese']",
          "['Min Nan', 'Chinese language', 'Standard Mandarin']",
          "['Min Nan', 'French Language', 'Taiwanese', 'Standard Mandarin']",
          "['Min Nan', 'Taiwanese', 'Chinese, Hakka Language', 'Standard Mandarin', 'Mandarin Chinese']",
          "['Min Nan', 'Taiwanese', 'Mandarin Chinese', 'Standard Mandarin']",
          "['Min Nan', 'Taiwanese', 'Standard Mandarin', 'Mandarin Chinese']",
          "['Mongolian language', 'Korean Language']",
          "['Mongolian language', 'Mandarin Chinese', 'Standard Mandarin']",
          "['Mongolian language']",
          "['Nepali Language']",
          "['Persian Language', 'Dari', 'Russian Language', 'English Language', 'Urdu Language']",
          "['Persian Language', 'Dari']",
          "['Persian Language', 'Standard Mandarin', 'English Language', 'Mandarin Chinese']",
          "['Polish Language', 'Japanese Language']",
          "['Polish Language']",
          "['Portuguese Language']",
          "['Russian Language', 'English Language']",
          "['Russian Language', 'Spanish Language']",
          "['Russian Language']",
          "['Shanxi', 'Chinese, Jinyu Language', 'Russian Language', 'Standard Mandarin']",
          "['Shanxi', 'Standard Mandarin', 'Mandarin Chinese']",
          "['Silent film', 'English Language']",
          "['Silent film', 'Korean Language']",
          "['Silent film', 'Standard Mandarin']",
          "['Silent film']",
          "['Spanish Language', 'French Language', 'Chinese language', 'English Language', 'Japanese Language', 'German Language']",
          "['Spanish Language']",
          "['Standard Cantonese', 'Cantonese']",
          "['Standard Cantonese', 'English Language', 'Cantonese']",
          "['Standard Cantonese', 'English Language', 'Standard Mandarin', 'Cantonese']",
          "['Standard Cantonese', 'Korean Language', 'Standard Mandarin', 'Cantonese']",
          "['Standard Cantonese', 'Mandarin Chinese', 'Cantonese']",
          "['Standard Cantonese', 'Mandarin Chinese', 'English Language', 'Standard Mandarin', 'Cantonese']",
          "['Standard Cantonese', 'Mandarin Chinese', 'Standard Mandarin', 'Cantonese']",
          "['Standard Cantonese', 'Standard Mandarin', 'Cantonese']",
          "['Standard Cantonese', 'Standard Mandarin', 'English Language', 'Cantonese']",
          "['Standard Mandarin', 'Cantonese']",
          "['Standard Mandarin', 'Chinese language', 'Korean Language', 'English Language']",
          "['Standard Mandarin', 'English Language', 'Cantonese']",
          "['Standard Mandarin', 'English Language', 'Mandarin Chinese']",
          "['Standard Mandarin', 'English Language', 'Sanskrit Language', 'Mandarin Chinese']",
          "['Standard Mandarin', 'English Language', 'Standard Cantonese']",
          "['Standard Mandarin', 'English Language']",
          "['Standard Mandarin', 'Hokkien']",
          "['Standard Mandarin', 'Korean Language', 'English Language']",
          "['Standard Mandarin', 'Mandarin Chinese', 'Cantonese', 'English Language', 'Japanese Language', 'Standard Cantonese']",
          "['Standard Mandarin', 'Mandarin Chinese', 'Cantonese']",
          "['Standard Mandarin', 'Mandarin Chinese', 'Spanish Language', 'French Language', 'Hungarian language', 'English Language', 'Finnish Language', 'Russian Language', 'German Language']",
          "['Standard Mandarin', 'Mandarin Chinese']",
          "['Standard Mandarin', 'Shanghainese']",
          "['Standard Mandarin', 'Spanish Language']",
          "['Standard Mandarin', 'Standard Cantonese', 'English Language', 'Russian Language', 'Cantonese']",
          "['Standard Mandarin', 'Standard Cantonese']",
          "['Standard Mandarin']",
          "['Swedish Language', 'Korean Language']",
          "['Swedish Language']",
          "['Tagalog language', 'English Language']",
          "['Tagalog language', 'Filipino language', 'English Language']",
          "['Tagalog language', 'Japanese Language', 'English Language']",
          "['Tagalog language', 'Japanese Language', 'Standard Mandarin', 'English Language', 'Mandarin Chinese']",
          "['Tagalog language', 'Min Nan', 'Filipino language']",
          "['Taiwanese', 'Chinese, Hakka Language', 'Standard Mandarin']",
          "['Taiwanese', 'English Language', 'Mandarin Chinese', 'Cantonese', 'Standard Mandarin', 'Japanese Language']",
          "['Taiwanese', 'Malay Language', 'Bengali Language', 'Standard Mandarin', 'Mandarin Chinese']",
          "['Taiwanese', 'Mandarin Chinese', 'Cantonese', 'Standard Mandarin', 'Japanese Language', 'Standard Cantonese']",
          "['Taiwanese', 'Mandarin Chinese', 'Standard Mandarin']",
          "['Taiwanese', 'Standard Mandarin', 'Mandarin Chinese', 'Min Nan', 'Cantonese', 'Hokkien', 'Japanese Language']",
          "['Tibetan languages', 'Mandarin Chinese', 'Cantonese', 'Standard Tibetan', 'Chinese language', 'Standard Mandarin']",
          "['Vietnamese Language', 'Standard Mandarin', 'Mandarin Chinese']",
          "[]"
         ],
         "marker": {
          "coloraxis": "coloraxis",
          "colors": [
           27,
           9,
           7,
           4,
           7,
           14,
           47,
           8,
           25,
           50,
           164,
           29,
           12,
           12,
           8,
           22,
           3,
           24,
           8,
           12,
           11,
           10,
           10,
           3,
           4,
           17,
           273,
           57,
           16,
           6,
           19,
           18,
           20,
           1,
           17,
           24,
           11,
           26,
           3,
           11,
           3,
           17,
           14,
           11,
           24,
           29,
           5,
           29,
           57,
           39,
           68,
           9,
           2108,
           8,
           19,
           6,
           33,
           137,
           4,
           12,
           1,
           74,
           32,
           15,
           28,
           31,
           55,
           18,
           5,
           10,
           13,
           6,
           5,
           50,
           24,
           9,
           8,
           16,
           6,
           6,
           13,
           9,
           101,
           6,
           15,
           10,
           5,
           3,
           6,
           9,
           10,
           16,
           9,
           30,
           12,
           8,
           7,
           3,
           18,
           13,
           10,
           13,
           21,
           10,
           57,
           7,
           15,
           6,
           47,
           14,
           1946,
           4,
           2,
           31,
           22,
           10,
           45,
           2,
           31,
           7,
           15,
           9,
           12,
           33,
           18,
           18,
           14,
           91,
           17,
           11,
           19,
           5,
           9,
           4,
           11,
           17,
           31,
           8,
           11,
           3,
           13,
           17,
           26,
           26,
           8,
           7,
           10684,
           36,
           10,
           220,
           6,
           25,
           20,
           7,
           38,
           8,
           4388,
           5,
           10,
           20,
           12,
           31,
           75,
           5,
           4,
           329,
           89,
           8,
           9,
           5,
           9,
           4,
           7,
           34,
           4,
           5,
           15,
           5,
           5,
           19,
           2,
           1,
           33,
           4,
           8,
           11,
           10,
           2,
           19,
           3,
           40,
           6,
           19,
           45,
           24,
           26,
           16,
           10,
           5,
           12,
           158,
           45,
           217,
           15,
           35,
           61,
           13,
           14,
           32,
           8,
           10,
           27,
           2,
           1,
           56,
           33,
           17,
           6,
           27,
           1412,
           11,
           5,
           47,
           1,
           13,
           8,
           14,
           5,
           15,
           4,
           4,
           61,
           16,
           6,
           13,
           1630
          ]
         },
         "name": "",
         "parents": [
          "",
          "",
          "",
          "",
          "",
          "",
          "",
          "",
          "",
          "",
          "",
          "",
          "",
          "",
          "",
          "",
          "",
          "",
          "",
          "",
          "",
          "",
          "",
          "",
          "",
          "",
          "",
          "",
          "",
          "",
          "",
          "",
          "",
          "",
          "",
          "",
          "",
          "",
          "",
          "",
          "",
          "",
          "",
          "",
          "",
          "",
          "",
          "",
          "",
          "",
          "",
          "",
          "",
          "",
          "",
          "",
          "",
          "",
          "",
          "",
          "",
          "",
          "",
          "",
          "",
          "",
          "",
          "",
          "",
          "",
          "",
          "",
          "",
          "",
          "",
          "",
          "",
          "",
          "",
          "",
          "",
          "",
          "",
          "",
          "",
          "",
          "",
          "",
          "",
          "",
          "",
          "",
          "",
          "",
          "",
          "",
          "",
          "",
          "",
          "",
          "",
          "",
          "",
          "",
          "",
          "",
          "",
          "",
          "",
          "",
          "",
          "",
          "",
          "",
          "",
          "",
          "",
          "",
          "",
          "",
          "",
          "",
          "",
          "",
          "",
          "",
          "",
          "",
          "",
          "",
          "",
          "",
          "",
          "",
          "",
          "",
          "",
          "",
          "",
          "",
          "",
          "",
          "",
          "",
          "",
          "",
          "",
          "",
          "",
          "",
          "",
          "",
          "",
          "",
          "",
          "",
          "",
          "",
          "",
          "",
          "",
          "",
          "",
          "",
          "",
          "",
          "",
          "",
          "",
          "",
          "",
          "",
          "",
          "",
          "",
          "",
          "",
          "",
          "",
          "",
          "",
          "",
          "",
          "",
          "",
          "",
          "",
          "",
          "",
          "",
          "",
          "",
          "",
          "",
          "",
          "",
          "",
          "",
          "",
          "",
          "",
          "",
          "",
          "",
          "",
          "",
          "",
          "",
          "",
          "",
          "",
          "",
          "",
          "",
          "",
          "",
          "",
          "",
          "",
          "",
          "",
          "",
          "",
          "",
          "",
          "",
          "",
          "",
          "",
          "",
          "",
          "",
          "",
          "",
          "",
          ""
         ],
         "type": "treemap",
         "values": [
          27,
          9,
          7,
          4,
          7,
          14,
          47,
          8,
          25,
          50,
          164,
          29,
          12,
          12,
          8,
          22,
          3,
          24,
          8,
          12,
          11,
          10,
          10,
          3,
          4,
          17,
          273,
          57,
          16,
          6,
          19,
          18,
          20,
          1,
          17,
          24,
          11,
          26,
          3,
          11,
          3,
          17,
          14,
          11,
          24,
          29,
          5,
          29,
          57,
          39,
          68,
          9,
          2108,
          8,
          19,
          6,
          33,
          137,
          4,
          12,
          1,
          74,
          32,
          15,
          28,
          31,
          55,
          18,
          5,
          10,
          13,
          6,
          5,
          50,
          24,
          9,
          8,
          16,
          6,
          6,
          13,
          9,
          101,
          6,
          15,
          10,
          5,
          3,
          6,
          9,
          10,
          16,
          9,
          30,
          12,
          8,
          7,
          3,
          18,
          13,
          10,
          13,
          21,
          10,
          57,
          7,
          15,
          6,
          47,
          14,
          1946,
          4,
          2,
          31,
          22,
          10,
          45,
          2,
          31,
          7,
          15,
          9,
          12,
          33,
          18,
          18,
          14,
          91,
          17,
          11,
          19,
          5,
          9,
          4,
          11,
          17,
          31,
          8,
          11,
          3,
          13,
          17,
          26,
          26,
          8,
          7,
          10684,
          36,
          10,
          220,
          6,
          25,
          20,
          7,
          38,
          8,
          4388,
          5,
          10,
          20,
          12,
          31,
          75,
          5,
          4,
          329,
          89,
          8,
          9,
          5,
          9,
          4,
          7,
          34,
          4,
          5,
          15,
          5,
          5,
          19,
          2,
          1,
          33,
          4,
          8,
          11,
          10,
          2,
          19,
          3,
          40,
          6,
          19,
          45,
          24,
          26,
          16,
          10,
          5,
          12,
          158,
          45,
          217,
          15,
          35,
          61,
          13,
          14,
          32,
          8,
          10,
          27,
          2,
          1,
          56,
          33,
          17,
          6,
          27,
          1412,
          11,
          5,
          47,
          1,
          13,
          8,
          14,
          5,
          15,
          4,
          4,
          61,
          16,
          6,
          13,
          1630
         ]
        }
       ],
       "layout": {
        "coloraxis": {
         "colorbar": {
          "title": {
           "text": "Number of Movies"
          }
         },
         "colorscale": [
          [
           0,
           "rgb(103,0,31)"
          ],
          [
           0.1,
           "rgb(178,24,43)"
          ],
          [
           0.2,
           "rgb(214,96,77)"
          ],
          [
           0.3,
           "rgb(244,165,130)"
          ],
          [
           0.4,
           "rgb(253,219,199)"
          ],
          [
           0.5,
           "rgb(247,247,247)"
          ],
          [
           0.6,
           "rgb(209,229,240)"
          ],
          [
           0.7,
           "rgb(146,197,222)"
          ],
          [
           0.8,
           "rgb(67,147,195)"
          ],
          [
           0.9,
           "rgb(33,102,172)"
          ],
          [
           1,
           "rgb(5,48,97)"
          ]
         ]
        },
        "legend": {
         "tracegroupgap": 0
        },
        "margin": {
         "b": 20,
         "l": 20,
         "r": 20,
         "t": 60
        },
        "template": {
         "data": {
          "bar": [
           {
            "error_x": {
             "color": "#2a3f5f"
            },
            "error_y": {
             "color": "#2a3f5f"
            },
            "marker": {
             "line": {
              "color": "#E5ECF6",
              "width": 0.5
             },
             "pattern": {
              "fillmode": "overlay",
              "size": 10,
              "solidity": 0.2
             }
            },
            "type": "bar"
           }
          ],
          "barpolar": [
           {
            "marker": {
             "line": {
              "color": "#E5ECF6",
              "width": 0.5
             },
             "pattern": {
              "fillmode": "overlay",
              "size": 10,
              "solidity": 0.2
             }
            },
            "type": "barpolar"
           }
          ],
          "carpet": [
           {
            "aaxis": {
             "endlinecolor": "#2a3f5f",
             "gridcolor": "white",
             "linecolor": "white",
             "minorgridcolor": "white",
             "startlinecolor": "#2a3f5f"
            },
            "baxis": {
             "endlinecolor": "#2a3f5f",
             "gridcolor": "white",
             "linecolor": "white",
             "minorgridcolor": "white",
             "startlinecolor": "#2a3f5f"
            },
            "type": "carpet"
           }
          ],
          "choropleth": [
           {
            "colorbar": {
             "outlinewidth": 0,
             "ticks": ""
            },
            "type": "choropleth"
           }
          ],
          "contour": [
           {
            "colorbar": {
             "outlinewidth": 0,
             "ticks": ""
            },
            "colorscale": [
             [
              0,
              "#0d0887"
             ],
             [
              0.1111111111111111,
              "#46039f"
             ],
             [
              0.2222222222222222,
              "#7201a8"
             ],
             [
              0.3333333333333333,
              "#9c179e"
             ],
             [
              0.4444444444444444,
              "#bd3786"
             ],
             [
              0.5555555555555556,
              "#d8576b"
             ],
             [
              0.6666666666666666,
              "#ed7953"
             ],
             [
              0.7777777777777778,
              "#fb9f3a"
             ],
             [
              0.8888888888888888,
              "#fdca26"
             ],
             [
              1,
              "#f0f921"
             ]
            ],
            "type": "contour"
           }
          ],
          "contourcarpet": [
           {
            "colorbar": {
             "outlinewidth": 0,
             "ticks": ""
            },
            "type": "contourcarpet"
           }
          ],
          "heatmap": [
           {
            "colorbar": {
             "outlinewidth": 0,
             "ticks": ""
            },
            "colorscale": [
             [
              0,
              "#0d0887"
             ],
             [
              0.1111111111111111,
              "#46039f"
             ],
             [
              0.2222222222222222,
              "#7201a8"
             ],
             [
              0.3333333333333333,
              "#9c179e"
             ],
             [
              0.4444444444444444,
              "#bd3786"
             ],
             [
              0.5555555555555556,
              "#d8576b"
             ],
             [
              0.6666666666666666,
              "#ed7953"
             ],
             [
              0.7777777777777778,
              "#fb9f3a"
             ],
             [
              0.8888888888888888,
              "#fdca26"
             ],
             [
              1,
              "#f0f921"
             ]
            ],
            "type": "heatmap"
           }
          ],
          "heatmapgl": [
           {
            "colorbar": {
             "outlinewidth": 0,
             "ticks": ""
            },
            "colorscale": [
             [
              0,
              "#0d0887"
             ],
             [
              0.1111111111111111,
              "#46039f"
             ],
             [
              0.2222222222222222,
              "#7201a8"
             ],
             [
              0.3333333333333333,
              "#9c179e"
             ],
             [
              0.4444444444444444,
              "#bd3786"
             ],
             [
              0.5555555555555556,
              "#d8576b"
             ],
             [
              0.6666666666666666,
              "#ed7953"
             ],
             [
              0.7777777777777778,
              "#fb9f3a"
             ],
             [
              0.8888888888888888,
              "#fdca26"
             ],
             [
              1,
              "#f0f921"
             ]
            ],
            "type": "heatmapgl"
           }
          ],
          "histogram": [
           {
            "marker": {
             "pattern": {
              "fillmode": "overlay",
              "size": 10,
              "solidity": 0.2
             }
            },
            "type": "histogram"
           }
          ],
          "histogram2d": [
           {
            "colorbar": {
             "outlinewidth": 0,
             "ticks": ""
            },
            "colorscale": [
             [
              0,
              "#0d0887"
             ],
             [
              0.1111111111111111,
              "#46039f"
             ],
             [
              0.2222222222222222,
              "#7201a8"
             ],
             [
              0.3333333333333333,
              "#9c179e"
             ],
             [
              0.4444444444444444,
              "#bd3786"
             ],
             [
              0.5555555555555556,
              "#d8576b"
             ],
             [
              0.6666666666666666,
              "#ed7953"
             ],
             [
              0.7777777777777778,
              "#fb9f3a"
             ],
             [
              0.8888888888888888,
              "#fdca26"
             ],
             [
              1,
              "#f0f921"
             ]
            ],
            "type": "histogram2d"
           }
          ],
          "histogram2dcontour": [
           {
            "colorbar": {
             "outlinewidth": 0,
             "ticks": ""
            },
            "colorscale": [
             [
              0,
              "#0d0887"
             ],
             [
              0.1111111111111111,
              "#46039f"
             ],
             [
              0.2222222222222222,
              "#7201a8"
             ],
             [
              0.3333333333333333,
              "#9c179e"
             ],
             [
              0.4444444444444444,
              "#bd3786"
             ],
             [
              0.5555555555555556,
              "#d8576b"
             ],
             [
              0.6666666666666666,
              "#ed7953"
             ],
             [
              0.7777777777777778,
              "#fb9f3a"
             ],
             [
              0.8888888888888888,
              "#fdca26"
             ],
             [
              1,
              "#f0f921"
             ]
            ],
            "type": "histogram2dcontour"
           }
          ],
          "mesh3d": [
           {
            "colorbar": {
             "outlinewidth": 0,
             "ticks": ""
            },
            "type": "mesh3d"
           }
          ],
          "parcoords": [
           {
            "line": {
             "colorbar": {
              "outlinewidth": 0,
              "ticks": ""
             }
            },
            "type": "parcoords"
           }
          ],
          "pie": [
           {
            "automargin": true,
            "type": "pie"
           }
          ],
          "scatter": [
           {
            "fillpattern": {
             "fillmode": "overlay",
             "size": 10,
             "solidity": 0.2
            },
            "type": "scatter"
           }
          ],
          "scatter3d": [
           {
            "line": {
             "colorbar": {
              "outlinewidth": 0,
              "ticks": ""
             }
            },
            "marker": {
             "colorbar": {
              "outlinewidth": 0,
              "ticks": ""
             }
            },
            "type": "scatter3d"
           }
          ],
          "scattercarpet": [
           {
            "marker": {
             "colorbar": {
              "outlinewidth": 0,
              "ticks": ""
             }
            },
            "type": "scattercarpet"
           }
          ],
          "scattergeo": [
           {
            "marker": {
             "colorbar": {
              "outlinewidth": 0,
              "ticks": ""
             }
            },
            "type": "scattergeo"
           }
          ],
          "scattergl": [
           {
            "marker": {
             "colorbar": {
              "outlinewidth": 0,
              "ticks": ""
             }
            },
            "type": "scattergl"
           }
          ],
          "scattermapbox": [
           {
            "marker": {
             "colorbar": {
              "outlinewidth": 0,
              "ticks": ""
             }
            },
            "type": "scattermapbox"
           }
          ],
          "scatterpolar": [
           {
            "marker": {
             "colorbar": {
              "outlinewidth": 0,
              "ticks": ""
             }
            },
            "type": "scatterpolar"
           }
          ],
          "scatterpolargl": [
           {
            "marker": {
             "colorbar": {
              "outlinewidth": 0,
              "ticks": ""
             }
            },
            "type": "scatterpolargl"
           }
          ],
          "scatterternary": [
           {
            "marker": {
             "colorbar": {
              "outlinewidth": 0,
              "ticks": ""
             }
            },
            "type": "scatterternary"
           }
          ],
          "surface": [
           {
            "colorbar": {
             "outlinewidth": 0,
             "ticks": ""
            },
            "colorscale": [
             [
              0,
              "#0d0887"
             ],
             [
              0.1111111111111111,
              "#46039f"
             ],
             [
              0.2222222222222222,
              "#7201a8"
             ],
             [
              0.3333333333333333,
              "#9c179e"
             ],
             [
              0.4444444444444444,
              "#bd3786"
             ],
             [
              0.5555555555555556,
              "#d8576b"
             ],
             [
              0.6666666666666666,
              "#ed7953"
             ],
             [
              0.7777777777777778,
              "#fb9f3a"
             ],
             [
              0.8888888888888888,
              "#fdca26"
             ],
             [
              1,
              "#f0f921"
             ]
            ],
            "type": "surface"
           }
          ],
          "table": [
           {
            "cells": {
             "fill": {
              "color": "#EBF0F8"
             },
             "line": {
              "color": "white"
             }
            },
            "header": {
             "fill": {
              "color": "#C8D4E3"
             },
             "line": {
              "color": "white"
             }
            },
            "type": "table"
           }
          ]
         },
         "layout": {
          "annotationdefaults": {
           "arrowcolor": "#2a3f5f",
           "arrowhead": 0,
           "arrowwidth": 1
          },
          "autotypenumbers": "strict",
          "coloraxis": {
           "colorbar": {
            "outlinewidth": 0,
            "ticks": ""
           }
          },
          "colorscale": {
           "diverging": [
            [
             0,
             "#8e0152"
            ],
            [
             0.1,
             "#c51b7d"
            ],
            [
             0.2,
             "#de77ae"
            ],
            [
             0.3,
             "#f1b6da"
            ],
            [
             0.4,
             "#fde0ef"
            ],
            [
             0.5,
             "#f7f7f7"
            ],
            [
             0.6,
             "#e6f5d0"
            ],
            [
             0.7,
             "#b8e186"
            ],
            [
             0.8,
             "#7fbc41"
            ],
            [
             0.9,
             "#4d9221"
            ],
            [
             1,
             "#276419"
            ]
           ],
           "sequential": [
            [
             0,
             "#0d0887"
            ],
            [
             0.1111111111111111,
             "#46039f"
            ],
            [
             0.2222222222222222,
             "#7201a8"
            ],
            [
             0.3333333333333333,
             "#9c179e"
            ],
            [
             0.4444444444444444,
             "#bd3786"
            ],
            [
             0.5555555555555556,
             "#d8576b"
            ],
            [
             0.6666666666666666,
             "#ed7953"
            ],
            [
             0.7777777777777778,
             "#fb9f3a"
            ],
            [
             0.8888888888888888,
             "#fdca26"
            ],
            [
             1,
             "#f0f921"
            ]
           ],
           "sequentialminus": [
            [
             0,
             "#0d0887"
            ],
            [
             0.1111111111111111,
             "#46039f"
            ],
            [
             0.2222222222222222,
             "#7201a8"
            ],
            [
             0.3333333333333333,
             "#9c179e"
            ],
            [
             0.4444444444444444,
             "#bd3786"
            ],
            [
             0.5555555555555556,
             "#d8576b"
            ],
            [
             0.6666666666666666,
             "#ed7953"
            ],
            [
             0.7777777777777778,
             "#fb9f3a"
            ],
            [
             0.8888888888888888,
             "#fdca26"
            ],
            [
             1,
             "#f0f921"
            ]
           ]
          },
          "colorway": [
           "#636efa",
           "#EF553B",
           "#00cc96",
           "#ab63fa",
           "#FFA15A",
           "#19d3f3",
           "#FF6692",
           "#B6E880",
           "#FF97FF",
           "#FECB52"
          ],
          "font": {
           "color": "#2a3f5f"
          },
          "geo": {
           "bgcolor": "white",
           "lakecolor": "white",
           "landcolor": "#E5ECF6",
           "showlakes": true,
           "showland": true,
           "subunitcolor": "white"
          },
          "hoverlabel": {
           "align": "left"
          },
          "hovermode": "closest",
          "mapbox": {
           "style": "light"
          },
          "paper_bgcolor": "white",
          "plot_bgcolor": "#E5ECF6",
          "polar": {
           "angularaxis": {
            "gridcolor": "white",
            "linecolor": "white",
            "ticks": ""
           },
           "bgcolor": "#E5ECF6",
           "radialaxis": {
            "gridcolor": "white",
            "linecolor": "white",
            "ticks": ""
           }
          },
          "scene": {
           "xaxis": {
            "backgroundcolor": "#E5ECF6",
            "gridcolor": "white",
            "gridwidth": 2,
            "linecolor": "white",
            "showbackground": true,
            "ticks": "",
            "zerolinecolor": "white"
           },
           "yaxis": {
            "backgroundcolor": "#E5ECF6",
            "gridcolor": "white",
            "gridwidth": 2,
            "linecolor": "white",
            "showbackground": true,
            "ticks": "",
            "zerolinecolor": "white"
           },
           "zaxis": {
            "backgroundcolor": "#E5ECF6",
            "gridcolor": "white",
            "gridwidth": 2,
            "linecolor": "white",
            "showbackground": true,
            "ticks": "",
            "zerolinecolor": "white"
           }
          },
          "shapedefaults": {
           "line": {
            "color": "#2a3f5f"
           }
          },
          "ternary": {
           "aaxis": {
            "gridcolor": "white",
            "linecolor": "white",
            "ticks": ""
           },
           "baxis": {
            "gridcolor": "white",
            "linecolor": "white",
            "ticks": ""
           },
           "bgcolor": "#E5ECF6",
           "caxis": {
            "gridcolor": "white",
            "linecolor": "white",
            "ticks": ""
           }
          },
          "title": {
           "x": 0.05
          },
          "xaxis": {
           "automargin": true,
           "gridcolor": "white",
           "linecolor": "white",
           "ticks": "",
           "title": {
            "standoff": 15
           },
           "zerolinecolor": "white",
           "zerolinewidth": 2
          },
          "yaxis": {
           "automargin": true,
           "gridcolor": "white",
           "linecolor": "white",
           "ticks": "",
           "title": {
            "standoff": 15
           },
           "zerolinecolor": "white",
           "zerolinewidth": 2
          }
         }
        },
        "title": {
         "text": "Language Representation in Movies",
         "x": 0.5
        }
       }
      }
     },
     "metadata": {},
     "output_type": "display_data"
    }
   ],
   "source": [
    "plot_interactive_language_treemap(eastasia_data, 'languages')"
   ]
  },
  {
   "cell_type": "code",
   "execution_count": 37,
   "id": "f22d0264-988a-4b4d-a382-b6cf6410fc83",
   "metadata": {},
   "outputs": [
    {
     "data": {
      "application/vnd.plotly.v1+json": {
       "config": {
        "plotlyServerURL": "https://plot.ly"
       },
       "data": [
        {
         "coloraxis": "coloraxis",
         "histfunc": "sum",
         "hovertemplate": "actor_ethnicity_label=%{x}<br>main_genre=%{y}<br>sum of Count=%{z}<extra></extra>",
         "name": "",
         "type": "histogram2d",
         "x": [
          "Chinese Americans",
          "Chinese Canadians",
          "Chinese Singaporeans",
          "Hongkongers",
          "Japanese Americans",
          "Koreans",
          "Taiwanese people",
          "Chinese Americans",
          "Chinese Singaporeans",
          "Hongkongers",
          "Japanese Americans",
          "Koreans",
          "Taiwanese people",
          "Chinese Americans",
          "Chinese Canadians",
          "Chinese Singaporeans",
          "Hongkongers",
          "Japanese Americans",
          "Koreans",
          "Taiwanese people",
          "Chinese Americans",
          "Hongkongers",
          "Japanese Americans",
          "Koreans",
          "Chinese Americans",
          "Chinese Singaporeans",
          "Hongkongers",
          "Japanese Americans",
          "Koreans",
          "Taiwanese people",
          "Koreans",
          "Chinese Americans",
          "Chinese Canadians",
          "Koreans",
          "Taiwanese people",
          "Chinese Americans",
          "Chinese Singaporeans",
          "Hongkongers",
          "Japanese Americans",
          "Koreans",
          "Taiwanese people",
          "Koreans",
          "Chinese Americans",
          "Chinese Singaporeans",
          "Hongkongers",
          "Japanese Americans",
          "Koreans"
         ],
         "xaxis": "x",
         "xbingroup": "x",
         "y": [
          "Action/Adventure",
          "Action/Adventure",
          "Action/Adventure",
          "Action/Adventure",
          "Action/Adventure",
          "Action/Adventure",
          "Action/Adventure",
          "Animation/Family",
          "Animation/Family",
          "Animation/Family",
          "Animation/Family",
          "Animation/Family",
          "Animation/Family",
          "Comedy",
          "Comedy",
          "Comedy",
          "Comedy",
          "Comedy",
          "Comedy",
          "Comedy",
          "Documentary",
          "Documentary",
          "Documentary",
          "Documentary",
          "Drama",
          "Drama",
          "Drama",
          "Drama",
          "Drama",
          "Drama",
          "Fantasy",
          "Horror",
          "Horror",
          "Horror",
          "Horror",
          "Romance",
          "Romance",
          "Romance",
          "Romance",
          "Romance",
          "Romance",
          "Science Fiction (Sci-Fi)",
          "Thriller/Suspense",
          "Thriller/Suspense",
          "Thriller/Suspense",
          "Thriller/Suspense",
          "Thriller/Suspense"
         ],
         "yaxis": "y",
         "ybingroup": "y",
         "z": [
          23,
          8,
          5,
          124,
          13,
          117,
          28,
          12,
          1,
          20,
          6,
          15,
          19,
          1,
          1,
          1,
          5,
          1,
          87,
          2,
          3,
          2,
          1,
          11,
          6,
          9,
          4,
          4,
          116,
          9,
          3,
          1,
          1,
          26,
          1,
          3,
          4,
          5,
          1,
          56,
          6,
          3,
          3,
          1,
          2,
          2,
          43
         ]
        }
       ],
       "layout": {
        "coloraxis": {
         "colorbar": {
          "title": {
           "text": "sum of Count"
          }
         },
         "colorscale": [
          [
           0,
           "#440154"
          ],
          [
           0.1111111111111111,
           "#482878"
          ],
          [
           0.2222222222222222,
           "#3e4989"
          ],
          [
           0.3333333333333333,
           "#31688e"
          ],
          [
           0.4444444444444444,
           "#26828e"
          ],
          [
           0.5555555555555556,
           "#1f9e89"
          ],
          [
           0.6666666666666666,
           "#35b779"
          ],
          [
           0.7777777777777778,
           "#6ece58"
          ],
          [
           0.8888888888888888,
           "#b5de2b"
          ],
          [
           1,
           "#fde725"
          ]
         ]
        },
        "legend": {
         "tracegroupgap": 0
        },
        "margin": {
         "b": 20,
         "l": 20,
         "r": 20,
         "t": 60
        },
        "template": {
         "data": {
          "bar": [
           {
            "error_x": {
             "color": "#2a3f5f"
            },
            "error_y": {
             "color": "#2a3f5f"
            },
            "marker": {
             "line": {
              "color": "#E5ECF6",
              "width": 0.5
             },
             "pattern": {
              "fillmode": "overlay",
              "size": 10,
              "solidity": 0.2
             }
            },
            "type": "bar"
           }
          ],
          "barpolar": [
           {
            "marker": {
             "line": {
              "color": "#E5ECF6",
              "width": 0.5
             },
             "pattern": {
              "fillmode": "overlay",
              "size": 10,
              "solidity": 0.2
             }
            },
            "type": "barpolar"
           }
          ],
          "carpet": [
           {
            "aaxis": {
             "endlinecolor": "#2a3f5f",
             "gridcolor": "white",
             "linecolor": "white",
             "minorgridcolor": "white",
             "startlinecolor": "#2a3f5f"
            },
            "baxis": {
             "endlinecolor": "#2a3f5f",
             "gridcolor": "white",
             "linecolor": "white",
             "minorgridcolor": "white",
             "startlinecolor": "#2a3f5f"
            },
            "type": "carpet"
           }
          ],
          "choropleth": [
           {
            "colorbar": {
             "outlinewidth": 0,
             "ticks": ""
            },
            "type": "choropleth"
           }
          ],
          "contour": [
           {
            "colorbar": {
             "outlinewidth": 0,
             "ticks": ""
            },
            "colorscale": [
             [
              0,
              "#0d0887"
             ],
             [
              0.1111111111111111,
              "#46039f"
             ],
             [
              0.2222222222222222,
              "#7201a8"
             ],
             [
              0.3333333333333333,
              "#9c179e"
             ],
             [
              0.4444444444444444,
              "#bd3786"
             ],
             [
              0.5555555555555556,
              "#d8576b"
             ],
             [
              0.6666666666666666,
              "#ed7953"
             ],
             [
              0.7777777777777778,
              "#fb9f3a"
             ],
             [
              0.8888888888888888,
              "#fdca26"
             ],
             [
              1,
              "#f0f921"
             ]
            ],
            "type": "contour"
           }
          ],
          "contourcarpet": [
           {
            "colorbar": {
             "outlinewidth": 0,
             "ticks": ""
            },
            "type": "contourcarpet"
           }
          ],
          "heatmap": [
           {
            "colorbar": {
             "outlinewidth": 0,
             "ticks": ""
            },
            "colorscale": [
             [
              0,
              "#0d0887"
             ],
             [
              0.1111111111111111,
              "#46039f"
             ],
             [
              0.2222222222222222,
              "#7201a8"
             ],
             [
              0.3333333333333333,
              "#9c179e"
             ],
             [
              0.4444444444444444,
              "#bd3786"
             ],
             [
              0.5555555555555556,
              "#d8576b"
             ],
             [
              0.6666666666666666,
              "#ed7953"
             ],
             [
              0.7777777777777778,
              "#fb9f3a"
             ],
             [
              0.8888888888888888,
              "#fdca26"
             ],
             [
              1,
              "#f0f921"
             ]
            ],
            "type": "heatmap"
           }
          ],
          "heatmapgl": [
           {
            "colorbar": {
             "outlinewidth": 0,
             "ticks": ""
            },
            "colorscale": [
             [
              0,
              "#0d0887"
             ],
             [
              0.1111111111111111,
              "#46039f"
             ],
             [
              0.2222222222222222,
              "#7201a8"
             ],
             [
              0.3333333333333333,
              "#9c179e"
             ],
             [
              0.4444444444444444,
              "#bd3786"
             ],
             [
              0.5555555555555556,
              "#d8576b"
             ],
             [
              0.6666666666666666,
              "#ed7953"
             ],
             [
              0.7777777777777778,
              "#fb9f3a"
             ],
             [
              0.8888888888888888,
              "#fdca26"
             ],
             [
              1,
              "#f0f921"
             ]
            ],
            "type": "heatmapgl"
           }
          ],
          "histogram": [
           {
            "marker": {
             "pattern": {
              "fillmode": "overlay",
              "size": 10,
              "solidity": 0.2
             }
            },
            "type": "histogram"
           }
          ],
          "histogram2d": [
           {
            "colorbar": {
             "outlinewidth": 0,
             "ticks": ""
            },
            "colorscale": [
             [
              0,
              "#0d0887"
             ],
             [
              0.1111111111111111,
              "#46039f"
             ],
             [
              0.2222222222222222,
              "#7201a8"
             ],
             [
              0.3333333333333333,
              "#9c179e"
             ],
             [
              0.4444444444444444,
              "#bd3786"
             ],
             [
              0.5555555555555556,
              "#d8576b"
             ],
             [
              0.6666666666666666,
              "#ed7953"
             ],
             [
              0.7777777777777778,
              "#fb9f3a"
             ],
             [
              0.8888888888888888,
              "#fdca26"
             ],
             [
              1,
              "#f0f921"
             ]
            ],
            "type": "histogram2d"
           }
          ],
          "histogram2dcontour": [
           {
            "colorbar": {
             "outlinewidth": 0,
             "ticks": ""
            },
            "colorscale": [
             [
              0,
              "#0d0887"
             ],
             [
              0.1111111111111111,
              "#46039f"
             ],
             [
              0.2222222222222222,
              "#7201a8"
             ],
             [
              0.3333333333333333,
              "#9c179e"
             ],
             [
              0.4444444444444444,
              "#bd3786"
             ],
             [
              0.5555555555555556,
              "#d8576b"
             ],
             [
              0.6666666666666666,
              "#ed7953"
             ],
             [
              0.7777777777777778,
              "#fb9f3a"
             ],
             [
              0.8888888888888888,
              "#fdca26"
             ],
             [
              1,
              "#f0f921"
             ]
            ],
            "type": "histogram2dcontour"
           }
          ],
          "mesh3d": [
           {
            "colorbar": {
             "outlinewidth": 0,
             "ticks": ""
            },
            "type": "mesh3d"
           }
          ],
          "parcoords": [
           {
            "line": {
             "colorbar": {
              "outlinewidth": 0,
              "ticks": ""
             }
            },
            "type": "parcoords"
           }
          ],
          "pie": [
           {
            "automargin": true,
            "type": "pie"
           }
          ],
          "scatter": [
           {
            "fillpattern": {
             "fillmode": "overlay",
             "size": 10,
             "solidity": 0.2
            },
            "type": "scatter"
           }
          ],
          "scatter3d": [
           {
            "line": {
             "colorbar": {
              "outlinewidth": 0,
              "ticks": ""
             }
            },
            "marker": {
             "colorbar": {
              "outlinewidth": 0,
              "ticks": ""
             }
            },
            "type": "scatter3d"
           }
          ],
          "scattercarpet": [
           {
            "marker": {
             "colorbar": {
              "outlinewidth": 0,
              "ticks": ""
             }
            },
            "type": "scattercarpet"
           }
          ],
          "scattergeo": [
           {
            "marker": {
             "colorbar": {
              "outlinewidth": 0,
              "ticks": ""
             }
            },
            "type": "scattergeo"
           }
          ],
          "scattergl": [
           {
            "marker": {
             "colorbar": {
              "outlinewidth": 0,
              "ticks": ""
             }
            },
            "type": "scattergl"
           }
          ],
          "scattermapbox": [
           {
            "marker": {
             "colorbar": {
              "outlinewidth": 0,
              "ticks": ""
             }
            },
            "type": "scattermapbox"
           }
          ],
          "scatterpolar": [
           {
            "marker": {
             "colorbar": {
              "outlinewidth": 0,
              "ticks": ""
             }
            },
            "type": "scatterpolar"
           }
          ],
          "scatterpolargl": [
           {
            "marker": {
             "colorbar": {
              "outlinewidth": 0,
              "ticks": ""
             }
            },
            "type": "scatterpolargl"
           }
          ],
          "scatterternary": [
           {
            "marker": {
             "colorbar": {
              "outlinewidth": 0,
              "ticks": ""
             }
            },
            "type": "scatterternary"
           }
          ],
          "surface": [
           {
            "colorbar": {
             "outlinewidth": 0,
             "ticks": ""
            },
            "colorscale": [
             [
              0,
              "#0d0887"
             ],
             [
              0.1111111111111111,
              "#46039f"
             ],
             [
              0.2222222222222222,
              "#7201a8"
             ],
             [
              0.3333333333333333,
              "#9c179e"
             ],
             [
              0.4444444444444444,
              "#bd3786"
             ],
             [
              0.5555555555555556,
              "#d8576b"
             ],
             [
              0.6666666666666666,
              "#ed7953"
             ],
             [
              0.7777777777777778,
              "#fb9f3a"
             ],
             [
              0.8888888888888888,
              "#fdca26"
             ],
             [
              1,
              "#f0f921"
             ]
            ],
            "type": "surface"
           }
          ],
          "table": [
           {
            "cells": {
             "fill": {
              "color": "#EBF0F8"
             },
             "line": {
              "color": "white"
             }
            },
            "header": {
             "fill": {
              "color": "#C8D4E3"
             },
             "line": {
              "color": "white"
             }
            },
            "type": "table"
           }
          ]
         },
         "layout": {
          "annotationdefaults": {
           "arrowcolor": "#2a3f5f",
           "arrowhead": 0,
           "arrowwidth": 1
          },
          "autotypenumbers": "strict",
          "coloraxis": {
           "colorbar": {
            "outlinewidth": 0,
            "ticks": ""
           }
          },
          "colorscale": {
           "diverging": [
            [
             0,
             "#8e0152"
            ],
            [
             0.1,
             "#c51b7d"
            ],
            [
             0.2,
             "#de77ae"
            ],
            [
             0.3,
             "#f1b6da"
            ],
            [
             0.4,
             "#fde0ef"
            ],
            [
             0.5,
             "#f7f7f7"
            ],
            [
             0.6,
             "#e6f5d0"
            ],
            [
             0.7,
             "#b8e186"
            ],
            [
             0.8,
             "#7fbc41"
            ],
            [
             0.9,
             "#4d9221"
            ],
            [
             1,
             "#276419"
            ]
           ],
           "sequential": [
            [
             0,
             "#0d0887"
            ],
            [
             0.1111111111111111,
             "#46039f"
            ],
            [
             0.2222222222222222,
             "#7201a8"
            ],
            [
             0.3333333333333333,
             "#9c179e"
            ],
            [
             0.4444444444444444,
             "#bd3786"
            ],
            [
             0.5555555555555556,
             "#d8576b"
            ],
            [
             0.6666666666666666,
             "#ed7953"
            ],
            [
             0.7777777777777778,
             "#fb9f3a"
            ],
            [
             0.8888888888888888,
             "#fdca26"
            ],
            [
             1,
             "#f0f921"
            ]
           ],
           "sequentialminus": [
            [
             0,
             "#0d0887"
            ],
            [
             0.1111111111111111,
             "#46039f"
            ],
            [
             0.2222222222222222,
             "#7201a8"
            ],
            [
             0.3333333333333333,
             "#9c179e"
            ],
            [
             0.4444444444444444,
             "#bd3786"
            ],
            [
             0.5555555555555556,
             "#d8576b"
            ],
            [
             0.6666666666666666,
             "#ed7953"
            ],
            [
             0.7777777777777778,
             "#fb9f3a"
            ],
            [
             0.8888888888888888,
             "#fdca26"
            ],
            [
             1,
             "#f0f921"
            ]
           ]
          },
          "colorway": [
           "#636efa",
           "#EF553B",
           "#00cc96",
           "#ab63fa",
           "#FFA15A",
           "#19d3f3",
           "#FF6692",
           "#B6E880",
           "#FF97FF",
           "#FECB52"
          ],
          "font": {
           "color": "#2a3f5f"
          },
          "geo": {
           "bgcolor": "white",
           "lakecolor": "white",
           "landcolor": "#E5ECF6",
           "showlakes": true,
           "showland": true,
           "subunitcolor": "white"
          },
          "hoverlabel": {
           "align": "left"
          },
          "hovermode": "closest",
          "mapbox": {
           "style": "light"
          },
          "paper_bgcolor": "white",
          "plot_bgcolor": "#E5ECF6",
          "polar": {
           "angularaxis": {
            "gridcolor": "white",
            "linecolor": "white",
            "ticks": ""
           },
           "bgcolor": "#E5ECF6",
           "radialaxis": {
            "gridcolor": "white",
            "linecolor": "white",
            "ticks": ""
           }
          },
          "scene": {
           "xaxis": {
            "backgroundcolor": "#E5ECF6",
            "gridcolor": "white",
            "gridwidth": 2,
            "linecolor": "white",
            "showbackground": true,
            "ticks": "",
            "zerolinecolor": "white"
           },
           "yaxis": {
            "backgroundcolor": "#E5ECF6",
            "gridcolor": "white",
            "gridwidth": 2,
            "linecolor": "white",
            "showbackground": true,
            "ticks": "",
            "zerolinecolor": "white"
           },
           "zaxis": {
            "backgroundcolor": "#E5ECF6",
            "gridcolor": "white",
            "gridwidth": 2,
            "linecolor": "white",
            "showbackground": true,
            "ticks": "",
            "zerolinecolor": "white"
           }
          },
          "shapedefaults": {
           "line": {
            "color": "#2a3f5f"
           }
          },
          "ternary": {
           "aaxis": {
            "gridcolor": "white",
            "linecolor": "white",
            "ticks": ""
           },
           "baxis": {
            "gridcolor": "white",
            "linecolor": "white",
            "ticks": ""
           },
           "bgcolor": "#E5ECF6",
           "caxis": {
            "gridcolor": "white",
            "linecolor": "white",
            "ticks": ""
           }
          },
          "title": {
           "x": 0.05
          },
          "xaxis": {
           "automargin": true,
           "gridcolor": "white",
           "linecolor": "white",
           "ticks": "",
           "title": {
            "standoff": 15
           },
           "zerolinecolor": "white",
           "zerolinewidth": 2
          },
          "yaxis": {
           "automargin": true,
           "gridcolor": "white",
           "linecolor": "white",
           "ticks": "",
           "title": {
            "standoff": 15
           },
           "zerolinecolor": "white",
           "zerolinewidth": 2
          }
         }
        },
        "title": {
         "text": "Character Ethnicity Representation Across Top Genres",
         "x": 0.5
        },
        "xaxis": {
         "anchor": "y",
         "domain": [
          0,
          1
         ],
         "tickfont": {
          "size": 10
         },
         "title": {
          "text": "actor_ethnicity_label"
         }
        },
        "yaxis": {
         "anchor": "x",
         "domain": [
          0,
          1
         ],
         "tickfont": {
          "size": 10
         },
         "title": {
          "text": "main_genre"
         }
        }
       }
      }
     },
     "metadata": {},
     "output_type": "display_data"
    }
   ],
   "source": [
    "plot_interactive_ethnicity_genre_heatmap(eastasia_data, 'main_genre', 'actor_ethnicity_label', east_asian_ethnicities, num_top_genres=10)"
   ]
  }
 ],
 "metadata": {
  "kernelspec": {
   "display_name": "Python 3 (ipykernel)",
   "language": "python",
   "name": "python3"
  },
  "language_info": {
   "codemirror_mode": {
    "name": "ipython",
    "version": 3
   },
   "file_extension": ".py",
   "mimetype": "text/x-python",
   "name": "python",
   "nbconvert_exporter": "python",
   "pygments_lexer": "ipython3",
   "version": "3.11.9"
  }
 },
 "nbformat": 4,
 "nbformat_minor": 5
}
